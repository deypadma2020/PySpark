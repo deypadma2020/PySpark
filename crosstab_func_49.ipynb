{
 "cells": [
  {
   "cell_type": "markdown",
   "id": "01a2b0ae",
   "metadata": {},
   "source": [
    "- crosstab() creates a contingency table (cross-tabulation) between two columns. \n",
    "- It shows the frequency count for combinations of two categorical columns.\n",
    "- commonly use for comparing categories and finding relationships between columns.\n",
    "- Syntax:\n",
    "    df.crosstab(col1, col2)"
   ]
  },
  {
   "cell_type": "code",
   "execution_count": 1,
   "id": "80f76af0",
   "metadata": {},
   "outputs": [
    {
     "name": "stderr",
     "output_type": "stream",
     "text": [
      "WARNING: Using incubator modules: jdk.incubator.vector\n",
      "Using Spark's default log4j profile: org/apache/spark/log4j2-defaults.properties\n",
      "25/09/16 15:09:27 WARN Utils: Your hostname, KLZPC0015, resolves to a loopback address: 127.0.1.1; using 172.25.17.96 instead (on interface eth0)\n",
      "25/09/16 15:09:27 WARN Utils: Set SPARK_LOCAL_IP if you need to bind to another address\n",
      "Using Spark's default log4j profile: org/apache/spark/log4j2-defaults.properties\n",
      "Setting default log level to \"WARN\".\n",
      "To adjust logging level use sc.setLogLevel(newLevel). For SparkR, use setLogLevel(newLevel).\n",
      "25/09/16 15:09:38 WARN NativeCodeLoader: Unable to load native-hadoop library for your platform... using builtin-java classes where applicable\n",
      "25/09/16 15:09:40 WARN Utils: Service 'SparkUI' could not bind on port 4040. Attempting port 4041.\n"
     ]
    }
   ],
   "source": [
    "from pyspark.sql import SparkSession\n",
    "\n",
    "spark = SparkSession.builder.appName(\"crosstabFunctionExample\").getOrCreate()\n"
   ]
  },
  {
   "cell_type": "code",
   "execution_count": 2,
   "id": "d1e7952a",
   "metadata": {},
   "outputs": [
    {
     "name": "stderr",
     "output_type": "stream",
     "text": [
      "[Stage 1:===================>                                       (1 + 2) / 3]\r"
     ]
    },
    {
     "name": "stdout",
     "output_type": "stream",
     "text": [
      "+---+------+-------+\n",
      "| ID|  Name|Country|\n",
      "+---+------+-------+\n",
      "|  1| Padma|  India|\n",
      "|  2| Padma|Ireland|\n",
      "|  3|Arvind|Ireland|\n",
      "|  4|Arvind|  India|\n",
      "|  5| Soumi|  India|\n",
      "|  6| Soumi|Germany|\n",
      "|  7|  Riya|  Japan|\n",
      "|  8|  Riya|     UK|\n",
      "|  9|  Riya|    USA|\n",
      "| 10|  Riya|    AUS|\n",
      "+---+------+-------+\n",
      "\n"
     ]
    },
    {
     "name": "stderr",
     "output_type": "stream",
     "text": [
      "                                                                                \r"
     ]
    }
   ],
   "source": [
    "data = [\n",
    "    (1, \"Padma\", \"India\"),\n",
    "    (2, \"Padma\", \"Ireland\"),\n",
    "    (3, \"Arvind\", \"Ireland\"),\n",
    "    (4, \"Arvind\", \"India\"),\n",
    "    (5, \"Soumi\", \"India\"),\n",
    "    (6, \"Soumi\", \"Germany\"),\n",
    "    (7, \"Riya\", \"Japan\"),\n",
    "    (8, \"Riya\", \"UK\"),\n",
    "    (9, \"Riya\", \"USA\"),\n",
    "    (10, \"Riya\", \"AUS\")\n",
    "]\n",
    "\n",
    "columns = [\"ID\", \"Name\", \"Country\"]\n",
    "df = spark.createDataFrame(data, columns)\n",
    "df.show()\n",
    "\n"
   ]
  },
  {
   "cell_type": "code",
   "execution_count": 3,
   "id": "1b5f7f18",
   "metadata": {},
   "outputs": [
    {
     "name": "stderr",
     "output_type": "stream",
     "text": [
      "                                                                                \r"
     ]
    },
    {
     "name": "stdout",
     "output_type": "stream",
     "text": [
      "Crosstab between name and country: \n"
     ]
    },
    {
     "name": "stderr",
     "output_type": "stream",
     "text": [
      "[Stage 10:=============================>                            (2 + 2) / 4]\r"
     ]
    },
    {
     "name": "stdout",
     "output_type": "stream",
     "text": [
      "+------------+---+-------+-----+-------+-----+---+---+\n",
      "|name_country|AUS|Germany|India|Ireland|Japan|UK |USA|\n",
      "+------------+---+-------+-----+-------+-----+---+---+\n",
      "|Padma       |0  |0      |1    |1      |0    |0  |0  |\n",
      "|Soumi       |0  |1      |1    |0      |0    |0  |0  |\n",
      "|Riya        |1  |0      |0    |0      |1    |1  |1  |\n",
      "|Arvind      |0  |0      |1    |1      |0    |0  |0  |\n",
      "+------------+---+-------+-----+-------+-----+---+---+\n",
      "\n"
     ]
    },
    {
     "name": "stderr",
     "output_type": "stream",
     "text": [
      "                                                                                \r"
     ]
    }
   ],
   "source": [
    "# Example: Crosstab between name and country\n",
    "# crosstab() counts how many times each name appears in each country.\n",
    "\n",
    "crosstab_df = df.crosstab(\"name\", \"country\")\n",
    "\n",
    "print(\"Crosstab between name and country: \")\n",
    "crosstab_df.show(truncate=False)\n"
   ]
  },
  {
   "cell_type": "markdown",
   "id": "ef4f7169",
   "metadata": {},
   "source": [
    "- Explanation:\n",
    "    - The result is a DataFrame where:\n",
    "        - Each row represents a distinct value from the 'name' column.\n",
    "        - Each column (besides name_country) represents distinct values from the 'country' column.\n",
    "        - The cells show the count of occurrences for each combination.\n",
    "\n",
    "    - Nulls and missing combinations are represented as 0."
   ]
  },
  {
   "cell_type": "code",
   "execution_count": 4,
   "id": "d9173f55",
   "metadata": {},
   "outputs": [
    {
     "name": "stderr",
     "output_type": "stream",
     "text": [
      "                                                                                \r"
     ]
    },
    {
     "name": "stdout",
     "output_type": "stream",
     "text": [
      "Crosstab between country and name: \n"
     ]
    },
    {
     "name": "stderr",
     "output_type": "stream",
     "text": [
      "[Stage 24:=============================>                            (2 + 2) / 4]\r"
     ]
    },
    {
     "name": "stdout",
     "output_type": "stream",
     "text": [
      "+------------+------+-----+----+-----+\n",
      "|country_name|Arvind|Padma|Riya|Soumi|\n",
      "+------------+------+-----+----+-----+\n",
      "|Germany     |0     |0    |0   |1    |\n",
      "|AUS         |0     |0    |1   |0    |\n",
      "|India       |1     |1    |0   |1    |\n",
      "|Ireland     |1     |1    |0   |0    |\n",
      "|USA         |0     |0    |1   |0    |\n",
      "|UK          |0     |0    |1   |0    |\n",
      "|Japan       |0     |0    |1   |0    |\n",
      "+------------+------+-----+----+-----+\n",
      "\n"
     ]
    },
    {
     "name": "stderr",
     "output_type": "stream",
     "text": [
      "                                                                                \r"
     ]
    }
   ],
   "source": [
    "# Example: Crosstab between country and name(swapped)\n",
    "# can swap the columns to change the perspective.\n",
    "\n",
    "crosstab_country_name = df.crosstab(\"country\", \"name\")\n",
    "\n",
    "print(\"Crosstab between country and name: \")\n",
    "crosstab_country_name.show(truncate=False)\n"
   ]
  },
  {
   "cell_type": "code",
   "execution_count": null,
   "id": "84a75ba0",
   "metadata": {},
   "outputs": [],
   "source": []
  }
 ],
 "metadata": {
  "kernelspec": {
   "display_name": "Python 3",
   "language": "python",
   "name": "python3"
  },
  "language_info": {
   "codemirror_mode": {
    "name": "ipython",
    "version": 3
   },
   "file_extension": ".py",
   "mimetype": "text/x-python",
   "name": "python",
   "nbconvert_exporter": "python",
   "pygments_lexer": "ipython3",
   "version": "3.12.11"
  }
 },
 "nbformat": 4,
 "nbformat_minor": 5
}
