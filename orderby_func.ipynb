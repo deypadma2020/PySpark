{
 "cells": [
  {
   "cell_type": "code",
   "execution_count": 1,
   "id": "42f4fe3b",
   "metadata": {},
   "outputs": [
    {
     "name": "stderr",
     "output_type": "stream",
     "text": [
      "your 131072x1 screen size is bogus. expect trouble\n",
      "25/08/19 14:46:29 WARN Utils: Your hostname, KLZPC0015 resolves to a loopback address: 127.0.1.1; using 172.25.17.96 instead (on interface eth0)\n",
      "25/08/19 14:46:29 WARN Utils: Set SPARK_LOCAL_IP if you need to bind to another address\n",
      "Setting default log level to \"WARN\".\n",
      "To adjust logging level use sc.setLogLevel(newLevel). For SparkR, use setLogLevel(newLevel).\n",
      "25/08/19 14:46:32 WARN NativeCodeLoader: Unable to load native-hadoop library for your platform... using builtin-java classes where applicable\n"
     ]
    }
   ],
   "source": [
    "from pyspark.sql import SparkSession, Row\n",
    "\n",
    "spark = SparkSession.builder.appName(\"RowExample\").getOrCreate()\n"
   ]
  },
  {
   "cell_type": "code",
   "execution_count": 2,
   "id": "a5d78f41",
   "metadata": {},
   "outputs": [],
   "source": [
    "data = [\n",
    "    (1, \"Manta\", 75000, \"IT\", 24),\n",
    "    (2, \"Dipankar\", 30000, \"Post Master\", 27),\n",
    "    (3, \"Souvik\", 60000, \"Army Officer\", 27),\n",
    "    (4, \"Soukarjya\", 45000, \"BDO\", 26),\n",
    "    (5, \"Arvind\", 35000, \"Business Data Analyst\", 28)\n",
    "]\n"
   ]
  },
  {
   "cell_type": "code",
   "execution_count": 3,
   "id": "60ffb097",
   "metadata": {},
   "outputs": [
    {
     "name": "stderr",
     "output_type": "stream",
     "text": [
      "                                                                                \r"
     ]
    },
    {
     "name": "stdout",
     "output_type": "stream",
     "text": [
      "+---+---------+------+--------------------+---+\n",
      "| id|     name|salary|          department|age|\n",
      "+---+---------+------+--------------------+---+\n",
      "|  1|    Manta| 75000|                  IT| 24|\n",
      "|  2| Dipankar| 30000|         Post Master| 27|\n",
      "|  3|   Souvik| 60000|        Army Officer| 27|\n",
      "|  4|Soukarjya| 45000|                 BDO| 26|\n",
      "|  5|   Arvind| 35000|Business Data Ana...| 28|\n",
      "+---+---------+------+--------------------+---+\n",
      "\n"
     ]
    }
   ],
   "source": [
    "df = spark.createDataFrame(data, [\"id\", \"name\", \"salary\", \"department\", \"age\"])\n",
    "df.show()\n"
   ]
  },
  {
   "cell_type": "code",
   "execution_count": 4,
   "id": "708d1ff0",
   "metadata": {},
   "outputs": [
    {
     "name": "stdout",
     "output_type": "stream",
     "text": [
      "Order by Salary asceding - Default:\n"
     ]
    },
    {
     "name": "stderr",
     "output_type": "stream",
     "text": [
      "[Stage 2:============================================>              (3 + 1) / 4]\r"
     ]
    },
    {
     "name": "stdout",
     "output_type": "stream",
     "text": [
      "+---+---------+------+--------------------+---+\n",
      "| id|     name|salary|          department|age|\n",
      "+---+---------+------+--------------------+---+\n",
      "|  2| Dipankar| 30000|         Post Master| 27|\n",
      "|  5|   Arvind| 35000|Business Data Ana...| 28|\n",
      "|  4|Soukarjya| 45000|                 BDO| 26|\n",
      "|  3|   Souvik| 60000|        Army Officer| 27|\n",
      "|  1|    Manta| 75000|                  IT| 24|\n",
      "+---+---------+------+--------------------+---+\n",
      "\n"
     ]
    },
    {
     "name": "stderr",
     "output_type": "stream",
     "text": [
      "                                                                                \r"
     ]
    }
   ],
   "source": [
    "print(\"Order by Salary asceding - Default:\")\n",
    "df.orderBy(\"salary\").show()\n"
   ]
  },
  {
   "cell_type": "code",
   "execution_count": 5,
   "id": "28638c88",
   "metadata": {},
   "outputs": [],
   "source": [
    "from pyspark.sql.functions import col\n"
   ]
  },
  {
   "cell_type": "code",
   "execution_count": 6,
   "id": "b93e4015",
   "metadata": {},
   "outputs": [
    {
     "name": "stdout",
     "output_type": "stream",
     "text": [
      "Order by Salary (Desceding): \n"
     ]
    },
    {
     "name": "stderr",
     "output_type": "stream",
     "text": [
      "[Stage 3:>                                                          (0 + 4) / 4]\r"
     ]
    },
    {
     "name": "stdout",
     "output_type": "stream",
     "text": [
      "+---+---------+------+--------------------+---+\n",
      "| id|     name|salary|          department|age|\n",
      "+---+---------+------+--------------------+---+\n",
      "|  1|    Manta| 75000|                  IT| 24|\n",
      "|  3|   Souvik| 60000|        Army Officer| 27|\n",
      "|  4|Soukarjya| 45000|                 BDO| 26|\n",
      "|  5|   Arvind| 35000|Business Data Ana...| 28|\n",
      "|  2| Dipankar| 30000|         Post Master| 27|\n",
      "+---+---------+------+--------------------+---+\n",
      "\n"
     ]
    },
    {
     "name": "stderr",
     "output_type": "stream",
     "text": [
      "                                                                                \r"
     ]
    }
   ],
   "source": [
    "print(\"Order by Salary (Desceding): \")\n",
    "df.orderBy(col(\"salary\").desc()).show()\n"
   ]
  },
  {
   "cell_type": "code",
   "execution_count": 7,
   "id": "ed8b3cb1",
   "metadata": {},
   "outputs": [
    {
     "name": "stdout",
     "output_type": "stream",
     "text": [
      "Order by Department (Ascending) and Salary (Ascending): \n"
     ]
    },
    {
     "name": "stderr",
     "output_type": "stream",
     "text": [
      "[Stage 4:>                                                          (0 + 4) / 4]\r"
     ]
    },
    {
     "name": "stdout",
     "output_type": "stream",
     "text": [
      "+---+---------+------+--------------------+---+\n",
      "| id|     name|salary|          department|age|\n",
      "+---+---------+------+--------------------+---+\n",
      "|  3|   Souvik| 60000|        Army Officer| 27|\n",
      "|  4|Soukarjya| 45000|                 BDO| 26|\n",
      "|  5|   Arvind| 35000|Business Data Ana...| 28|\n",
      "|  1|    Manta| 75000|                  IT| 24|\n",
      "|  2| Dipankar| 30000|         Post Master| 27|\n",
      "+---+---------+------+--------------------+---+\n",
      "\n"
     ]
    },
    {
     "name": "stderr",
     "output_type": "stream",
     "text": [
      "                                                                                \r"
     ]
    }
   ],
   "source": [
    "print(\"Order by Department (Ascending) and Salary (Ascending): \")\n",
    "df.orderBy([\"department\", \"salary\"]).show()\n"
   ]
  },
  {
   "cell_type": "code",
   "execution_count": 8,
   "id": "8475db4c",
   "metadata": {},
   "outputs": [
    {
     "name": "stdout",
     "output_type": "stream",
     "text": [
      "Order by Department (Ascending) and Salary (Descending): \n"
     ]
    },
    {
     "name": "stderr",
     "output_type": "stream",
     "text": [
      "[Stage 5:>                                                          (0 + 4) / 4]\r"
     ]
    },
    {
     "name": "stdout",
     "output_type": "stream",
     "text": [
      "+---+---------+------+--------------------+---+\n",
      "| id|     name|salary|          department|age|\n",
      "+---+---------+------+--------------------+---+\n",
      "|  3|   Souvik| 60000|        Army Officer| 27|\n",
      "|  4|Soukarjya| 45000|                 BDO| 26|\n",
      "|  5|   Arvind| 35000|Business Data Ana...| 28|\n",
      "|  1|    Manta| 75000|                  IT| 24|\n",
      "|  2| Dipankar| 30000|         Post Master| 27|\n",
      "+---+---------+------+--------------------+---+\n",
      "\n"
     ]
    },
    {
     "name": "stderr",
     "output_type": "stream",
     "text": [
      "                                                                                \r"
     ]
    }
   ],
   "source": [
    "print(\"Order by Department (Ascending) and Salary (Descending): \")\n",
    "df.orderBy(col(\"department\").asc(), col(\"salary\").desc()).show()\n"
   ]
  },
  {
   "cell_type": "code",
   "execution_count": 9,
   "id": "43d94df9",
   "metadata": {},
   "outputs": [
    {
     "name": "stdout",
     "output_type": "stream",
     "text": [
      "Order by Salary (Ascending) Explicitely Set: \n"
     ]
    },
    {
     "name": "stderr",
     "output_type": "stream",
     "text": [
      "[Stage 6:>                                                          (0 + 4) / 4]\r"
     ]
    },
    {
     "name": "stdout",
     "output_type": "stream",
     "text": [
      "+---+---------+------+--------------------+---+\n",
      "| id|     name|salary|          department|age|\n",
      "+---+---------+------+--------------------+---+\n",
      "|  2| Dipankar| 30000|         Post Master| 27|\n",
      "|  5|   Arvind| 35000|Business Data Ana...| 28|\n",
      "|  4|Soukarjya| 45000|                 BDO| 26|\n",
      "|  3|   Souvik| 60000|        Army Officer| 27|\n",
      "|  1|    Manta| 75000|                  IT| 24|\n",
      "+---+---------+------+--------------------+---+\n",
      "\n"
     ]
    },
    {
     "name": "stderr",
     "output_type": "stream",
     "text": [
      "                                                                                \r"
     ]
    }
   ],
   "source": [
    "print(\"Order by Salary (Ascending) Explicitely Set: \")\n",
    "df.orderBy(col(\"salary\"), ascending=True).show()\n"
   ]
  },
  {
   "cell_type": "code",
   "execution_count": 10,
   "id": "2c75610b",
   "metadata": {},
   "outputs": [
    {
     "name": "stdout",
     "output_type": "stream",
     "text": [
      "Order by Salary (Descending) Explicitely Set:\n"
     ]
    },
    {
     "name": "stderr",
     "output_type": "stream",
     "text": [
      "[Stage 7:>                                                          (0 + 4) / 4]\r"
     ]
    },
    {
     "name": "stdout",
     "output_type": "stream",
     "text": [
      "+---+---------+------+--------------------+---+\n",
      "| id|     name|salary|          department|age|\n",
      "+---+---------+------+--------------------+---+\n",
      "|  1|    Manta| 75000|                  IT| 24|\n",
      "|  3|   Souvik| 60000|        Army Officer| 27|\n",
      "|  4|Soukarjya| 45000|                 BDO| 26|\n",
      "|  5|   Arvind| 35000|Business Data Ana...| 28|\n",
      "|  2| Dipankar| 30000|         Post Master| 27|\n",
      "+---+---------+------+--------------------+---+\n",
      "\n"
     ]
    },
    {
     "name": "stderr",
     "output_type": "stream",
     "text": [
      "                                                                                \r"
     ]
    }
   ],
   "source": [
    "print(\"Order by Salary (Descending) Explicitely Set:\")\n",
    "df.orderBy(col(\"salary\"), ascending=False).show()\n"
   ]
  },
  {
   "cell_type": "code",
   "execution_count": null,
   "id": "dde40a7e",
   "metadata": {},
   "outputs": [],
   "source": []
  }
 ],
 "metadata": {
  "kernelspec": {
   "display_name": "Python 3",
   "language": "python",
   "name": "python3"
  },
  "language_info": {
   "codemirror_mode": {
    "name": "ipython",
    "version": 3
   },
   "file_extension": ".py",
   "mimetype": "text/x-python",
   "name": "python",
   "nbconvert_exporter": "python",
   "pygments_lexer": "ipython3",
   "version": "3.12.11"
  }
 },
 "nbformat": 4,
 "nbformat_minor": 5
}
