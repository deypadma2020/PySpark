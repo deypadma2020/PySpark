{
 "cells": [
  {
   "cell_type": "markdown",
   "id": "3330d035",
   "metadata": {},
   "source": [
    "- columns() function in PySpark returns a list of column names in the DtaFrame.\n",
    "- It is useful to quickly inspect or programmatically access column names."
   ]
  },
  {
   "cell_type": "code",
   "execution_count": 1,
   "id": "fbd8d40b",
   "metadata": {},
   "outputs": [
    {
     "name": "stderr",
     "output_type": "stream",
     "text": [
      "WARNING: Using incubator modules: jdk.incubator.vector\n",
      "Using Spark's default log4j profile: org/apache/spark/log4j2-defaults.properties\n",
      "25/09/09 14:58:49 WARN Utils: Your hostname, KLZPC0015, resolves to a loopback address: 127.0.1.1; using 172.25.17.96 instead (on interface eth0)\n",
      "25/09/09 14:58:49 WARN Utils: Set SPARK_LOCAL_IP if you need to bind to another address\n",
      "Using Spark's default log4j profile: org/apache/spark/log4j2-defaults.properties\n",
      "Setting default log level to \"WARN\".\n",
      "To adjust logging level use sc.setLogLevel(newLevel). For SparkR, use setLogLevel(newLevel).\n",
      "25/09/09 14:59:03 WARN NativeCodeLoader: Unable to load native-hadoop library for your platform... using builtin-java classes where applicable\n",
      "25/09/09 14:59:06 WARN Utils: Service 'SparkUI' could not bind on port 4040. Attempting port 4041.\n",
      "25/09/09 14:59:06 WARN Utils: Service 'SparkUI' could not bind on port 4041. Attempting port 4042.\n",
      "25/09/09 14:59:06 WARN Utils: Service 'SparkUI' could not bind on port 4042. Attempting port 4043.\n"
     ]
    }
   ],
   "source": [
    "from pyspark.sql import SparkSession\n",
    "\n",
    "spark = SparkSession.builder.appName('ColumnFunctionExample').getOrCreate()\n"
   ]
  },
  {
   "cell_type": "code",
   "execution_count": 2,
   "id": "c2b56383",
   "metadata": {},
   "outputs": [
    {
     "name": "stderr",
     "output_type": "stream",
     "text": [
      "[Stage 1:===================>                                       (1 + 2) / 3]\r"
     ]
    },
    {
     "name": "stdout",
     "output_type": "stream",
     "text": [
      "+---+---------+-----------+--------------------+----+\n",
      "| id|     name|dept_salary|           dept_name| age|\n",
      "+---+---------+-----------+--------------------+----+\n",
      "|  1|    Manta|      75000|                  IT|  24|\n",
      "|  2| Dipankar|      30000|         Post Master|  27|\n",
      "|  3|   Souvik|      60000|        Army Officer|  27|\n",
      "|  4|Soukarjya|      45000|                 BDO|NULL|\n",
      "|  5|   Arvind|      35000|Business Data Ana...|  28|\n",
      "|  6| Prodipta|      25000|        Data Analyst|  28|\n",
      "|  7|    Padma|      20000|        Data Analyst|  27|\n",
      "|  8|    Panta|     125000|    Business Analyst|  27|\n",
      "|  9|  Sougato|      25000|  Para Medical Stuff|  29|\n",
      "+---+---------+-----------+--------------------+----+\n",
      "\n"
     ]
    },
    {
     "name": "stderr",
     "output_type": "stream",
     "text": [
      "                                                                                \r"
     ]
    }
   ],
   "source": [
    "# create sample dataframes\n",
    "data = [\n",
    "    (1, \"Manta\", 75000, \"IT\", 24),\n",
    "    (2, \"Dipankar\", 30000, \"Post Master\", 27),\n",
    "    (3, \"Souvik\", 60000, \"Army Officer\", 27),\n",
    "    (4, \"Soukarjya\", 45000, \"BDO\", None),\n",
    "    (5, \"Arvind\", 35000, \"Business Data Analyst\", 28),\n",
    "    (6, \"Prodipta\", 25000, \"Data Analyst\", 28),\n",
    "    (7, \"Padma\", 20000, \"Data Analyst\", 27),\n",
    "    (8, \"Panta\", 125000, \"Business Analyst\", 27),\n",
    "    (9, \"Sougato\", 25000, \"Para Medical Stuff\", 29)\n",
    "]\n",
    "\n",
    "columns = [\"id\", \"name\", \"dept_salary\", \"dept_name\", \"age\"]\n",
    "\n",
    "df = spark.createDataFrame(data, schema=columns)\n",
    "df.show()\n"
   ]
  },
  {
   "cell_type": "code",
   "execution_count": 3,
   "id": "3a3d3545",
   "metadata": {},
   "outputs": [
    {
     "name": "stdout",
     "output_type": "stream",
     "text": [
      "List of columns in the DataFrame: \n",
      "['id', 'name', 'dept_salary', 'dept_name', 'age']\n"
     ]
    }
   ],
   "source": [
    "# Use columns() to list column names\n",
    "print(\"List of columns in the DataFrame: \")\n",
    "print(df.columns)\n"
   ]
  },
  {
   "cell_type": "code",
   "execution_count": 4,
   "id": "e0561c3f",
   "metadata": {},
   "outputs": [
    {
     "name": "stdout",
     "output_type": "stream",
     "text": [
      "id\n",
      "name\n",
      "dept_salary\n",
      "dept_name\n",
      "age\n"
     ]
    }
   ],
   "source": [
    "# can also loop through columns \n",
    "for col in df.columns:\n",
    "    print(col)\n"
   ]
  },
  {
   "cell_type": "code",
   "execution_count": null,
   "id": "afe97644",
   "metadata": {},
   "outputs": [],
   "source": []
  }
 ],
 "metadata": {
  "kernelspec": {
   "display_name": "Python 3",
   "language": "python",
   "name": "python3"
  },
  "language_info": {
   "codemirror_mode": {
    "name": "ipython",
    "version": 3
   },
   "file_extension": ".py",
   "mimetype": "text/x-python",
   "name": "python",
   "nbconvert_exporter": "python",
   "pygments_lexer": "ipython3",
   "version": "3.12.11"
  }
 },
 "nbformat": 4,
 "nbformat_minor": 5
}
