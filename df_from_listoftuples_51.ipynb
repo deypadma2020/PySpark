{
 "cells": [
  {
   "cell_type": "code",
   "execution_count": 1,
   "id": "8801ff89",
   "metadata": {},
   "outputs": [
    {
     "name": "stderr",
     "output_type": "stream",
     "text": [
      "your 131072x1 screen size is bogus. expect trouble\n",
      "25/08/19 13:02:06 WARN Utils: Your hostname, KLZPC0015 resolves to a loopback address: 127.0.1.1; using 172.25.17.96 instead (on interface eth0)\n",
      "25/08/19 13:02:06 WARN Utils: Set SPARK_LOCAL_IP if you need to bind to another address\n",
      "Setting default log level to \"WARN\".\n",
      "To adjust logging level use sc.setLogLevel(newLevel). For SparkR, use setLogLevel(newLevel).\n",
      "25/08/19 13:02:11 WARN NativeCodeLoader: Unable to load native-hadoop library for your platform... using builtin-java classes where applicable\n",
      "25/08/19 13:02:17 WARN Utils: Service 'SparkUI' could not bind on port 4040. Attempting port 4041.\n",
      "25/08/19 13:02:17 WARN Utils: Service 'SparkUI' could not bind on port 4041. Attempting port 4042.\n",
      "25/08/19 13:02:17 WARN Utils: Service 'SparkUI' could not bind on port 4042. Attempting port 4043.\n"
     ]
    }
   ],
   "source": [
    "from pyspark.sql import SparkSession, Row\n",
    "\n",
    "spark = SparkSession.builder.appName(\"RowExample\").getOrCreate()\n"
   ]
  },
  {
   "cell_type": "markdown",
   "id": "db02daed",
   "metadata": {},
   "source": [
    "### Creating DataFrame from a List of Tuples (Static Values)"
   ]
  },
  {
   "cell_type": "code",
   "execution_count": 2,
   "id": "d816f8dc",
   "metadata": {},
   "outputs": [],
   "source": [
    "data = [\n",
    "    Row(name=\"Souvik\", age=26, id=1),\n",
    "    Row(name=\"Soukajya\", age=26, id=2),\n",
    "    Row(age=27, id=3, name=\"Akash\")\n",
    "]\n"
   ]
  },
  {
   "cell_type": "code",
   "execution_count": 3,
   "id": "5c26635d",
   "metadata": {},
   "outputs": [
    {
     "name": "stderr",
     "output_type": "stream",
     "text": [
      "                                                                                \r"
     ]
    },
    {
     "name": "stdout",
     "output_type": "stream",
     "text": [
      "+--------+---+----+\n",
      "|    name|age|  id|\n",
      "+--------+---+----+\n",
      "|  Souvik| 26|   1|\n",
      "|Soukajya| 26|   2|\n",
      "|      27|  3|NULL|\n",
      "+--------+---+----+\n",
      "\n"
     ]
    }
   ],
   "source": [
    "df = spark.createDataFrame(data)\n",
    "df.show()\n"
   ]
  },
  {
   "cell_type": "markdown",
   "id": "2898fb08",
   "metadata": {},
   "source": [
    "#### To fix this column order issue - "
   ]
  },
  {
   "cell_type": "markdown",
   "id": "12001fb5",
   "metadata": {},
   "source": [
    "##### Option 1: Use Consistant Row defination"
   ]
  },
  {
   "cell_type": "code",
   "execution_count": 4,
   "id": "bcfb2486",
   "metadata": {},
   "outputs": [
    {
     "name": "stderr",
     "output_type": "stream",
     "text": [
      "[Stage 3:>                                                          (0 + 3) / 3]\r"
     ]
    },
    {
     "name": "stdout",
     "output_type": "stream",
     "text": [
      "+--------+---+---+\n",
      "|    name|age| id|\n",
      "+--------+---+---+\n",
      "|  Souvik| 26|  1|\n",
      "|Soukajya| 26|  2|\n",
      "|   Akash| 27|  3|\n",
      "+--------+---+---+\n",
      "\n"
     ]
    },
    {
     "name": "stderr",
     "output_type": "stream",
     "text": [
      "                                                                                \r"
     ]
    }
   ],
   "source": [
    "data = [\n",
    "    Row(name=\"Souvik\", age=26, id=1),\n",
    "    Row(name=\"Soukajya\", age=26, id=2),\n",
    "    Row(name=\"Akash\", age=27, id=3)   # fixed order\n",
    "]\n",
    "\n",
    "df = spark.createDataFrame(data)\n",
    "df.show()\n"
   ]
  },
  {
   "cell_type": "markdown",
   "id": "84600c97",
   "metadata": {},
   "source": [
    "##### Option 2: Define a schema explicitly"
   ]
  },
  {
   "cell_type": "code",
   "execution_count": 5,
   "id": "92a03e5e",
   "metadata": {},
   "outputs": [
    {
     "name": "stderr",
     "output_type": "stream",
     "text": [
      "[Stage 5:>                                                          (0 + 3) / 3]\r"
     ]
    },
    {
     "name": "stdout",
     "output_type": "stream",
     "text": [
      "+--------+---+---+\n",
      "|    name|age| id|\n",
      "+--------+---+---+\n",
      "|  Souvik| 26|  1|\n",
      "|Soukajya| 26|  2|\n",
      "|   Akash| 27|  3|\n",
      "+--------+---+---+\n",
      "\n"
     ]
    },
    {
     "name": "stderr",
     "output_type": "stream",
     "text": [
      "                                                                                \r"
     ]
    }
   ],
   "source": [
    "from pyspark.sql.types import StructType, StructField, StringType, IntegerType\n",
    "\n",
    "schema = StructType([\n",
    "    StructField(\"name\", StringType(), True),\n",
    "    StructField(\"age\", IntegerType(), True),\n",
    "    StructField(\"id\", IntegerType(), True),\n",
    "])\n",
    "\n",
    "\n",
    "df = spark.createDataFrame(data, schema=schema)\n",
    "df.show()\n"
   ]
  },
  {
   "cell_type": "code",
   "execution_count": 6,
   "id": "5b3d4039",
   "metadata": {},
   "outputs": [
    {
     "name": "stdout",
     "output_type": "stream",
     "text": [
      "root\n",
      " |-- name: string (nullable = true)\n",
      " |-- age: integer (nullable = true)\n",
      " |-- id: integer (nullable = true)\n",
      "\n"
     ]
    }
   ],
   "source": [
    "df.printSchema()\n"
   ]
  },
  {
   "cell_type": "code",
   "execution_count": null,
   "id": "6b5df31a",
   "metadata": {},
   "outputs": [],
   "source": []
  }
 ],
 "metadata": {
  "kernelspec": {
   "display_name": "Python 3",
   "language": "python",
   "name": "python3"
  },
  "language_info": {
   "codemirror_mode": {
    "name": "ipython",
    "version": 3
   },
   "file_extension": ".py",
   "mimetype": "text/x-python",
   "name": "python",
   "nbconvert_exporter": "python",
   "pygments_lexer": "ipython3",
   "version": "3.12.11"
  }
 },
 "nbformat": 4,
 "nbformat_minor": 5
}
