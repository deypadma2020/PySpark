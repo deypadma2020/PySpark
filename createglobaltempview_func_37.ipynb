{
 "cells": [
  {
   "cell_type": "markdown",
   "id": "4a68f960",
   "metadata": {},
   "source": [
    "- createGlobalTempView() registers a DataFrame as a global temporary view.\n",
    "\n",
    "- Unlike createTempView(), the global temp view is accessible across different Spark sessions.\n",
    "\n",
    "- It is stored in the global_temp database and can be queried from anywhere in the same Spark application."
   ]
  },
  {
   "cell_type": "code",
   "execution_count": 3,
   "id": "b7b82a48",
   "metadata": {},
   "outputs": [
    {
     "name": "stderr",
     "output_type": "stream",
     "text": [
      "WARNING: Using incubator modules: jdk.incubator.vector\n",
      "Using Spark's default log4j profile: org/apache/spark/log4j2-defaults.properties\n",
      "25/09/15 07:37:46 WARN Utils: Your hostname, KLZPC0015, resolves to a loopback address: 127.0.1.1; using 172.25.17.96 instead (on interface eth0)\n",
      "25/09/15 07:37:46 WARN Utils: Set SPARK_LOCAL_IP if you need to bind to another address\n",
      "Using Spark's default log4j profile: org/apache/spark/log4j2-defaults.properties\n",
      "Setting default log level to \"WARN\".\n",
      "To adjust logging level use sc.setLogLevel(newLevel). For SparkR, use setLogLevel(newLevel).\n",
      "25/09/15 07:37:59 WARN NativeCodeLoader: Unable to load native-hadoop library for your platform... using builtin-java classes where applicable\n",
      "25/09/15 07:38:02 WARN Utils: Service 'SparkUI' could not bind on port 4040. Attempting port 4041.\n"
     ]
    }
   ],
   "source": [
    "from pyspark.sql import SparkSession\n",
    "\n",
    "spark = SparkSession.builder.appName(\"createGlobalTempViewFunction\").getOrCreate()\n"
   ]
  },
  {
   "cell_type": "code",
   "execution_count": 4,
   "id": "11ea0da0",
   "metadata": {},
   "outputs": [
    {
     "name": "stderr",
     "output_type": "stream",
     "text": [
      "                                                                                \r"
     ]
    },
    {
     "name": "stdout",
     "output_type": "stream",
     "text": [
      "+---------+---------------+------+\n",
      "|     name|     department|salary|\n",
      "+---------+---------------+------+\n",
      "|   Souvik|           Army| 80000|\n",
      "|Soukarjya|            BDO| 75000|\n",
      "|   Sandip|            MTS| 50000|\n",
      "| Prodipta|   Data Analyst| 25000|\n",
      "|  RamaSai|System Engineer| 40000|\n",
      "|     Riya|System Engineer| 16000|\n",
      "|    Padma|   Data Analyst| 18000|\n",
      "+---------+---------------+------+\n",
      "\n"
     ]
    }
   ],
   "source": [
    "data = [\n",
    "    (\"Souvik\", \"Army\", 80000),\n",
    "    (\"Soukarjya\", \"BDO\", 75000),\n",
    "    (\"Sandip\", \"MTS\", 50000),\n",
    "    (\"Prodipta\", \"Data Analyst\", 25000),\n",
    "    (\"RamaSai\", \"System Engineer\", 40000),\n",
    "    (\"Riya\", \"System Engineer\", 16000),\n",
    "    (\"Padma\", \"Data Analyst\", 18000)\n",
    "]\n",
    "\n",
    "columns = [\"name\", \"department\", \"salary\"]\n",
    "\n",
    "df = spark.createDataFrame(data, columns)\n",
    "df.show()\n",
    "\n"
   ]
  },
  {
   "cell_type": "code",
   "execution_count": 5,
   "id": "cc6dd1a6",
   "metadata": {},
   "outputs": [],
   "source": [
    "# create a global temporary view\n",
    "df.createOrReplaceGlobalTempView(\"employee_global_view\")\n"
   ]
  },
  {
   "cell_type": "code",
   "execution_count": 6,
   "id": "887781cf",
   "metadata": {},
   "outputs": [
    {
     "name": "stderr",
     "output_type": "stream",
     "text": [
      "[Stage 3:===================>                                       (1 + 2) / 3]\r"
     ]
    },
    {
     "name": "stdout",
     "output_type": "stream",
     "text": [
      "+---------+---------------+------+\n",
      "|     name|     department|salary|\n",
      "+---------+---------------+------+\n",
      "|   Souvik|           Army| 80000|\n",
      "|Soukarjya|            BDO| 75000|\n",
      "|   Sandip|            MTS| 50000|\n",
      "| Prodipta|   Data Analyst| 25000|\n",
      "|  RamaSai|System Engineer| 40000|\n",
      "|     Riya|System Engineer| 16000|\n",
      "|    Padma|   Data Analyst| 18000|\n",
      "+---------+---------------+------+\n",
      "\n"
     ]
    },
    {
     "name": "stderr",
     "output_type": "stream",
     "text": [
      "                                                                                \r"
     ]
    }
   ],
   "source": [
    "# query the global temporary view from the current session\n",
    "result1 = spark.sql(\"select * from global_temp.employee_global_view\")\n",
    "result1.show()\n"
   ]
  },
  {
   "cell_type": "markdown",
   "id": "2b7aa233",
   "metadata": {},
   "source": [
    "- Query the global temp view from another session\n",
    "- ----------------------------------------------\n",
    "- In a different notebook or session, run:\n",
    "spark.sql(\"select * from global_temp.employee_global_view\").show()\n"
   ]
  },
  {
   "cell_type": "code",
   "execution_count": 9,
   "id": "f562b614",
   "metadata": {},
   "outputs": [
    {
     "name": "stderr",
     "output_type": "stream",
     "text": [
      "[Stage 4:>                                                          (0 + 4) / 4]\r"
     ]
    },
    {
     "name": "stdout",
     "output_type": "stream",
     "text": [
      "+---------------+-------+\n",
      "|     department|avg_sal|\n",
      "+---------------+-------+\n",
      "|           Army|80000.0|\n",
      "|            BDO|75000.0|\n",
      "|            MTS|50000.0|\n",
      "|System Engineer|28000.0|\n",
      "|   Data Analyst|21500.0|\n",
      "+---------------+-------+\n",
      "\n"
     ]
    },
    {
     "name": "stderr",
     "output_type": "stream",
     "text": [
      "                                                                                \r"
     ]
    }
   ],
   "source": [
    "# Example: get average salary by department\n",
    "result2 = spark.sql(\n",
    "    \"\"\"\n",
    "select department, avg(salary) as avg_sal\n",
    "from global_temp.employee_global_view\n",
    "group by department\n",
    "\"\"\"\n",
    ")\n",
    "result2.show()\n"
   ]
  },
  {
   "cell_type": "markdown",
   "id": "0954232a",
   "metadata": {},
   "source": [
    "- Notebook Summary:\n",
    "    - createGlobalTempView() allows sessions in the same Spark application.\n",
    "    - The view is session-independent and stored under the 'global_temp' database.\n",
    "    - Use global_temp.view_name when querying it"
   ]
  },
  {
   "cell_type": "code",
   "execution_count": 10,
   "id": "3f6be6bd",
   "metadata": {},
   "outputs": [
    {
     "name": "stderr",
     "output_type": "stream",
     "text": [
      "[Stage 7:============================================>              (3 + 1) / 4]\r"
     ]
    },
    {
     "name": "stdout",
     "output_type": "stream",
     "text": [
      "+---------------+-------+\n",
      "|     department|avg_sal|\n",
      "+---------------+-------+\n",
      "|           Army|80000.0|\n",
      "|            BDO|75000.0|\n",
      "|            MTS|50000.0|\n",
      "|System Engineer|28000.0|\n",
      "|   Data Analyst|21500.0|\n",
      "+---------------+-------+\n",
      "\n"
     ]
    },
    {
     "name": "stderr",
     "output_type": "stream",
     "text": [
      "                                                                                \r"
     ]
    }
   ],
   "source": [
    "# Example: get average salary by department\n",
    "result2 = spark.sql(\n",
    "    \"\"\"\n",
    "select department, avg(salary) as avg_sal\n",
    "from global_temp.employee_global_view\n",
    "group by department\n",
    "\"\"\"\n",
    ")\n",
    "result2.show()\n"
   ]
  },
  {
   "cell_type": "code",
   "execution_count": 11,
   "id": "ee6b57bd",
   "metadata": {},
   "outputs": [
    {
     "name": "stdout",
     "output_type": "stream",
     "text": [
      "+-----------+--------------------+-----------+\n",
      "|  namespace|           tableName|isTemporary|\n",
      "+-----------+--------------------+-----------+\n",
      "|global_temp|employee_global_view|       true|\n",
      "+-----------+--------------------+-----------+\n",
      "\n"
     ]
    }
   ],
   "source": [
    "spark.sql(\"show tables in global_temp\").show()\n"
   ]
  },
  {
   "cell_type": "code",
   "execution_count": null,
   "id": "69a47320",
   "metadata": {},
   "outputs": [],
   "source": []
  }
 ],
 "metadata": {
  "kernelspec": {
   "display_name": "Python 3",
   "language": "python",
   "name": "python3"
  },
  "language_info": {
   "codemirror_mode": {
    "name": "ipython",
    "version": 3
   },
   "file_extension": ".py",
   "mimetype": "text/x-python",
   "name": "python",
   "nbconvert_exporter": "python",
   "pygments_lexer": "ipython3",
   "version": "3.12.11"
  }
 },
 "nbformat": 4,
 "nbformat_minor": 5
}
