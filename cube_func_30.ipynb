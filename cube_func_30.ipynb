{
 "cells": [
  {
   "cell_type": "markdown",
   "id": "c05de6d4",
   "metadata": {},
   "source": [
    "- The cube() function in PySpark is used for multi-dimentional aggregation.\n",
    "- It computes aggregates for all combinations of a group of columns, including subtotals and grand totals.\n",
    "- It is useful when you need reports similar to OLAP cube aggregations."
   ]
  },
  {
   "cell_type": "code",
   "execution_count": 1,
   "id": "9bb688fe",
   "metadata": {},
   "outputs": [
    {
     "name": "stderr",
     "output_type": "stream",
     "text": [
      "WARNING: Using incubator modules: jdk.incubator.vector\n",
      "Using Spark's default log4j profile: org/apache/spark/log4j2-defaults.properties\n",
      "25/09/08 15:17:25 WARN Utils: Your hostname, KLZPC0015, resolves to a loopback address: 127.0.1.1; using 172.25.17.96 instead (on interface eth0)\n",
      "25/09/08 15:17:25 WARN Utils: Set SPARK_LOCAL_IP if you need to bind to another address\n",
      "Using Spark's default log4j profile: org/apache/spark/log4j2-defaults.properties\n",
      "Setting default log level to \"WARN\".\n",
      "To adjust logging level use sc.setLogLevel(newLevel). For SparkR, use setLogLevel(newLevel).\n",
      "25/09/08 15:17:35 WARN NativeCodeLoader: Unable to load native-hadoop library for your platform... using builtin-java classes where applicable\n",
      "25/09/08 15:17:38 WARN Utils: Service 'SparkUI' could not bind on port 4040. Attempting port 4041.\n",
      "25/09/08 15:17:38 WARN Utils: Service 'SparkUI' could not bind on port 4041. Attempting port 4042.\n",
      "25/09/08 15:17:38 WARN Utils: Service 'SparkUI' could not bind on port 4042. Attempting port 4043.\n",
      "25/09/08 15:17:38 WARN Utils: Service 'SparkUI' could not bind on port 4043. Attempting port 4044.\n",
      "25/09/08 15:17:38 WARN Utils: Service 'SparkUI' could not bind on port 4044. Attempting port 4045.\n",
      "25/09/08 15:17:38 WARN Utils: Service 'SparkUI' could not bind on port 4045. Attempting port 4046.\n",
      "25/09/08 15:17:38 WARN Utils: Service 'SparkUI' could not bind on port 4046. Attempting port 4047.\n"
     ]
    }
   ],
   "source": [
    "from pyspark.sql import SparkSession\n",
    "from pyspark.sql.functions import sum\n",
    "\n",
    "spark = SparkSession.builder.appName(\"CubeFunctionExample\").getOrCreate()\n"
   ]
  },
  {
   "cell_type": "code",
   "execution_count": 2,
   "id": "362ff831",
   "metadata": {},
   "outputs": [
    {
     "name": "stderr",
     "output_type": "stream",
     "text": [
      "[Stage 1:===================>                                       (1 + 2) / 3]\r"
     ]
    },
    {
     "name": "stdout",
     "output_type": "stream",
     "text": [
      "+---+---------+------+----------------+----+\n",
      "| id|     name|salary|      department| age|\n",
      "+---+---------+------+----------------+----+\n",
      "|  1|    Manta| 75000|              IT|  24|\n",
      "|  2| Dipankar| 30000|     Post Master|  27|\n",
      "|  3|   Souvik| 60000|    Army Officer|  27|\n",
      "|  4|Soukarjya| 45000|             BDO|NULL|\n",
      "|  5|   Arvind| 35000|Business Analyst|  28|\n",
      "|  6| Prodipta| 25000|    Data Analyst|  28|\n",
      "|  7|    Padma| 20000|    Data Analyst|  27|\n",
      "|  8|    Panta|125000|Business Analyst|  27|\n",
      "|  9|  Sougato| 25000|              IT|  29|\n",
      "+---+---------+------+----------------+----+\n",
      "\n"
     ]
    },
    {
     "name": "stderr",
     "output_type": "stream",
     "text": [
      "                                                                                \r"
     ]
    }
   ],
   "source": [
    "# create sample dataframes\n",
    "data = [\n",
    "    (1, \"Manta\", 75000, \"IT\", 24),\n",
    "    (2, \"Dipankar\", 30000, \"Post Master\", 27),\n",
    "    (3, \"Souvik\", 60000, \"Army Officer\", 27),\n",
    "    (4, \"Soukarjya\", 45000, \"BDO\", None),\n",
    "    (5, \"Arvind\", 35000, \"Business Analyst\", 28),\n",
    "    (6, \"Prodipta\", 25000, \"Data Analyst\", 28),\n",
    "    (7, \"Padma\", 20000, \"Data Analyst\", 27),\n",
    "    (8, \"Panta\", 125000, \"Business Analyst\", 27),\n",
    "    (9, \"Sougato\", 25000, \"IT\", 29)\n",
    "]\n",
    "\n",
    "columns = [\"id\", \"name\", \"salary\", \"department\", \"age\"]\n",
    "\n",
    "df = spark.createDataFrame(data, schema=columns)\n",
    "df.show()\n"
   ]
  },
  {
   "cell_type": "code",
   "execution_count": 3,
   "id": "9c79d9b0",
   "metadata": {},
   "outputs": [
    {
     "name": "stdout",
     "output_type": "stream",
     "text": [
      "Result of cube(): \n"
     ]
    },
    {
     "name": "stderr",
     "output_type": "stream",
     "text": [
      "[Stage 2:>                                                          (0 + 4) / 4]\r"
     ]
    },
    {
     "name": "stdout",
     "output_type": "stream",
     "text": [
      "+----------------+---------+------------+\n",
      "|      department|     name|total_salary|\n",
      "+----------------+---------+------------+\n",
      "|            NULL|     NULL|      440000|\n",
      "|            NULL|   Arvind|       35000|\n",
      "|            NULL| Dipankar|       30000|\n",
      "|            NULL|    Manta|       75000|\n",
      "|            NULL|    Padma|       20000|\n",
      "|            NULL|    Panta|      125000|\n",
      "|            NULL| Prodipta|       25000|\n",
      "|            NULL|  Sougato|       25000|\n",
      "|            NULL|Soukarjya|       45000|\n",
      "|            NULL|   Souvik|       60000|\n",
      "|    Army Officer|     NULL|       60000|\n",
      "|    Army Officer|   Souvik|       60000|\n",
      "|             BDO|     NULL|       45000|\n",
      "|             BDO|Soukarjya|       45000|\n",
      "|Business Analyst|     NULL|      160000|\n",
      "|Business Analyst|   Arvind|       35000|\n",
      "|Business Analyst|    Panta|      125000|\n",
      "|    Data Analyst|     NULL|       45000|\n",
      "|    Data Analyst|    Padma|       20000|\n",
      "|    Data Analyst| Prodipta|       25000|\n",
      "+----------------+---------+------------+\n",
      "only showing top 20 rows\n"
     ]
    },
    {
     "name": "stderr",
     "output_type": "stream",
     "text": [
      "                                                                                \r"
     ]
    }
   ],
   "source": [
    "cube_df = df.cube(\"department\", \"name\").agg(sum(\"salary\").alias(\"total_salary\"))\n",
    "\n",
    "print(\"Result of cube(): \")\n",
    "cube_df.orderBy(\"department\", \"name\").show()\n"
   ]
  },
  {
   "cell_type": "code",
   "execution_count": null,
   "id": "eeb2178c",
   "metadata": {},
   "outputs": [],
   "source": [
    "# stop spark session\n",
    "spark.stop()\n"
   ]
  }
 ],
 "metadata": {
  "kernelspec": {
   "display_name": "Python 3",
   "language": "python",
   "name": "python3"
  },
  "language_info": {
   "codemirror_mode": {
    "name": "ipython",
    "version": 3
   },
   "file_extension": ".py",
   "mimetype": "text/x-python",
   "name": "python",
   "nbconvert_exporter": "python",
   "pygments_lexer": "ipython3",
   "version": "3.12.11"
  }
 },
 "nbformat": 4,
 "nbformat_minor": 5
}
