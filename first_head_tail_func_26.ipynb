{
 "cells": [
  {
   "cell_type": "markdown",
   "id": "6e3726a3",
   "metadata": {},
   "source": [
    "- head(n): returns the first n rows from the DataFrame as a list of Row Objects.\n",
    "- first(): returns the very first row of the DataFrame as a Row Objects.\n",
    "- tail(n): returns the last n rows form the DataFrame as a list of Row Objects."
   ]
  },
  {
   "cell_type": "code",
   "execution_count": 3,
   "id": "ecfcb8c5",
   "metadata": {},
   "outputs": [
    {
     "name": "stderr",
     "output_type": "stream",
     "text": [
      "WARNING: Using incubator modules: jdk.incubator.vector\n",
      "Using Spark's default log4j profile: org/apache/spark/log4j2-defaults.properties\n",
      "25/09/08 09:32:09 WARN Utils: Your hostname, KLZPC0015, resolves to a loopback address: 127.0.1.1; using 172.25.17.96 instead (on interface eth0)\n",
      "25/09/08 09:32:09 WARN Utils: Set SPARK_LOCAL_IP if you need to bind to another address\n",
      "Using Spark's default log4j profile: org/apache/spark/log4j2-defaults.properties\n",
      "Setting default log level to \"WARN\".\n",
      "To adjust logging level use sc.setLogLevel(newLevel). For SparkR, use setLogLevel(newLevel).\n",
      "25/09/08 09:32:20 WARN NativeCodeLoader: Unable to load native-hadoop library for your platform... using builtin-java classes where applicable\n",
      "25/09/08 09:32:22 WARN Utils: Service 'SparkUI' could not bind on port 4040. Attempting port 4041.\n",
      "25/09/08 09:32:22 WARN Utils: Service 'SparkUI' could not bind on port 4041. Attempting port 4042.\n",
      "25/09/08 09:32:22 WARN Utils: Service 'SparkUI' could not bind on port 4042. Attempting port 4043.\n"
     ]
    }
   ],
   "source": [
    "from pyspark.sql import SparkSession\n",
    "spark = SparkSession.builder.appName(\"PySparkHeadTailFirst\").getOrCreate()\n"
   ]
  },
  {
   "cell_type": "code",
   "execution_count": 4,
   "id": "6d483e91",
   "metadata": {},
   "outputs": [
    {
     "name": "stderr",
     "output_type": "stream",
     "text": [
      "                                                                                \r"
     ]
    },
    {
     "name": "stdout",
     "output_type": "stream",
     "text": [
      "+---+---------+------+----------------+----+\n",
      "| id|     name|salary|      department| age|\n",
      "+---+---------+------+----------------+----+\n",
      "|  1|    Manta| 75000|              IT|  24|\n",
      "|  2| Dipankar| 30000|     Post Master|  27|\n",
      "|  3|   Souvik| 60000|    Army Officer|  27|\n",
      "|  4|Soukarjya| 45000|             BDO|NULL|\n",
      "|  5|   Arvind| 35000|Business Analyst|  28|\n",
      "|  6| Prodipta| 25000|    Data Analyst|  28|\n",
      "|  7|    Padma| 20000|    Data Analyst|  27|\n",
      "|  8|    Panta|125000|Business Analyst|  27|\n",
      "|  9|  Sougato| 25000|              IT|  29|\n",
      "+---+---------+------+----------------+----+\n",
      "\n"
     ]
    }
   ],
   "source": [
    "# create sample dataframes\n",
    "data = [\n",
    "    (1, \"Manta\", 75000, \"IT\", 24),\n",
    "    (2, \"Dipankar\", 30000, \"Post Master\", 27),\n",
    "    (3, \"Souvik\", 60000, \"Army Officer\", 27),\n",
    "    (4, \"Soukarjya\", 45000, \"BDO\", None),\n",
    "    (5, \"Arvind\", 35000, \"Business Analyst\", 28),\n",
    "    (6, \"Prodipta\", 25000, \"Data Analyst\", 28),\n",
    "    (7, \"Padma\", 20000, \"Data Analyst\", 27),\n",
    "    (8, \"Panta\", 125000, \"Business Analyst\", 27),\n",
    "    (9, \"Sougato\", 25000, \"IT\", 29)\n",
    "]\n",
    "\n",
    "columns = [\"id\", \"name\", \"salary\", \"department\", \"age\"]\n",
    "\n",
    "df = spark.createDataFrame(data, schema=columns)\n",
    "df.show()\n"
   ]
  },
  {
   "cell_type": "code",
   "execution_count": null,
   "id": "e9e19b06",
   "metadata": {},
   "outputs": [
    {
     "name": "stdout",
     "output_type": "stream",
     "text": [
      "Using head(3): \n"
     ]
    },
    {
     "name": "stderr",
     "output_type": "stream",
     "text": [
      "[Stage 3:>                                                          (0 + 1) / 1]\r"
     ]
    },
    {
     "name": "stdout",
     "output_type": "stream",
     "text": [
      "Row(id=1, name='Manta', salary=75000, department='IT', age=24)\n",
      "Row(id=2, name='Dipankar', salary=30000, department='Post Master', age=27)\n",
      "Row(id=3, name='Souvik', salary=60000, department='Army Officer', age=27)\n"
     ]
    },
    {
     "name": "stderr",
     "output_type": "stream",
     "text": [
      "                                                                                \r"
     ]
    }
   ],
   "source": [
    "# head() - returns the first n rows as a list of row objects\n",
    "print(\"Using head(3): \")\n",
    "head_rows = df.head(3)\n",
    "for row in head_rows:\n",
    "    print(row)\n"
   ]
  },
  {
   "cell_type": "code",
   "execution_count": 6,
   "id": "1e59ed57",
   "metadata": {},
   "outputs": [
    {
     "name": "stdout",
     "output_type": "stream",
     "text": [
      "Using first():\n"
     ]
    },
    {
     "name": "stderr",
     "output_type": "stream",
     "text": [
      "[Stage 4:>                                                          (0 + 1) / 1]\r"
     ]
    },
    {
     "name": "stdout",
     "output_type": "stream",
     "text": [
      "Row(id=1, name='Manta', salary=75000, department='IT', age=24)\n"
     ]
    },
    {
     "name": "stderr",
     "output_type": "stream",
     "text": [
      "                                                                                \r"
     ]
    }
   ],
   "source": [
    "# first() - returns the first row as a row object\n",
    "print(\"Using first():\")\n",
    "first_row = df.first()\n",
    "print(first_row)\n",
    "\n"
   ]
  },
  {
   "cell_type": "code",
   "execution_count": 8,
   "id": "1af6de79",
   "metadata": {},
   "outputs": [
    {
     "name": "stdout",
     "output_type": "stream",
     "text": [
      "name                 department      salary    \n",
      "--------------------------------------------------\n",
      "Manta                IT              75000     \n"
     ]
    }
   ],
   "source": [
    "# print in table format\n",
    "\n",
    "# print header \n",
    "print(f\"{\"name\": <20} {'department': <15} {'salary': <10}\")\n",
    "\n",
    "# print separator\n",
    "print(\"-\" * 50)\n",
    "\n",
    "# print row values\n",
    "print(f\"{first_row['name']: <20} { first_row['department']: <15} {first_row['salary']: <10}\")\n"
   ]
  },
  {
   "cell_type": "code",
   "execution_count": 9,
   "id": "e4a5545b",
   "metadata": {},
   "outputs": [
    {
     "name": "stdout",
     "output_type": "stream",
     "text": [
      "Using tail(2): \n"
     ]
    },
    {
     "name": "stderr",
     "output_type": "stream",
     "text": [
      "[Stage 5:>                                                          (0 + 1) / 1]\r"
     ]
    },
    {
     "name": "stdout",
     "output_type": "stream",
     "text": [
      "Row(id=8, name='Panta', salary=125000, department='Business Analyst', age=27)\n",
      "Row(id=9, name='Sougato', salary=25000, department='IT', age=29)\n"
     ]
    },
    {
     "name": "stderr",
     "output_type": "stream",
     "text": [
      "                                                                                \r"
     ]
    }
   ],
   "source": [
    "# tail() - returns the last n rows as a list of row objects\n",
    "print(\"Using tail(2): \")\n",
    "tail_rows = df.tail(2)\n",
    "for row in tail_rows:\n",
    "    print(row)\n"
   ]
  },
  {
   "cell_type": "code",
   "execution_count": null,
   "id": "38f4e2ff",
   "metadata": {},
   "outputs": [],
   "source": []
  }
 ],
 "metadata": {
  "kernelspec": {
   "display_name": "Python 3",
   "language": "python",
   "name": "python3"
  },
  "language_info": {
   "codemirror_mode": {
    "name": "ipython",
    "version": 3
   },
   "file_extension": ".py",
   "mimetype": "text/x-python",
   "name": "python",
   "nbconvert_exporter": "python",
   "pygments_lexer": "ipython3",
   "version": "3.12.11"
  }
 },
 "nbformat": 4,
 "nbformat_minor": 5
}
