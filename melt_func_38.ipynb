{
 "cells": [
  {
   "cell_type": "markdown",
   "id": "9faa792b",
   "metadata": {},
   "source": [
    "- Melt converts a DataFrame from wide format to long format.\n",
    "- It unpivots columns into rows, making the DataFrame taller and narrower."
   ]
  },
  {
   "cell_type": "code",
   "execution_count": 1,
   "id": "5be60ca1",
   "metadata": {},
   "outputs": [
    {
     "name": "stderr",
     "output_type": "stream",
     "text": [
      "WARNING: Using incubator modules: jdk.incubator.vector\n",
      "Using Spark's default log4j profile: org/apache/spark/log4j2-defaults.properties\n",
      "25/09/15 09:45:09 WARN Utils: Your hostname, KLZPC0015, resolves to a loopback address: 127.0.1.1; using 172.25.17.96 instead (on interface eth0)\n",
      "25/09/15 09:45:09 WARN Utils: Set SPARK_LOCAL_IP if you need to bind to another address\n",
      "Using Spark's default log4j profile: org/apache/spark/log4j2-defaults.properties\n",
      "Setting default log level to \"WARN\".\n",
      "To adjust logging level use sc.setLogLevel(newLevel). For SparkR, use setLogLevel(newLevel).\n",
      "25/09/15 09:45:24 WARN NativeCodeLoader: Unable to load native-hadoop library for your platform... using builtin-java classes where applicable\n",
      "25/09/15 09:45:27 WARN Utils: Service 'SparkUI' could not bind on port 4040. Attempting port 4041.\n",
      "25/09/15 09:45:27 WARN Utils: Service 'SparkUI' could not bind on port 4041. Attempting port 4042.\n"
     ]
    }
   ],
   "source": [
    "from pyspark.sql import SparkSession\n",
    "\n",
    "spark = SparkSession.builder.appName(\"PySparkBuilt-inMeltExample\").getOrCreate()\n"
   ]
  },
  {
   "cell_type": "code",
   "execution_count": 6,
   "id": "b113c205",
   "metadata": {},
   "outputs": [
    {
     "name": "stderr",
     "output_type": "stream",
     "text": [
      "[Stage 3:=======================================>                   (2 + 1) / 3]\r"
     ]
    },
    {
     "name": "stdout",
     "output_type": "stream",
     "text": [
      "+---------+---------+------------+--------+\n",
      "|     name|Chemistry|Data Science|Painting|\n",
      "+---------+---------+------------+--------+\n",
      "|   Souvik|       72|          85|      95|\n",
      "|Soukarjya|       32|          56|      46|\n",
      "|   Sandip|       74|          38|      66|\n",
      "| Prodipta|       76|          89|      31|\n",
      "|  RamaSai|       69|          78|      38|\n",
      "|     Riya|       78|          82|      96|\n",
      "|    Padma|       46|          53|      49|\n",
      "+---------+---------+------------+--------+\n",
      "\n"
     ]
    },
    {
     "name": "stderr",
     "output_type": "stream",
     "text": [
      "                                                                                \r"
     ]
    }
   ],
   "source": [
    "data = [\n",
    "    (\"Souvik\", 72, 85, 95),\n",
    "    (\"Soukarjya\", 32, 56, 46),\n",
    "    (\"Sandip\", 74, 38, 66),\n",
    "    (\"Prodipta\", 76, 89, 31),\n",
    "    (\"RamaSai\", 69, 78, 38),\n",
    "    (\"Riya\", 78, 82, 96),\n",
    "    (\"Padma\", 46, 53, 49)\n",
    "]\n",
    "\n",
    "columns = [\"name\", \"Chemistry\", \"Data Science\", \"Painting\"]\n",
    "\n",
    "df = spark.createDataFrame(data, columns)\n",
    "df.show()\n",
    "\n"
   ]
  },
  {
   "cell_type": "code",
   "execution_count": 7,
   "id": "27bca401",
   "metadata": {},
   "outputs": [
    {
     "name": "stdout",
     "output_type": "stream",
     "text": [
      "Melted DataFrame: \n"
     ]
    },
    {
     "name": "stderr",
     "output_type": "stream",
     "text": [
      "[Stage 5:===================>                                       (1 + 2) / 3]\r"
     ]
    },
    {
     "name": "stdout",
     "output_type": "stream",
     "text": [
      "+---------+------------+-----+\n",
      "|     name|     subject|score|\n",
      "+---------+------------+-----+\n",
      "|   Souvik|   Chemistry|   72|\n",
      "|   Souvik|Data Science|   85|\n",
      "|   Souvik|    Painting|   95|\n",
      "|Soukarjya|   Chemistry|   32|\n",
      "|Soukarjya|Data Science|   56|\n",
      "|Soukarjya|    Painting|   46|\n",
      "|   Sandip|   Chemistry|   74|\n",
      "|   Sandip|Data Science|   38|\n",
      "|   Sandip|    Painting|   66|\n",
      "| Prodipta|   Chemistry|   76|\n",
      "| Prodipta|Data Science|   89|\n",
      "| Prodipta|    Painting|   31|\n",
      "|  RamaSai|   Chemistry|   69|\n",
      "|  RamaSai|Data Science|   78|\n",
      "|  RamaSai|    Painting|   38|\n",
      "|     Riya|   Chemistry|   78|\n",
      "|     Riya|Data Science|   82|\n",
      "|     Riya|    Painting|   96|\n",
      "|    Padma|   Chemistry|   46|\n",
      "|    Padma|Data Science|   53|\n",
      "+---------+------------+-----+\n",
      "only showing top 20 rows\n"
     ]
    },
    {
     "name": "stderr",
     "output_type": "stream",
     "text": [
      "                                                                                \r"
     ]
    }
   ],
   "source": [
    "# Using the built-in melt function\n",
    "melted_df = df.melt(\n",
    "    ids=[\"name\"],                           # Columns to keep\n",
    "    values=[\"Chemistry\", \"Data Science\", \"Painting\"],  # Columns to unpivot\n",
    "    variableColumnName=\"subject\",           # Name for column names\n",
    "    valueColumnName=\"score\"                 # Name for values\n",
    ")\n",
    "\n",
    "\n",
    "print(\"Melted DataFrame: \")\n",
    "melted_df.show()\n"
   ]
  },
  {
   "cell_type": "code",
   "execution_count": null,
   "id": "de48b85a",
   "metadata": {},
   "outputs": [],
   "source": []
  }
 ],
 "metadata": {
  "kernelspec": {
   "display_name": "Python 3",
   "language": "python",
   "name": "python3"
  },
  "language_info": {
   "codemirror_mode": {
    "name": "ipython",
    "version": 3
   },
   "file_extension": ".py",
   "mimetype": "text/x-python",
   "name": "python",
   "nbconvert_exporter": "python",
   "pygments_lexer": "ipython3",
   "version": "3.12.11"
  }
 },
 "nbformat": 4,
 "nbformat_minor": 5
}
