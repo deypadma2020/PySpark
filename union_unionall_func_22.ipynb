{
 "cells": [
  {
   "cell_type": "markdown",
   "id": "3b87b189",
   "metadata": {},
   "source": [
    "### Definition:\n",
    "- union() and unionAll() are used to combine two DtaFrames with the schema in PySpark.\n",
    "- union() combines rows from both DataFrames and, by default, includes duplicates.\n",
    "- unionAll() does the same as union(). In older versions, unionAll() included duplicates, but in modern versions, union() and and unionAll() behave the same.\n",
    "- To mimic SQL UNION behavior (which removes duplicates), we use union(). distinct()."
   ]
  },
  {
   "cell_type": "code",
   "execution_count": 3,
   "id": "67f57e81",
   "metadata": {},
   "outputs": [
    {
     "name": "stderr",
     "output_type": "stream",
     "text": [
      "25/09/01 13:02:11 WARN SparkSession: Using an existing Spark session; only runtime SQL configurations will take effect.\n"
     ]
    }
   ],
   "source": [
    "# import SparkSession and Create Spark Session\n",
    "from pyspark.sql import SparkSession, Row\n",
    "\n",
    "spark = SparkSession.builder.appName(\"PySparkUnionFunction\").getOrCreate()\n"
   ]
  },
  {
   "cell_type": "code",
   "execution_count": 4,
   "id": "19bc4d68",
   "metadata": {},
   "outputs": [
    {
     "name": "stderr",
     "output_type": "stream",
     "text": [
      "[Stage 3:===================>                                       (1 + 2) / 3]\r"
     ]
    },
    {
     "name": "stdout",
     "output_type": "stream",
     "text": [
      "+---+--------------------+---+\n",
      "| id|                name|age|\n",
      "+---+--------------------+---+\n",
      "|  1|            Dipankar| 27|\n",
      "|  2|             Shankha| 26|\n",
      "|  3|Tuhin, one of my ...| 27|\n",
      "+---+--------------------+---+\n",
      "\n"
     ]
    },
    {
     "name": "stderr",
     "output_type": "stream",
     "text": [
      "                                                                                \r"
     ]
    }
   ],
   "source": [
    "# create sample dataframes\n",
    "data1 = [\n",
    "    (1, \"Dipankar\", 27),\n",
    "    (2, \"Shankha\", 26),\n",
    "    (3, \"Tuhin, one of my highter secondary school friend, who is a cousin brother of my another secondary school friend\", 27)\n",
    "]\n",
    "\n",
    "df1 = spark.createDataFrame(data1).toDF(\"id\", \"name\", \"age\")\n",
    "df1.show()\n"
   ]
  },
  {
   "cell_type": "code",
   "execution_count": 5,
   "id": "27e8f5e7",
   "metadata": {},
   "outputs": [
    {
     "name": "stderr",
     "output_type": "stream",
     "text": [
      "[Stage 5:>                                                          (0 + 3) / 3]\r"
     ]
    },
    {
     "name": "stdout",
     "output_type": "stream",
     "text": [
      "+---+---------+---+\n",
      "| id|     name|age|\n",
      "+---+---------+---+\n",
      "|  1| Dipankar| 27|\n",
      "|  2|    Akash| 29|\n",
      "|  3|Soukarjya| 25|\n",
      "+---+---------+---+\n",
      "\n"
     ]
    },
    {
     "name": "stderr",
     "output_type": "stream",
     "text": [
      "                                                                                \r"
     ]
    }
   ],
   "source": [
    "# create sample dataframes\n",
    "data2 = [\n",
    "    (1, \"Dipankar\", 27), # duplicate row for demonstration\n",
    "    (2, \"Akash\", 29),\n",
    "    (3, \"Soukarjya\", 25)\n",
    "]\n",
    "columns = [\"id\", \"name\", \"age\"]\n",
    "\n",
    "df2 = spark.createDataFrame(data2, schema=columns)\n",
    "df2.show()\n"
   ]
  },
  {
   "cell_type": "code",
   "execution_count": 6,
   "id": "2e1212e9",
   "metadata": {},
   "outputs": [
    {
     "name": "stdout",
     "output_type": "stream",
     "text": [
      "Result of union() (duplicate included): \n"
     ]
    },
    {
     "name": "stderr",
     "output_type": "stream",
     "text": [
      "[Stage 8:>                                                          (0 + 3) / 3]\r"
     ]
    },
    {
     "name": "stdout",
     "output_type": "stream",
     "text": [
      "+---+--------------------+---+\n",
      "| id|                name|age|\n",
      "+---+--------------------+---+\n",
      "|  1|            Dipankar| 27|\n",
      "|  2|             Shankha| 26|\n",
      "|  3|Tuhin, one of my ...| 27|\n",
      "|  1|            Dipankar| 27|\n",
      "|  2|               Akash| 29|\n",
      "|  3|           Soukarjya| 25|\n",
      "+---+--------------------+---+\n",
      "\n"
     ]
    },
    {
     "name": "stderr",
     "output_type": "stream",
     "text": [
      "                                                                                \r"
     ]
    }
   ],
   "source": [
    "# union() Example - Combines rows (duplicates INCLUDED)\n",
    "print(\"Result of union() (duplicate included): \")\n",
    "df_union = df1.union(df2)\n",
    "df_union.show()\n"
   ]
  },
  {
   "cell_type": "code",
   "execution_count": 7,
   "id": "c21dd07f",
   "metadata": {},
   "outputs": [
    {
     "name": "stdout",
     "output_type": "stream",
     "text": [
      "Result of union() with distinct() (duplicates removed): \n"
     ]
    },
    {
     "name": "stderr",
     "output_type": "stream",
     "text": [
      "[Stage 9:=============================>                             (4 + 4) / 8]\r"
     ]
    },
    {
     "name": "stdout",
     "output_type": "stream",
     "text": [
      "+---+--------------------+---+\n",
      "| id|                name|age|\n",
      "+---+--------------------+---+\n",
      "|  1|            Dipankar| 27|\n",
      "|  2|             Shankha| 26|\n",
      "|  3|Tuhin, one of my ...| 27|\n",
      "|  2|               Akash| 29|\n",
      "|  3|           Soukarjya| 25|\n",
      "+---+--------------------+---+\n",
      "\n"
     ]
    },
    {
     "name": "stderr",
     "output_type": "stream",
     "text": [
      "                                                                                \r"
     ]
    }
   ],
   "source": [
    "# union() + distinct() Example - Removes duplicates (like SQL UNION)\n",
    "print(\"Result of union() with distinct() (duplicates removed): \")\n",
    "df_union_distinct = df_union.distinct()\n",
    "df_union_distinct.show()\n"
   ]
  },
  {
   "cell_type": "code",
   "execution_count": 8,
   "id": "f3bdd20a",
   "metadata": {},
   "outputs": [
    {
     "name": "stdout",
     "output_type": "stream",
     "text": [
      "Result of unionAll() (duplicates included): \n"
     ]
    },
    {
     "name": "stderr",
     "output_type": "stream",
     "text": [
      "[Stage 14:>                                                         (0 + 3) / 3]\r"
     ]
    },
    {
     "name": "stdout",
     "output_type": "stream",
     "text": [
      "+---+--------------------+---+\n",
      "| id|                name|age|\n",
      "+---+--------------------+---+\n",
      "|  1|            Dipankar| 27|\n",
      "|  2|             Shankha| 26|\n",
      "|  3|Tuhin, one of my ...| 27|\n",
      "|  1|            Dipankar| 27|\n",
      "|  2|               Akash| 29|\n",
      "|  3|           Soukarjya| 25|\n",
      "+---+--------------------+---+\n",
      "\n"
     ]
    },
    {
     "name": "stderr",
     "output_type": "stream",
     "text": [
      "                                                                                \r"
     ]
    }
   ],
   "source": [
    "# unionAll() Example - works same as union() in modern PySpark\n",
    "print(\"Result of unionAll() (duplicates included): \")\n",
    "df_union_all = df1.unionAll(df2)\n",
    "df_union_all.show()\n"
   ]
  },
  {
   "cell_type": "code",
   "execution_count": 9,
   "id": "c5d09326",
   "metadata": {},
   "outputs": [
    {
     "name": "stderr",
     "output_type": "stream",
     "text": [
      "                                                                                \r"
     ]
    },
    {
     "name": "stdout",
     "output_type": "stream",
     "text": [
      "Row count after union (with duplicates):  6\n"
     ]
    },
    {
     "name": "stderr",
     "output_type": "stream",
     "text": [
      "                                                                                \r"
     ]
    },
    {
     "name": "stdout",
     "output_type": "stream",
     "text": [
      "Row count after union with distinct():  5\n"
     ]
    },
    {
     "name": "stderr",
     "output_type": "stream",
     "text": [
      "[Stage 24:=============================>                            (4 + 4) / 8]\r"
     ]
    },
    {
     "name": "stdout",
     "output_type": "stream",
     "text": [
      "Row count after unionAll (duplicates included):  6\n"
     ]
    },
    {
     "name": "stderr",
     "output_type": "stream",
     "text": [
      "                                                                                \r"
     ]
    }
   ],
   "source": [
    "# Row count comparison\n",
    "print(\"Row count after union (with duplicates): \", df_union.count())\n",
    "print(\"Row count after union with distinct(): \", df_union_distinct.count())\n",
    "print(\"Row count after unionAll (duplicates included): \", df_union_all.count())\n"
   ]
  },
  {
   "cell_type": "code",
   "execution_count": null,
   "id": "c57d8ac7",
   "metadata": {},
   "outputs": [],
   "source": []
  }
 ],
 "metadata": {
  "kernelspec": {
   "display_name": "Python 3",
   "language": "python",
   "name": "python3"
  },
  "language_info": {
   "codemirror_mode": {
    "name": "ipython",
    "version": 3
   },
   "file_extension": ".py",
   "mimetype": "text/x-python",
   "name": "python",
   "nbconvert_exporter": "python",
   "pygments_lexer": "ipython3",
   "version": "3.12.11"
  }
 },
 "nbformat": 4,
 "nbformat_minor": 5
}
