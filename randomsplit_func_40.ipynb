{
 "cells": [
  {
   "cell_type": "markdown",
   "id": "31acde3c",
   "metadata": {},
   "source": [
    "- randomSplit() is a built-in PySpark DataFrame function.\n",
    "- It splits a DataFrame into multiple smaller DataFrames randomly.\n",
    "- Typically used to split data into training, validation, and test datasets.\n",
    "\n",
    "- Syntax:\n",
    "    DataFrame.randomSplit(weights, seed=None)\n",
    "    - weights: List of proportions for splitting (e.g., [0.7, 0.3] for 70/30 split)\n",
    "    - seed: (optional) Random seed to get reproducible results.\n",
    "    - If you set a seed, you ensure the same rows go into train/test every time you run the code."
   ]
  },
  {
   "cell_type": "code",
   "execution_count": 3,
   "id": "5d138c57",
   "metadata": {},
   "outputs": [
    {
     "name": "stderr",
     "output_type": "stream",
     "text": [
      "                                                                                \r"
     ]
    },
    {
     "name": "stdout",
     "output_type": "stream",
     "text": [
      "+---------+-----+----------------+\n",
      "|     name|score|         Subject|\n",
      "+---------+-----+----------------+\n",
      "|   Souvik|   72|            Math|\n",
      "|Soukarjya|   32|       Chemistry|\n",
      "|   Sandip|   74|            Math|\n",
      "| Prodipta|   76|    Data Analyst|\n",
      "|  RamaSai|   69| System Engineer|\n",
      "|     Riya|   78|Oracle Developer|\n",
      "|    Padma|   46|    Data Analyst|\n",
      "+---------+-----+----------------+\n",
      "\n"
     ]
    }
   ],
   "source": [
    "data = [\n",
    "    (\"Souvik\", 72, \"Math\"),\n",
    "    (\"Soukarjya\", 32, \"Chemistry\"),\n",
    "    (\"Sandip\", 74,\"Math\"),\n",
    "    (\"Prodipta\", 76, \"Data Analyst\"),\n",
    "    (\"RamaSai\", 69, \"System Engineer\"),\n",
    "    (\"Riya\", 78, \"Oracle Developer\"),\n",
    "    (\"Padma\", 46, \"Data Analyst\")\n",
    "]\n",
    "\n",
    "columns = [\"name\", \"score\", \"Subject\"]\n",
    "\n",
    "df = spark.createDataFrame(data, columns)\n",
    "df.show()\n"
   ]
  },
  {
   "cell_type": "code",
   "execution_count": 4,
   "id": "2e76e290",
   "metadata": {},
   "outputs": [
    {
     "name": "stdout",
     "output_type": "stream",
     "text": [
      "Training Dataset: \n"
     ]
    },
    {
     "name": "stderr",
     "output_type": "stream",
     "text": [
      "                                                                                \r"
     ]
    },
    {
     "name": "stdout",
     "output_type": "stream",
     "text": [
      "+---------+-----+----------------+\n",
      "|     name|score|         Subject|\n",
      "+---------+-----+----------------+\n",
      "|   Souvik|   72|            Math|\n",
      "|Soukarjya|   32|       Chemistry|\n",
      "|     Riya|   78|Oracle Developer|\n",
      "+---------+-----+----------------+\n",
      "\n",
      "Test Dataset: \n"
     ]
    },
    {
     "name": "stderr",
     "output_type": "stream",
     "text": [
      "[Stage 6:>                                                          (0 + 3) / 3]\r"
     ]
    },
    {
     "name": "stdout",
     "output_type": "stream",
     "text": [
      "+--------+-----+---------------+\n",
      "|    name|score|        Subject|\n",
      "+--------+-----+---------------+\n",
      "|  Sandip|   74|           Math|\n",
      "|Prodipta|   76|   Data Analyst|\n",
      "| RamaSai|   69|System Engineer|\n",
      "|   Padma|   46|   Data Analyst|\n",
      "+--------+-----+---------------+\n",
      "\n"
     ]
    },
    {
     "name": "stderr",
     "output_type": "stream",
     "text": [
      "                                                                                \r"
     ]
    }
   ],
   "source": [
    "# Using randomSplit() to Split the DataFrame\n",
    "# Split into 70% training and 30% test datasets\n",
    "# The seed ensures reproducibility(you get the same split every time)\n",
    "train_df, test_df = df.randomSplit([0.7, 0.3], seed=42)\n",
    "\n",
    "print(\"Training Dataset: \")\n",
    "train_df.show()\n",
    "\n",
    "print(\"Test Dataset: \")\n",
    "test_df.show()\n"
   ]
  },
  {
   "cell_type": "code",
   "execution_count": null,
   "id": "e81259a8",
   "metadata": {},
   "outputs": [],
   "source": []
  }
 ],
 "metadata": {
  "kernelspec": {
   "display_name": "Python 3",
   "language": "python",
   "name": "python3"
  },
  "language_info": {
   "codemirror_mode": {
    "name": "ipython",
    "version": 3
   },
   "file_extension": ".py",
   "mimetype": "text/x-python",
   "name": "python",
   "nbconvert_exporter": "python",
   "pygments_lexer": "ipython3",
   "version": "3.12.11"
  }
 },
 "nbformat": 4,
 "nbformat_minor": 5
}
