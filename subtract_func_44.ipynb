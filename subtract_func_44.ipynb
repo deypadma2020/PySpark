{
 "cells": [
  {
   "cell_type": "markdown",
   "id": "476d0e16",
   "metadata": {},
   "source": [
    "- What is subtract() func in PySpark?\n",
    "    - The subtract() function in PySpark is used to return the rows that are present in one DataFrame but not in another.\n",
    "    - It's similar to the SQL \"EXCEPT\" operation.\n",
    "\n",
    "- Key Points:\n",
    "    - It returns rows that exist in the first DataFrame and NOT in the second DataFrame.\n",
    "    - Both DataFrames must have the same schema.\n",
    "\n",
    "- Syntax:\n",
    "    DataFrame1.subtract(DataFrame2)"
   ]
  },
  {
   "cell_type": "code",
   "execution_count": 1,
   "id": "8ef9bc18",
   "metadata": {},
   "outputs": [
    {
     "name": "stderr",
     "output_type": "stream",
     "text": [
      "WARNING: Using incubator modules: jdk.incubator.vector\n",
      "Using Spark's default log4j profile: org/apache/spark/log4j2-defaults.properties\n",
      "25/09/16 10:22:12 WARN Utils: Your hostname, KLZPC0015, resolves to a loopback address: 127.0.1.1; using 172.25.17.96 instead (on interface eth0)\n",
      "25/09/16 10:22:12 WARN Utils: Set SPARK_LOCAL_IP if you need to bind to another address\n",
      "Using Spark's default log4j profile: org/apache/spark/log4j2-defaults.properties\n",
      "Setting default log level to \"WARN\".\n",
      "To adjust logging level use sc.setLogLevel(newLevel). For SparkR, use setLogLevel(newLevel).\n",
      "25/09/16 10:22:50 WARN NativeCodeLoader: Unable to load native-hadoop library for your platform... using builtin-java classes where applicable\n",
      "25/09/16 10:22:59 WARN Utils: Service 'SparkUI' could not bind on port 4040. Attempting port 4041.\n"
     ]
    }
   ],
   "source": [
    "from pyspark.sql import SparkSession\n",
    "\n",
    "spark = SparkSession.builder.appName(\"subtractFuncExample\").getOrCreate()\n"
   ]
  },
  {
   "cell_type": "code",
   "execution_count": 2,
   "id": "21af4482",
   "metadata": {},
   "outputs": [
    {
     "name": "stderr",
     "output_type": "stream",
     "text": [
      "                                                                                \r"
     ]
    },
    {
     "name": "stdout",
     "output_type": "stream",
     "text": [
      "+---+--------+\n",
      "|age|    name|\n",
      "+---+--------+\n",
      "| 29|   Suman|\n",
      "| 35|   Ankur|\n",
      "| 40|Sayantan|\n",
      "| 25|     Sai|\n",
      "+---+--------+\n",
      "\n"
     ]
    },
    {
     "name": "stderr",
     "output_type": "stream",
     "text": [
      "[Stage 3:>                                                          (0 + 3) / 3]\r"
     ]
    },
    {
     "name": "stdout",
     "output_type": "stream",
     "text": [
      "+---+--------+\n",
      "|age|    name|\n",
      "+---+--------+\n",
      "| 29|   Suman|\n",
      "| 40|Sayantan|\n",
      "+---+--------+\n",
      "\n"
     ]
    },
    {
     "name": "stderr",
     "output_type": "stream",
     "text": [
      "                                                                                \r"
     ]
    }
   ],
   "source": [
    "data1 = [\n",
    "    (29, \"Suman\"),\n",
    "    (35, \"Ankur\"),\n",
    "    (40, \"Sayantan\"),\n",
    "    (25, \"Sai\")\n",
    "]\n",
    "\n",
    "data2 = [\n",
    "    (29, \"Suman\"),\n",
    "    (40, \"Sayantan\")\n",
    "]\n",
    "\n",
    "columns = [\"age\", \"name\"]\n",
    "\n",
    "df1 = spark.createDataFrame(data1, columns)\n",
    "df2 = spark.createDataFrame(data2, columns)\n",
    "\n",
    "df1.show()\n",
    "df2.show()\n"
   ]
  },
  {
   "cell_type": "code",
   "execution_count": 3,
   "id": "77975b63",
   "metadata": {},
   "outputs": [
    {
     "name": "stdout",
     "output_type": "stream",
     "text": [
      "Result after subtracting df2 from df1: \n"
     ]
    },
    {
     "name": "stderr",
     "output_type": "stream",
     "text": [
      "[Stage 9:>                                                          (0 + 1) / 1]\r"
     ]
    },
    {
     "name": "stdout",
     "output_type": "stream",
     "text": [
      "+---+-----+\n",
      "|age| name|\n",
      "+---+-----+\n",
      "| 35|Ankur|\n",
      "| 25|  Sai|\n",
      "+---+-----+\n",
      "\n"
     ]
    },
    {
     "name": "stderr",
     "output_type": "stream",
     "text": [
      "                                                                                \r"
     ]
    }
   ],
   "source": [
    "# Using subtract() function in PySpark\n",
    "# Subtract df2 from df1 -> Returns rows present in df1 but not in df2\n",
    "result_df = df1.subtract(df2)\n",
    "\n",
    "print(\"Result after subtracting df2 from df1: \")\n",
    "result_df.show()\n"
   ]
  },
  {
   "cell_type": "markdown",
   "id": "94924327",
   "metadata": {},
   "source": [
    "- subtract() helps you find differences between two DataFrames.\n",
    "- It works like an \"EXCEPT\" in SQL.\n",
    "- It removes all rows from df1 that are also in df2.\n",
    "\n",
    "- We subtracted Suman and Sayantan from the first DataFrame.\n",
    "- The result shows only Ankur and Sai"
   ]
  },
  {
   "cell_type": "markdown",
   "id": "341e9f21",
   "metadata": {},
   "source": []
  }
 ],
 "metadata": {
  "kernelspec": {
   "display_name": "Python 3",
   "language": "python",
   "name": "python3"
  },
  "language_info": {
   "codemirror_mode": {
    "name": "ipython",
    "version": 3
   },
   "file_extension": ".py",
   "mimetype": "text/x-python",
   "name": "python",
   "nbconvert_exporter": "python",
   "pygments_lexer": "ipython3",
   "version": "3.12.11"
  }
 },
 "nbformat": 4,
 "nbformat_minor": 5
}
