{
 "cells": [
  {
   "cell_type": "markdown",
   "id": "fd9a93cb",
   "metadata": {},
   "source": [
    "- na(): handle missing(null/none) values in a DataFrame. Common methods include fill(), drop(), replace().\n",
    "- isEmpty(): \n",
    "    1. counts the number of rows in DataFrame.\n",
    "    2. Unlike count(), this method does not trigger any computation.\n",
    "    3. An empty DataFrame has no rows. It may have columns, but no data."
   ]
  },
  {
   "cell_type": "code",
   "execution_count": 1,
   "id": "ef9db7af",
   "metadata": {},
   "outputs": [
    {
     "name": "stderr",
     "output_type": "stream",
     "text": [
      "WARNING: Using incubator modules: jdk.incubator.vector\n",
      "Using Spark's default log4j profile: org/apache/spark/log4j2-defaults.properties\n",
      "25/09/08 10:55:55 WARN Utils: Your hostname, KLZPC0015, resolves to a loopback address: 127.0.1.1; using 172.25.17.96 instead (on interface eth0)\n",
      "25/09/08 10:55:55 WARN Utils: Set SPARK_LOCAL_IP if you need to bind to another address\n",
      "Using Spark's default log4j profile: org/apache/spark/log4j2-defaults.properties\n",
      "Setting default log level to \"WARN\".\n",
      "To adjust logging level use sc.setLogLevel(newLevel). For SparkR, use setLogLevel(newLevel).\n",
      "25/09/08 10:56:07 WARN NativeCodeLoader: Unable to load native-hadoop library for your platform... using builtin-java classes where applicable\n",
      "25/09/08 10:56:08 WARN Utils: Service 'SparkUI' could not bind on port 4040. Attempting port 4041.\n",
      "25/09/08 10:56:08 WARN Utils: Service 'SparkUI' could not bind on port 4041. Attempting port 4042.\n",
      "25/09/08 10:56:08 WARN Utils: Service 'SparkUI' could not bind on port 4042. Attempting port 4043.\n",
      "25/09/08 10:56:08 WARN Utils: Service 'SparkUI' could not bind on port 4043. Attempting port 4044.\n",
      "25/09/08 10:56:08 WARN Utils: Service 'SparkUI' could not bind on port 4044. Attempting port 4045.\n",
      "25/09/08 10:56:08 WARN Utils: Service 'SparkUI' could not bind on port 4045. Attempting port 4046.\n"
     ]
    }
   ],
   "source": [
    "from pyspark.sql import SparkSession\n",
    "spark = SparkSession.builder.appName(\"NAandEmptyDemo\").getOrCreate()\n"
   ]
  },
  {
   "cell_type": "code",
   "execution_count": 5,
   "id": "9e00c754",
   "metadata": {},
   "outputs": [
    {
     "name": "stderr",
     "output_type": "stream",
     "text": [
      "[Stage 7:===================>                                       (1 + 2) / 3]\r"
     ]
    },
    {
     "name": "stdout",
     "output_type": "stream",
     "text": [
      "+---+---------+------+----------------+----+\n",
      "| id|     name|salary|      department| age|\n",
      "+---+---------+------+----------------+----+\n",
      "|  1|    Manta| 75000|              IT|  24|\n",
      "|  2| Dipankar| 30000|            NULL|  27|\n",
      "|  3|   Souvik| 60000|    Army Officer|  27|\n",
      "|  4|Soukarjya| 45000|             BDO|null|\n",
      "|  5|   Arvind| 35000|              HR|  28|\n",
      "|  6| Prodipta| 25000|    Data Analyst|  28|\n",
      "|  7|    Padma| 20000|    Data Analyst|NULL|\n",
      "|  8|    Panta|125000|Business Analyst|  27|\n",
      "|  9|  Sougato|  NULL|            NULL|  29|\n",
      "+---+---------+------+----------------+----+\n",
      "\n"
     ]
    },
    {
     "name": "stderr",
     "output_type": "stream",
     "text": [
      "                                                                                \r"
     ]
    }
   ],
   "source": [
    "# create sample dataframes\n",
    "data = [\n",
    "    (1, \"Manta\", 75000, \"IT\", 24),\n",
    "    (2, \"Dipankar\", 30000, None, 27),\n",
    "    (3, \"Souvik\", 60000, \"Army Officer\", 27),\n",
    "    (4, \"Soukarjya\", 45000, \"BDO\", \"null\"),\n",
    "    (5, \"Arvind\", 35000, \"HR\", 28),\n",
    "    (6, \"Prodipta\", 25000, \"Data Analyst\", 28),\n",
    "    (7, \"Padma\", 20000, \"Data Analyst\", None),\n",
    "    (8, \"Panta\", 125000, \"Business Analyst\", 27),\n",
    "    (9, \"Sougato\", None, None, 29)\n",
    "]\n",
    "\n",
    "columns = [\"id\", \"name\", \"salary\", \"department\", \"age\"]\n",
    "\n",
    "df = spark.createDataFrame(data, schema=columns)\n",
    "df.show()\n"
   ]
  },
  {
   "cell_type": "code",
   "execution_count": 6,
   "id": "8154c168",
   "metadata": {},
   "outputs": [
    {
     "name": "stdout",
     "output_type": "stream",
     "text": [
      "Drop rows with any null values using na.drop(): \n"
     ]
    },
    {
     "name": "stderr",
     "output_type": "stream",
     "text": [
      "[Stage 9:>                                                          (0 + 3) / 3]\r"
     ]
    },
    {
     "name": "stdout",
     "output_type": "stream",
     "text": [
      "+---+---------+------+----------------+----+\n",
      "| id|     name|salary|      department| age|\n",
      "+---+---------+------+----------------+----+\n",
      "|  1|    Manta| 75000|              IT|  24|\n",
      "|  3|   Souvik| 60000|    Army Officer|  27|\n",
      "|  4|Soukarjya| 45000|             BDO|null|\n",
      "|  5|   Arvind| 35000|              HR|  28|\n",
      "|  6| Prodipta| 25000|    Data Analyst|  28|\n",
      "|  8|    Panta|125000|Business Analyst|  27|\n",
      "+---+---------+------+----------------+----+\n",
      "\n"
     ]
    },
    {
     "name": "stderr",
     "output_type": "stream",
     "text": [
      "                                                                                \r"
     ]
    }
   ],
   "source": [
    "# using na.drop(): drop rows with any null values\n",
    "print(\"Drop rows with any null values using na.drop(): \")\n",
    "df_na_drop = df.na.drop()\n",
    "df_na_drop.show()\n"
   ]
  },
  {
   "cell_type": "code",
   "execution_count": 7,
   "id": "961f3d60",
   "metadata": {},
   "outputs": [
    {
     "name": "stdout",
     "output_type": "stream",
     "text": [
      "Fill null values using na.fill(): \n"
     ]
    },
    {
     "name": "stderr",
     "output_type": "stream",
     "text": [
      "[Stage 11:>                                                         (0 + 3) / 3]\r"
     ]
    },
    {
     "name": "stdout",
     "output_type": "stream",
     "text": [
      "+---+---------+------+----------------+----+\n",
      "| id|     name|salary|      department| age|\n",
      "+---+---------+------+----------------+----+\n",
      "|  1|    Manta| 75000|              IT|  24|\n",
      "|  2| Dipankar| 30000|    not assigned|  27|\n",
      "|  3|   Souvik| 60000|    Army Officer|  27|\n",
      "|  4|Soukarjya| 45000|             BDO|null|\n",
      "|  5|   Arvind| 35000|              HR|  28|\n",
      "|  6| Prodipta| 25000|    Data Analyst|  28|\n",
      "|  7|    Padma| 20000|    Data Analyst|NULL|\n",
      "|  8|    Panta|125000|Business Analyst|  27|\n",
      "|  9|  Sougato|     0|    not assigned|  29|\n",
      "+---+---------+------+----------------+----+\n",
      "\n"
     ]
    },
    {
     "name": "stderr",
     "output_type": "stream",
     "text": [
      "                                                                                \r"
     ]
    }
   ],
   "source": [
    "# using na.fill(): replace null values with specified values\n",
    "print(\"Fill null values using na.fill(): \")\n",
    "df_na_fill = df.na.fill(\n",
    "    {\n",
    "        \"name\": \"unknown\",\n",
    "        \"department\": \"not assigned\",\n",
    "        \"salary\": 0\n",
    "    }\n",
    ")\n",
    "df_na_fill.show()\n"
   ]
  },
  {
   "cell_type": "code",
   "execution_count": 9,
   "id": "2ca94ef4",
   "metadata": {},
   "outputs": [
    {
     "name": "stdout",
     "output_type": "stream",
     "text": [
      "replace 'HR' with 'Human Resources' using na.replace(): \n"
     ]
    },
    {
     "name": "stderr",
     "output_type": "stream",
     "text": [
      "[Stage 13:>                                                         (0 + 3) / 3]\r"
     ]
    },
    {
     "name": "stdout",
     "output_type": "stream",
     "text": [
      "+---+---------+------+----------------+----+\n",
      "| id|     name|salary|      department| age|\n",
      "+---+---------+------+----------------+----+\n",
      "|  1|    Manta| 75000|              IT|  24|\n",
      "|  2| Dipankar| 30000|    not assigned|  27|\n",
      "|  3|   Souvik| 60000|    Army Officer|  27|\n",
      "|  4|Soukarjya| 45000|             BDO|null|\n",
      "|  5|   Arvind| 35000| Human Resources|  28|\n",
      "|  6| Prodipta| 25000|    Data Analyst|  28|\n",
      "|  7|    Padma| 20000|    Data Analyst|NULL|\n",
      "|  8|    Panta|125000|Business Analyst|  27|\n",
      "|  9|  Sougato|     0|    not assigned|  29|\n",
      "+---+---------+------+----------------+----+\n",
      "\n"
     ]
    },
    {
     "name": "stderr",
     "output_type": "stream",
     "text": [
      "                                                                                \r"
     ]
    }
   ],
   "source": [
    "# using na.replace(): replace specific values (including null)\n",
    "print(\"replace 'HR' with 'Human Resources' using na.replace(): \")\n",
    "df_replace = df_na_fill.na.replace(\"HR\", \"Human Resources\")\n",
    "df_replace.show()\n"
   ]
  },
  {
   "cell_type": "code",
   "execution_count": 12,
   "id": "1311b6c6",
   "metadata": {},
   "outputs": [
    {
     "name": "stdout",
     "output_type": "stream",
     "text": [
      "Check if DataFrame is empty: \n"
     ]
    },
    {
     "name": "stderr",
     "output_type": "stream",
     "text": [
      "                                                                                \r"
     ]
    },
    {
     "data": {
      "text/plain": [
       "False"
      ]
     },
     "execution_count": 12,
     "metadata": {},
     "output_type": "execute_result"
    }
   ],
   "source": [
    "# how to check if a DataFrame is empty (No rows)\n",
    "print(\"Check if DataFrame is empty: \")\n",
    "empty_df = df.filter(df.salary > 50000) # filter returns empty DataFrame\n",
    "empty_df.isEmpty()\n"
   ]
  },
  {
   "cell_type": "code",
   "execution_count": 13,
   "id": "352e328d",
   "metadata": {},
   "outputs": [
    {
     "name": "stderr",
     "output_type": "stream",
     "text": [
      "[Stage 23:======================================>                   (2 + 1) / 3]\r"
     ]
    },
    {
     "name": "stdout",
     "output_type": "stream",
     "text": [
      "+---+------+------+----------------+---+\n",
      "| id|  name|salary|      department|age|\n",
      "+---+------+------+----------------+---+\n",
      "|  1| Manta| 75000|              IT| 24|\n",
      "|  3|Souvik| 60000|    Army Officer| 27|\n",
      "|  8| Panta|125000|Business Analyst| 27|\n",
      "+---+------+------+----------------+---+\n",
      "\n"
     ]
    },
    {
     "name": "stderr",
     "output_type": "stream",
     "text": [
      "                                                                                \r"
     ]
    }
   ],
   "source": [
    "empty_df.show()\n"
   ]
  },
  {
   "cell_type": "code",
   "execution_count": null,
   "id": "c84b8728",
   "metadata": {},
   "outputs": [],
   "source": []
  }
 ],
 "metadata": {
  "kernelspec": {
   "display_name": "Python 3",
   "language": "python",
   "name": "python3"
  },
  "language_info": {
   "codemirror_mode": {
    "name": "ipython",
    "version": 3
   },
   "file_extension": ".py",
   "mimetype": "text/x-python",
   "name": "python",
   "nbconvert_exporter": "python",
   "pygments_lexer": "ipython3",
   "version": "3.12.11"
  }
 },
 "nbformat": 4,
 "nbformat_minor": 5
}
