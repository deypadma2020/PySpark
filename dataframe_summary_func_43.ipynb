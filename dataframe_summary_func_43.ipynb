{
 "cells": [
  {
   "cell_type": "markdown",
   "id": "9051dd41",
   "metadata": {},
   "source": [
    "- What is summary() function in PySpark?\n",
    "    - The summary(*statistics) function in PySpark provides descriptive statistics for numeric and columns in a DataFrame.\n",
    "\n",
    "- By default, it shows the following statistics:\n",
    "    - count: total number of rows\n",
    "    - mean: average of numeric columns\n",
    "    - stddev: standard deviation of numeric columns\n",
    "    - min: minimum value\n",
    "    - max: maximum value\n",
    "\n",
    "- can also specify own statistics, like 'count', '25%'(first quartile), '50%'(median), '75%'(third quartile), etc.\n",
    "\n",
    "- Syntax: \n",
    "    DataFrame.summary(*statistics)"
   ]
  },
  {
   "cell_type": "code",
   "execution_count": 2,
   "id": "335d4547",
   "metadata": {},
   "outputs": [
    {
     "name": "stderr",
     "output_type": "stream",
     "text": [
      "WARNING: Using incubator modules: jdk.incubator.vector\n",
      "Using Spark's default log4j profile: org/apache/spark/log4j2-defaults.properties\n",
      "25/09/15 15:08:10 WARN Utils: Your hostname, KLZPC0015, resolves to a loopback address: 127.0.1.1; using 172.25.17.96 instead (on interface eth0)\n",
      "25/09/15 15:08:10 WARN Utils: Set SPARK_LOCAL_IP if you need to bind to another address\n",
      "Using Spark's default log4j profile: org/apache/spark/log4j2-defaults.properties\n",
      "Setting default log level to \"WARN\".\n",
      "To adjust logging level use sc.setLogLevel(newLevel). For SparkR, use setLogLevel(newLevel).\n",
      "25/09/15 15:08:22 WARN NativeCodeLoader: Unable to load native-hadoop library for your platform... using builtin-java classes where applicable\n",
      "25/09/15 15:08:25 WARN Utils: Service 'SparkUI' could not bind on port 4040. Attempting port 4041.\n",
      "25/09/15 15:08:25 WARN Utils: Service 'SparkUI' could not bind on port 4041. Attempting port 4042.\n",
      "25/09/15 15:08:25 WARN Utils: Service 'SparkUI' could not bind on port 4042. Attempting port 4043.\n",
      "25/09/15 15:08:25 WARN Utils: Service 'SparkUI' could not bind on port 4043. Attempting port 4044.\n",
      "25/09/15 15:08:25 WARN Utils: Service 'SparkUI' could not bind on port 4044. Attempting port 4045.\n",
      "25/09/15 15:08:25 WARN Utils: Service 'SparkUI' could not bind on port 4045. Attempting port 4046.\n",
      "25/09/15 15:08:25 WARN Utils: Service 'SparkUI' could not bind on port 4046. Attempting port 4047.\n"
     ]
    }
   ],
   "source": [
    "from pyspark.sql import SparkSession\n",
    "\n",
    "spark = SparkSession.builder.appName(\"DataFrameSummaryExample\").getOrCreate()\n"
   ]
  },
  {
   "cell_type": "code",
   "execution_count": null,
   "id": "e7617f89",
   "metadata": {},
   "outputs": [
    {
     "name": "stderr",
     "output_type": "stream",
     "text": [
      "ERROR:root:KeyboardInterrupt while sending command.\n",
      "Traceback (most recent call last):\n",
      "  File \"/mnt/d/padma/pyspark/pyspark_venv/lib/python3.12/site-packages/py4j/java_gateway.py\", line 1038, in send_command\n",
      "    response = connection.send_command(command)\n",
      "               ^^^^^^^^^^^^^^^^^^^^^^^^^^^^^^^^\n",
      "  File \"/mnt/d/padma/pyspark/pyspark_venv/lib/python3.12/site-packages/py4j/clientserver.py\", line 535, in send_command\n",
      "    answer = smart_decode(self.stream.readline()[:-1])\n",
      "                          ^^^^^^^^^^^^^^^^^^^^^^\n",
      "  File \"/mnt/d/padma/pyspark/pyspark_venv/lib/python3.12/socket.py\", line 720, in readinto\n",
      "    return self._sock.recv_into(b)\n",
      "           ^^^^^^^^^^^^^^^^^^^^^^^\n",
      "KeyboardInterrupt\n"
     ]
    }
   ],
   "source": [
    "data = [\n",
    "    (29, \"Dipankar\", 35000),\n",
    "    (28, \"Prodipta\", 25000),\n",
    "    (27, \"Padma\", 20000),\n",
    "    (26, \"Souvik\", 70000),\n",
    "    (28, \"Soukarjya\", 65000)\n",
    "]\n",
    "\n",
    "columns = [\"age\", \"name\", \"salary\"]\n",
    "\n",
    "df = spark.createDataFrame(data, columns)\n",
    "df.show()\n"
   ]
  },
  {
   "cell_type": "code",
   "execution_count": null,
   "id": "512daf9d",
   "metadata": {},
   "outputs": [],
   "source": [
    "# Using summary() function in Pyspark\n",
    "# Example: default summary statistics(count, mean, stddev, min, max)\n",
    "print(\"Default summary statistics:\")\n",
    "df.summary().show()\n"
   ]
  },
  {
   "cell_type": "code",
   "execution_count": null,
   "id": "52c0b714",
   "metadata": {},
   "outputs": [],
   "source": []
  }
 ],
 "metadata": {
  "kernelspec": {
   "display_name": "Python 3",
   "language": "python",
   "name": "python3"
  },
  "language_info": {
   "codemirror_mode": {
    "name": "ipython",
    "version": 3
   },
   "file_extension": ".py",
   "mimetype": "text/x-python",
   "name": "python",
   "nbconvert_exporter": "python",
   "pygments_lexer": "ipython3",
   "version": "3.12.11"
  }
 },
 "nbformat": 4,
 "nbformat_minor": 5
}
