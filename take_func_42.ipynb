{
 "cells": [
  {
   "cell_type": "markdown",
   "id": "3f1e0bad",
   "metadata": {},
   "source": [
    "- What is take() in PySpark?\n",
    "    - The take(num) function in PySpark is used to retrieve the first 'num' rows from a DataFrame and return them as a list of Row objects.\n",
    "\n",
    "- Key Points:\n",
    "    - Returns the first list 'num' rows.\n",
    "    - Returns a Python list containing Row objects.\n",
    "    - if 'num' is greater than the number of rows in the DataFrame, it returns all rows.\n",
    "    - Commonly used for quick previews of data.\n",
    "\n",
    "- Syntax:\n",
    "    DataFrame.take(num)\n",
    "\n",
    "- Example: \n",
    "    df.take(5) -> Returns the first 5 rows."
   ]
  },
  {
   "cell_type": "code",
   "execution_count": 1,
   "id": "d77bef18",
   "metadata": {},
   "outputs": [
    {
     "name": "stderr",
     "output_type": "stream",
     "text": [
      "WARNING: Using incubator modules: jdk.incubator.vector\n",
      "Using Spark's default log4j profile: org/apache/spark/log4j2-defaults.properties\n",
      "25/09/15 14:40:03 WARN Utils: Your hostname, KLZPC0015, resolves to a loopback address: 127.0.1.1; using 172.25.17.96 instead (on interface eth0)\n",
      "25/09/15 14:40:03 WARN Utils: Set SPARK_LOCAL_IP if you need to bind to another address\n",
      "Using Spark's default log4j profile: org/apache/spark/log4j2-defaults.properties\n",
      "Setting default log level to \"WARN\".\n",
      "To adjust logging level use sc.setLogLevel(newLevel). For SparkR, use setLogLevel(newLevel).\n",
      "25/09/15 14:40:16 WARN NativeCodeLoader: Unable to load native-hadoop library for your platform... using builtin-java classes where applicable\n",
      "25/09/15 14:40:19 WARN Utils: Service 'SparkUI' could not bind on port 4040. Attempting port 4041.\n",
      "25/09/15 14:40:19 WARN Utils: Service 'SparkUI' could not bind on port 4041. Attempting port 4042.\n",
      "25/09/15 14:40:19 WARN Utils: Service 'SparkUI' could not bind on port 4042. Attempting port 4043.\n",
      "25/09/15 14:40:19 WARN Utils: Service 'SparkUI' could not bind on port 4043. Attempting port 4044.\n",
      "25/09/15 14:40:19 WARN Utils: Service 'SparkUI' could not bind on port 4044. Attempting port 4045.\n",
      "25/09/15 14:40:19 WARN Utils: Service 'SparkUI' could not bind on port 4045. Attempting port 4046.\n"
     ]
    }
   ],
   "source": [
    "from pyspark.sql import SparkSession\n",
    "\n",
    "spark = SparkSession.builder.appName(\"takeFunctionExample\").getOrCreate()\n"
   ]
  },
  {
   "cell_type": "code",
   "execution_count": 3,
   "id": "ecda6cef",
   "metadata": {},
   "outputs": [
    {
     "name": "stderr",
     "output_type": "stream",
     "text": [
      "[Stage 1:===================>                                       (1 + 2) / 3]\r"
     ]
    },
    {
     "name": "stdout",
     "output_type": "stream",
     "text": [
      "+---+---------+\n",
      "|age|     name|\n",
      "+---+---------+\n",
      "| 29| Dipankar|\n",
      "| 28| Prodipta|\n",
      "| 27|    Padma|\n",
      "| 26|   Souvik|\n",
      "| 28|Soukarjya|\n",
      "+---+---------+\n",
      "\n"
     ]
    },
    {
     "name": "stderr",
     "output_type": "stream",
     "text": [
      "                                                                                \r"
     ]
    }
   ],
   "source": [
    "data = [\n",
    "    (29, \"Dipankar\"),\n",
    "    (28, \"Prodipta\"),\n",
    "    (27, \"Padma\"),\n",
    "    (26, \"Souvik\"),\n",
    "    (28, \"Soukarjya\")\n",
    "]\n",
    "\n",
    "columns = [\"age\", \"name\"]\n",
    "\n",
    "df = spark.createDataFrame(data, columns)\n",
    "df.show()\n"
   ]
  },
  {
   "cell_type": "code",
   "execution_count": 4,
   "id": "f92855b2",
   "metadata": {},
   "outputs": [
    {
     "name": "stderr",
     "output_type": "stream",
     "text": [
      "                                                                                \r"
     ]
    },
    {
     "name": "stdout",
     "output_type": "stream",
     "text": [
      "First 2 rows using take(): \n",
      "Row(age=29, name='Dipankar')\n",
      "Row(age=28, name='Prodipta')\n"
     ]
    }
   ],
   "source": [
    "# Using take() function in PySpark\n",
    "# Example: Take the first 2 rows\n",
    "\n",
    "first_two_rows = df.take(2)\n",
    "\n",
    "print(\"First 2 rows using take(): \")\n",
    "for row in first_two_rows:\n",
    "    print(row)\n"
   ]
  },
  {
   "cell_type": "code",
   "execution_count": 5,
   "id": "3dd31c73",
   "metadata": {},
   "outputs": [
    {
     "name": "stderr",
     "output_type": "stream",
     "text": [
      "[Stage 5:>                                                          (0 + 3) / 3]\r"
     ]
    },
    {
     "name": "stdout",
     "output_type": "stream",
     "text": [
      "Taking more rows than available (requested 10 rows): \n",
      "Row(age=29, name='Dipankar')\n",
      "Row(age=28, name='Prodipta')\n",
      "Row(age=27, name='Padma')\n",
      "Row(age=26, name='Souvik')\n",
      "Row(age=28, name='Soukarjya')\n"
     ]
    },
    {
     "name": "stderr",
     "output_type": "stream",
     "text": [
      "                                                                                \r"
     ]
    }
   ],
   "source": [
    "# Example: Take more rows than exist (request 10 rows, only 4 rows in DataFrame)\n",
    "more_rows = df.take(10)\n",
    "\n",
    "print(\"Taking more rows than available (requested 10 rows): \")\n",
    "for row in more_rows:\n",
    "    print(row)\n"
   ]
  },
  {
   "cell_type": "markdown",
   "id": "da6c552d",
   "metadata": {},
   "source": [
    "- Summary:\n",
    "    - take() is a quick way to fetch the top 'n' rows from a DataFrame.\n",
    "    - Returns a list of Row objects that you can loop through in Python.\n",
    "    - Helpful for small data previews, testing and debugging"
   ]
  },
  {
   "cell_type": "code",
   "execution_count": null,
   "id": "534cee46",
   "metadata": {},
   "outputs": [],
   "source": []
  }
 ],
 "metadata": {
  "kernelspec": {
   "display_name": "Python 3",
   "language": "python",
   "name": "python3"
  },
  "language_info": {
   "codemirror_mode": {
    "name": "ipython",
    "version": 3
   },
   "file_extension": ".py",
   "mimetype": "text/x-python",
   "name": "python",
   "nbconvert_exporter": "python",
   "pygments_lexer": "ipython3",
   "version": "3.12.11"
  }
 },
 "nbformat": 4,
 "nbformat_minor": 5
}
