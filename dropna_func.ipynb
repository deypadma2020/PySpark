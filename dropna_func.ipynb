{
 "cells": [
  {
   "cell_type": "code",
   "execution_count": 2,
   "id": "7a2c4ee2",
   "metadata": {},
   "outputs": [
    {
     "name": "stderr",
     "output_type": "stream",
     "text": [
      "your 131072x1 screen size is bogus. expect trouble\n",
      "25/08/20 13:57:32 WARN Utils: Your hostname, KLZPC0015 resolves to a loopback address: 127.0.1.1; using 172.25.17.96 instead (on interface eth0)\n",
      "25/08/20 13:57:32 WARN Utils: Set SPARK_LOCAL_IP if you need to bind to another address\n",
      "Setting default log level to \"WARN\".\n",
      "To adjust logging level use sc.setLogLevel(newLevel). For SparkR, use setLogLevel(newLevel).\n",
      "25/08/20 13:57:34 WARN NativeCodeLoader: Unable to load native-hadoop library for your platform... using builtin-java classes where applicable\n",
      "25/08/20 13:57:37 WARN Utils: Service 'SparkUI' could not bind on port 4040. Attempting port 4041.\n",
      "25/08/20 13:57:37 WARN Utils: Service 'SparkUI' could not bind on port 4041. Attempting port 4042.\n",
      "25/08/20 13:57:37 WARN Utils: Service 'SparkUI' could not bind on port 4042. Attempting port 4043.\n"
     ]
    }
   ],
   "source": [
    "from pyspark.sql import SparkSession, Row\n",
    "\n",
    "spark = SparkSession.builder.appName(\"RowExample\").getOrCreate()\n"
   ]
  },
  {
   "cell_type": "code",
   "execution_count": 3,
   "id": "c682741d",
   "metadata": {},
   "outputs": [],
   "source": [
    "data = [\n",
    "    (1, \"Manta\", 75000, \"IT\", 24),\n",
    "    (2, \"Dipankar\", 30000, None, 27),\n",
    "    (3, \"Souvik\", 60000, \"Army Officer\", 27),\n",
    "    (4, \"Soukarjya\", 45000, \"BDO\", \"null\"),\n",
    "    (5, \"Arvind\", 35000, \"Business Data Analyst\", 28),\n",
    "    (6, \"Prodipta\", 25000, \"Data Analyst\", 28),\n",
    "    (7, \"Padma\", 20000, \"Data Analyst\", 27),\n",
    "    (8, \"Panta\", 125000, \"Business Analyst\", 27),\n",
    "    (9, \"Sougato\", None, \"Para Medical\", 29)\n",
    "]\n"
   ]
  },
  {
   "cell_type": "code",
   "execution_count": 4,
   "id": "0d15c62a",
   "metadata": {},
   "outputs": [
    {
     "name": "stderr",
     "output_type": "stream",
     "text": [
      "                                                                                \r"
     ]
    },
    {
     "name": "stdout",
     "output_type": "stream",
     "text": [
      "+---+---------+------+--------------------+----+\n",
      "| id|     name|salary|          department| age|\n",
      "+---+---------+------+--------------------+----+\n",
      "|  1|    Manta| 75000|                  IT|  24|\n",
      "|  2| Dipankar| 30000|                NULL|  27|\n",
      "|  3|   Souvik| 60000|        Army Officer|  27|\n",
      "|  4|Soukarjya| 45000|                 BDO|null|\n",
      "|  5|   Arvind| 35000|Business Data Ana...|  28|\n",
      "+---+---------+------+--------------------+----+\n",
      "only showing top 5 rows\n",
      "\n"
     ]
    }
   ],
   "source": [
    "df = spark.createDataFrame(data, [\"id\", \"name\", \"salary\", \"department\", \"age\"])\n",
    "df.show(5)\n"
   ]
  },
  {
   "cell_type": "code",
   "execution_count": 4,
   "id": "a9f0e12c",
   "metadata": {},
   "outputs": [
    {
     "name": "stdout",
     "output_type": "stream",
     "text": [
      "Removing rows where any column has NULL values: \n"
     ]
    },
    {
     "name": "stderr",
     "output_type": "stream",
     "text": [
      "[Stage 3:===================>                                       (1 + 2) / 3]\r"
     ]
    },
    {
     "name": "stdout",
     "output_type": "stream",
     "text": [
      "+---+---------+------+--------------------+----+\n",
      "| id|     name|salary|          department| age|\n",
      "+---+---------+------+--------------------+----+\n",
      "|  1|    Manta| 75000|                  IT|  24|\n",
      "|  3|   Souvik| 60000|        Army Officer|  27|\n",
      "|  4|Soukarjya| 45000|                 BDO|null|\n",
      "|  5|   Arvind| 35000|Business Data Ana...|  28|\n",
      "|  6| Prodipta| 25000|        Data Analyst|  28|\n",
      "|  7|    Padma| 20000|        Data Analyst|  27|\n",
      "|  8|    Panta|125000|    Business Analyst|  27|\n",
      "+---+---------+------+--------------------+----+\n",
      "\n"
     ]
    },
    {
     "name": "stderr",
     "output_type": "stream",
     "text": [
      "                                                                                \r"
     ]
    }
   ],
   "source": [
    "print(\"Removing rows where any column has NULL values: \")\n",
    "df_dropna_any = df.dropna()\n",
    "df_dropna_any.show()\n"
   ]
  },
  {
   "cell_type": "code",
   "execution_count": 5,
   "id": "997be723",
   "metadata": {},
   "outputs": [
    {
     "name": "stdout",
     "output_type": "stream",
     "text": [
      "Removing rows where all values are NULL: \n"
     ]
    },
    {
     "name": "stderr",
     "output_type": "stream",
     "text": [
      "[Stage 5:===================>                                       (1 + 2) / 3]\r"
     ]
    },
    {
     "name": "stdout",
     "output_type": "stream",
     "text": [
      "+---+---------+------+--------------------+----+\n",
      "| id|     name|salary|          department| age|\n",
      "+---+---------+------+--------------------+----+\n",
      "|  1|    Manta| 75000|                  IT|  24|\n",
      "|  2| Dipankar| 30000|                NULL|  27|\n",
      "|  3|   Souvik| 60000|        Army Officer|  27|\n",
      "|  4|Soukarjya| 45000|                 BDO|null|\n",
      "|  5|   Arvind| 35000|Business Data Ana...|  28|\n",
      "|  6| Prodipta| 25000|        Data Analyst|  28|\n",
      "|  7|    Padma| 20000|        Data Analyst|  27|\n",
      "|  8|    Panta|125000|    Business Analyst|  27|\n",
      "|  9|  Sougato|  NULL|        Para Medical|  29|\n",
      "+---+---------+------+--------------------+----+\n",
      "\n"
     ]
    },
    {
     "name": "stderr",
     "output_type": "stream",
     "text": [
      "                                                                                \r"
     ]
    }
   ],
   "source": [
    "print(\"Removing rows where all values are NULL: \")\n",
    "df_dropna_all = df.dropna(how=\"all\")\n",
    "df_dropna_all.show()\n"
   ]
  },
  {
   "cell_type": "code",
   "execution_count": 6,
   "id": "8f4b842a",
   "metadata": {},
   "outputs": [
    {
     "name": "stdout",
     "output_type": "stream",
     "text": [
      "Removing rows where 'name' or 'salary' is NULL: \n"
     ]
    },
    {
     "name": "stderr",
     "output_type": "stream",
     "text": [
      "[Stage 7:===================>                                       (1 + 2) / 3]\r"
     ]
    },
    {
     "name": "stdout",
     "output_type": "stream",
     "text": [
      "+---+---------+------+--------------------+----+\n",
      "| id|     name|salary|          department| age|\n",
      "+---+---------+------+--------------------+----+\n",
      "|  1|    Manta| 75000|                  IT|  24|\n",
      "|  2| Dipankar| 30000|                NULL|  27|\n",
      "|  3|   Souvik| 60000|        Army Officer|  27|\n",
      "|  4|Soukarjya| 45000|                 BDO|null|\n",
      "|  5|   Arvind| 35000|Business Data Ana...|  28|\n",
      "|  6| Prodipta| 25000|        Data Analyst|  28|\n",
      "|  7|    Padma| 20000|        Data Analyst|  27|\n",
      "|  8|    Panta|125000|    Business Analyst|  27|\n",
      "+---+---------+------+--------------------+----+\n",
      "\n"
     ]
    },
    {
     "name": "stderr",
     "output_type": "stream",
     "text": [
      "                                                                                \r"
     ]
    }
   ],
   "source": [
    "print(\"Removing rows where 'name' or 'salary' is NULL: \")\n",
    "df_dropna_subset = df.dropna(subset=[\"name\", \"salary\"])\n",
    "df_dropna_subset.show()\n"
   ]
  },
  {
   "cell_type": "code",
   "execution_count": null,
   "id": "47dd24fa",
   "metadata": {},
   "outputs": [],
   "source": []
  }
 ],
 "metadata": {
  "kernelspec": {
   "display_name": "Python 3",
   "language": "python",
   "name": "python3"
  },
  "language_info": {
   "codemirror_mode": {
    "name": "ipython",
    "version": 3
   },
   "file_extension": ".py",
   "mimetype": "text/x-python",
   "name": "python",
   "nbconvert_exporter": "python",
   "pygments_lexer": "ipython3",
   "version": "3.12.11"
  }
 },
 "nbformat": 4,
 "nbformat_minor": 5
}
