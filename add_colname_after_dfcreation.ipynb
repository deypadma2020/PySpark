{
 "cells": [
  {
   "cell_type": "code",
   "execution_count": null,
   "id": "59206c22",
   "metadata": {},
   "outputs": [],
   "source": [
    "from pyspark.sql import SparkSession, Row\n",
    "\n",
    "spark = SparkSession.builder.appName(\"RowExample\").getOrCreate()\n"
   ]
  },
  {
   "cell_type": "code",
   "execution_count": null,
   "id": "c1ec02b3",
   "metadata": {},
   "outputs": [],
   "source": [
    "data = [\n",
    "    (1, \"Dipankar\", 27),\n",
    "    (2, \"Shankha\", 26),\n",
    "    (3, \"Tuhin\", 27)\n",
    "]\n",
    "\n",
    "df = spark.createDataFrame(data)\n",
    "df.show()\n",
    "\n",
    "df.printSchema()\n"
   ]
  },
  {
   "cell_type": "code",
   "execution_count": null,
   "id": "92c77129",
   "metadata": {},
   "outputs": [],
   "source": [
    "df = df.toDF(\"id\", \"name\", \"age\")\n",
    "df.show()\n"
   ]
  },
  {
   "cell_type": "code",
   "execution_count": null,
   "id": "6e282dc6",
   "metadata": {},
   "outputs": [],
   "source": [
    "data = [\n",
    "    (1, \"Dipankar\", 27),\n",
    "    (2, \"Shankha\", 26),\n",
    "    (3, \"Tuhin\", 27)\n",
    "]\n",
    "\n",
    "df = spark.createDataFrame(data).toDF(\"id\", \"name\", \"age\")\n",
    "df.show()\n"
   ]
  },
  {
   "cell_type": "code",
   "execution_count": null,
   "id": "20f1e75f",
   "metadata": {},
   "outputs": [],
   "source": [
    "df.printSchema()\n"
   ]
  }
 ],
 "metadata": {
  "language_info": {
   "name": "python"
  }
 },
 "nbformat": 4,
 "nbformat_minor": 5
}
