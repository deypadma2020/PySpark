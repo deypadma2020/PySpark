{
 "cells": [
  {
   "cell_type": "markdown",
   "id": "133d67aa",
   "metadata": {},
   "source": [
    "fillna() is used in PySpark to replace NULL or missing values in DataFrame columns.\n",
    "- A single value to replace all NULLs\n",
    "- A dictionary to specify different replacement values for different columns"
   ]
  },
  {
   "cell_type": "code",
   "execution_count": 1,
   "id": "cc8b9ed2",
   "metadata": {},
   "outputs": [
    {
     "name": "stderr",
     "output_type": "stream",
     "text": [
      "WARNING: Using incubator modules: jdk.incubator.vector\n",
      "Using Spark's default log4j profile: org/apache/spark/log4j2-defaults.properties\n",
      "25/09/08 07:10:11 WARN Utils: Your hostname, KLZPC0015, resolves to a loopback address: 127.0.1.1; using 172.25.17.96 instead (on interface eth0)\n",
      "25/09/08 07:10:11 WARN Utils: Set SPARK_LOCAL_IP if you need to bind to another address\n",
      "Using Spark's default log4j profile: org/apache/spark/log4j2-defaults.properties\n",
      "Setting default log level to \"WARN\".\n",
      "To adjust logging level use sc.setLogLevel(newLevel). For SparkR, use setLogLevel(newLevel).\n",
      "25/09/08 07:10:23 WARN NativeCodeLoader: Unable to load native-hadoop library for your platform... using builtin-java classes where applicable\n"
     ]
    }
   ],
   "source": [
    "# import SparkSession and Create Spark Session\n",
    "from pyspark.sql import SparkSession, Row\n",
    "\n",
    "spark = SparkSession.builder.appName(\"PySparkFillnaFunction\").getOrCreate()\n"
   ]
  },
  {
   "cell_type": "code",
   "execution_count": 2,
   "id": "07b456a8",
   "metadata": {},
   "outputs": [
    {
     "name": "stderr",
     "output_type": "stream",
     "text": [
      "                                                                                \r"
     ]
    },
    {
     "name": "stdout",
     "output_type": "stream",
     "text": [
      "+---+---------+------+--------------------+----+\n",
      "| id|     name|salary|          department| age|\n",
      "+---+---------+------+--------------------+----+\n",
      "|  1|    Manta| 75000|                  IT|  24|\n",
      "|  2| Dipankar| 30000|                NULL|  27|\n",
      "|  3|   Souvik| 60000|        Army Officer|  27|\n",
      "|  4|Soukarjya| 45000|                 BDO|null|\n",
      "|  5|   Arvind| 35000|Business Data Ana...|  28|\n",
      "|  6| Prodipta| 25000|        Data Analyst|  28|\n",
      "|  7|    Padma| 20000|        Data Analyst|NULL|\n",
      "|  8|    Panta|125000|    Business Analyst|  27|\n",
      "|  9|  Sougato|  NULL|                NULL|  29|\n",
      "+---+---------+------+--------------------+----+\n",
      "\n"
     ]
    }
   ],
   "source": [
    "# create sample dataframes\n",
    "data = [\n",
    "    (1, \"Manta\", 75000, \"IT\", 24),\n",
    "    (2, \"Dipankar\", 30000, None, 27),\n",
    "    (3, \"Souvik\", 60000, \"Army Officer\", 27),\n",
    "    (4, \"Soukarjya\", 45000, \"BDO\", \"null\"),\n",
    "    (5, \"Arvind\", 35000, \"Business Data Analyst\", 28),\n",
    "    (6, \"Prodipta\", 25000, \"Data Analyst\", 28),\n",
    "    (7, \"Padma\", 20000, \"Data Analyst\", None),\n",
    "    (8, \"Panta\", 125000, \"Business Analyst\", 27),\n",
    "    (9, \"Sougato\", None, None, 29)\n",
    "]\n",
    "\n",
    "columns = [\"id\", \"name\", \"salary\", \"department\", \"age\"]\n",
    "\n",
    "df = spark.createDataFrame(data, schema=columns)\n",
    "df.show()\n"
   ]
  },
  {
   "cell_type": "code",
   "execution_count": 3,
   "id": "f05ee04d",
   "metadata": {},
   "outputs": [
    {
     "name": "stdout",
     "output_type": "stream",
     "text": [
      "Fill all NULLs with 'Unknown' for string columns and 0 for numeric columns: \n"
     ]
    },
    {
     "name": "stderr",
     "output_type": "stream",
     "text": [
      "[Stage 3:===================>                                       (1 + 2) / 3]\r"
     ]
    },
    {
     "name": "stdout",
     "output_type": "stream",
     "text": [
      "+---+---------+------+--------------------+-------+\n",
      "| id|     name|salary|          department|    age|\n",
      "+---+---------+------+--------------------+-------+\n",
      "|  1|    Manta| 75000|                  IT|     24|\n",
      "|  2| Dipankar| 30000|             Unknown|     27|\n",
      "|  3|   Souvik| 60000|        Army Officer|     27|\n",
      "|  4|Soukarjya| 45000|                 BDO|   null|\n",
      "|  5|   Arvind| 35000|Business Data Ana...|     28|\n",
      "|  6| Prodipta| 25000|        Data Analyst|     28|\n",
      "|  7|    Padma| 20000|        Data Analyst|Unknown|\n",
      "|  8|    Panta|125000|    Business Analyst|     27|\n",
      "|  9|  Sougato|     0|             Unknown|     29|\n",
      "+---+---------+------+--------------------+-------+\n",
      "\n"
     ]
    },
    {
     "name": "stderr",
     "output_type": "stream",
     "text": [
      "                                                                                \r"
     ]
    }
   ],
   "source": [
    "# fillna() Example - Fill NULL values with a single value\n",
    "print(\"Fill all NULLs with 'Unknown' for string columns and 0 for numeric columns: \")\n",
    "df_fill_all = df.fillna(\"Unknown\").fillna(0)\n",
    "df_fill_all.show()\n"
   ]
  },
  {
   "cell_type": "code",
   "execution_count": 4,
   "id": "df335e4f",
   "metadata": {},
   "outputs": [
    {
     "name": "stdout",
     "output_type": "stream",
     "text": [
      "Fill NULLs in 'department' with 'Unknown' and 'salary' with 0\n"
     ]
    },
    {
     "name": "stderr",
     "output_type": "stream",
     "text": [
      "[Stage 5:===================>                                       (1 + 2) / 3]\r"
     ]
    },
    {
     "name": "stdout",
     "output_type": "stream",
     "text": [
      "+---+---------+------+--------------------+----+\n",
      "| id|     name|salary|          department| age|\n",
      "+---+---------+------+--------------------+----+\n",
      "|  1|    Manta| 75000|                  IT|  24|\n",
      "|  2| Dipankar| 30000|             Unknown|  27|\n",
      "|  3|   Souvik| 60000|        Army Officer|  27|\n",
      "|  4|Soukarjya| 45000|                 BDO|null|\n",
      "|  5|   Arvind| 35000|Business Data Ana...|  28|\n",
      "|  6| Prodipta| 25000|        Data Analyst|  28|\n",
      "|  7|    Padma| 20000|        Data Analyst|NULL|\n",
      "|  8|    Panta|125000|    Business Analyst|  27|\n",
      "|  9|  Sougato|     0|             Unknown|  29|\n",
      "+---+---------+------+--------------------+----+\n",
      "\n"
     ]
    },
    {
     "name": "stderr",
     "output_type": "stream",
     "text": [
      "                                                                                \r"
     ]
    }
   ],
   "source": [
    "# fillna() Example - Fill NULL values by specifying column-specific values\n",
    "print(\"Fill NULLs in 'department' with 'Unknown' and 'salary' with 0\")\n",
    "\n",
    "df_fill_columns = df.fillna(\n",
    "    {\n",
    "        \"department\": \"Unknown\",\n",
    "        \"salary\": 0\n",
    "    }\n",
    ")\n",
    "df_fill_columns.show()\n"
   ]
  },
  {
   "cell_type": "code",
   "execution_count": 5,
   "id": "bc791d01",
   "metadata": {},
   "outputs": [
    {
     "name": "stdout",
     "output_type": "stream",
     "text": [
      "Fill NULLs only in 'name' column with 'No Name': \n"
     ]
    },
    {
     "name": "stderr",
     "output_type": "stream",
     "text": [
      "                                                                                \r"
     ]
    },
    {
     "name": "stdout",
     "output_type": "stream",
     "text": [
      "+---+---------+------+--------------------+----+\n",
      "| id|     name|salary|          department| age|\n",
      "+---+---------+------+--------------------+----+\n",
      "|  1|    Manta| 75000|                  IT|  24|\n",
      "|  2| Dipankar| 30000|                NULL|  27|\n",
      "|  3|   Souvik| 60000|        Army Officer|  27|\n",
      "|  4|Soukarjya| 45000|                 BDO|null|\n",
      "|  5|   Arvind| 35000|Business Data Ana...|  28|\n",
      "|  6| Prodipta| 25000|        Data Analyst|  28|\n",
      "|  7|    Padma| 20000|        Data Analyst|NULL|\n",
      "|  8|    Panta|125000|    Business Analyst|  27|\n",
      "|  9|  Sougato|  NULL|                NULL|  29|\n",
      "+---+---------+------+--------------------+----+\n",
      "\n"
     ]
    }
   ],
   "source": [
    "# fillna() Example - Fill NULL values in a specific column only\n",
    "print(\"Fill NULLs only in 'name' column with 'No Name': \")\n",
    "\n",
    "df_fill_name = df.fillna(\"No Name\", subset=[\"Name\"])\n",
    "df_fill_name.show()\n"
   ]
  },
  {
   "cell_type": "code",
   "execution_count": null,
   "id": "2f531390",
   "metadata": {},
   "outputs": [],
   "source": []
  }
 ],
 "metadata": {
  "kernelspec": {
   "display_name": "Python 3",
   "language": "python",
   "name": "python3"
  },
  "language_info": {
   "codemirror_mode": {
    "name": "ipython",
    "version": 3
   },
   "file_extension": ".py",
   "mimetype": "text/x-python",
   "name": "python",
   "nbconvert_exporter": "python",
   "pygments_lexer": "ipython3",
   "version": "3.12.11"
  }
 },
 "nbformat": 4,
 "nbformat_minor": 5
}
