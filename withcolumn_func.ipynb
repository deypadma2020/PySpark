{
 "cells": [
  {
   "cell_type": "code",
   "execution_count": 1,
   "id": "180b850c",
   "metadata": {},
   "outputs": [
    {
     "name": "stderr",
     "output_type": "stream",
     "text": [
      "your 131072x1 screen size is bogus. expect trouble\n",
      "25/08/19 15:00:59 WARN Utils: Your hostname, KLZPC0015 resolves to a loopback address: 127.0.1.1; using 172.25.17.96 instead (on interface eth0)\n",
      "25/08/19 15:00:59 WARN Utils: Set SPARK_LOCAL_IP if you need to bind to another address\n",
      "Setting default log level to \"WARN\".\n",
      "To adjust logging level use sc.setLogLevel(newLevel). For SparkR, use setLogLevel(newLevel).\n",
      "25/08/19 15:01:02 WARN NativeCodeLoader: Unable to load native-hadoop library for your platform... using builtin-java classes where applicable\n",
      "25/08/19 15:01:04 WARN Utils: Service 'SparkUI' could not bind on port 4040. Attempting port 4041.\n"
     ]
    }
   ],
   "source": [
    "from pyspark.sql.functions import col, expr, lit\n",
    "from pyspark.sql import SparkSession, Row\n",
    "\n",
    "spark = SparkSession.builder.appName(\"RowExample\").getOrCreate()\n"
   ]
  },
  {
   "cell_type": "code",
   "execution_count": 2,
   "id": "33c35d74",
   "metadata": {},
   "outputs": [],
   "source": [
    "data = [\n",
    "    (1, \"Manta\", 75000, \"IT\", 24),\n",
    "    (2, \"Dipankar\", 30000, \"Post Master\", 27),\n",
    "    (3, \"Souvik\", 60000, \"Army Officer\", 27),\n",
    "    (4, \"Soukarjya\", 45000, \"BDO\", 26),\n",
    "    (5, \"Arvind\", 35000, \"Business Data Analyst\", 28)\n",
    "]\n"
   ]
  },
  {
   "cell_type": "code",
   "execution_count": 3,
   "id": "532e0e31",
   "metadata": {},
   "outputs": [
    {
     "name": "stderr",
     "output_type": "stream",
     "text": [
      "                                                                                \r"
     ]
    },
    {
     "name": "stdout",
     "output_type": "stream",
     "text": [
      "+---+---------+------+--------------------+---+\n",
      "| id|     name|salary|          department|age|\n",
      "+---+---------+------+--------------------+---+\n",
      "|  1|    Manta| 75000|                  IT| 24|\n",
      "|  2| Dipankar| 30000|         Post Master| 27|\n",
      "|  3|   Souvik| 60000|        Army Officer| 27|\n",
      "|  4|Soukarjya| 45000|                 BDO| 26|\n",
      "|  5|   Arvind| 35000|Business Data Ana...| 28|\n",
      "+---+---------+------+--------------------+---+\n",
      "\n"
     ]
    }
   ],
   "source": [
    "df = spark.createDataFrame(data, [\"id\", \"name\", \"salary\", \"department\", \"age\"])\n",
    "df.show()\n"
   ]
  },
  {
   "cell_type": "code",
   "execution_count": 4,
   "id": "881572a3",
   "metadata": {},
   "outputs": [
    {
     "name": "stdout",
     "output_type": "stream",
     "text": [
      "DataFrame after adding 'bonus' column: \n"
     ]
    },
    {
     "name": "stderr",
     "output_type": "stream",
     "text": [
      "                                                                                \r"
     ]
    },
    {
     "name": "stdout",
     "output_type": "stream",
     "text": [
      "+---+---------+------+--------------------+---+-----+\n",
      "| id|     name|salary|          department|age|bonus|\n",
      "+---+---------+------+--------------------+---+-----+\n",
      "|  1|    Manta| 75000|                  IT| 24| 1000|\n",
      "|  2| Dipankar| 30000|         Post Master| 27| 1000|\n",
      "|  3|   Souvik| 60000|        Army Officer| 27| 1000|\n",
      "|  4|Soukarjya| 45000|                 BDO| 26| 1000|\n",
      "|  5|   Arvind| 35000|Business Data Ana...| 28| 1000|\n",
      "+---+---------+------+--------------------+---+-----+\n",
      "\n"
     ]
    }
   ],
   "source": [
    "df_new = df.withColumn(\"bonus\", lit(1000))\n",
    "print(\"DataFrame after adding 'bonus' column: \")\n",
    "df_new.show()\n"
   ]
  },
  {
   "cell_type": "code",
   "execution_count": 5,
   "id": "5a15888c",
   "metadata": {},
   "outputs": [
    {
     "name": "stdout",
     "output_type": "stream",
     "text": [
      "DataFrame after updating 'salary' column: \n"
     ]
    },
    {
     "name": "stderr",
     "output_type": "stream",
     "text": [
      "                                                                                \r"
     ]
    },
    {
     "name": "stdout",
     "output_type": "stream",
     "text": [
      "+---+---------+-----------------+--------------------+---+-----+\n",
      "| id|     name|           salary|          department|age|bonus|\n",
      "+---+---------+-----------------+--------------------+---+-----+\n",
      "|  1|    Manta|          82500.0|                  IT| 24| 1000|\n",
      "|  2| Dipankar|          33000.0|         Post Master| 27| 1000|\n",
      "|  3|   Souvik|          66000.0|        Army Officer| 27| 1000|\n",
      "|  4|Soukarjya|49500.00000000001|                 BDO| 26| 1000|\n",
      "|  5|   Arvind|          38500.0|Business Data Ana...| 28| 1000|\n",
      "+---+---------+-----------------+--------------------+---+-----+\n",
      "\n"
     ]
    }
   ],
   "source": [
    "df_updated = df_new.withColumn(\"salary\", col(\"salary\") * 1.10)\n",
    "print(\"DataFrame after updating 'salary' column: \")\n",
    "df_updated.show()\n"
   ]
  },
  {
   "cell_type": "code",
   "execution_count": 6,
   "id": "2c2025d7",
   "metadata": {},
   "outputs": [
    {
     "name": "stdout",
     "output_type": "stream",
     "text": [
      "DataFrame after updating after using an expression: \n"
     ]
    },
    {
     "name": "stderr",
     "output_type": "stream",
     "text": [
      "[Stage 7:===================>                                       (1 + 2) / 3]\r"
     ]
    },
    {
     "name": "stdout",
     "output_type": "stream",
     "text": [
      "+---+---------+-----------------+--------------------+---+-----+-----------------+\n",
      "| id|     name|           salary|          department|age|bonus|salary_with_bonus|\n",
      "+---+---------+-----------------+--------------------+---+-----+-----------------+\n",
      "|  1|    Manta|          82500.0|                  IT| 24| 1000|          83500.0|\n",
      "|  2| Dipankar|          33000.0|         Post Master| 27| 1000|          34000.0|\n",
      "|  3|   Souvik|          66000.0|        Army Officer| 27| 1000|          67000.0|\n",
      "|  4|Soukarjya|49500.00000000001|                 BDO| 26| 1000|50500.00000000001|\n",
      "|  5|   Arvind|          38500.0|Business Data Ana...| 28| 1000|          39500.0|\n",
      "+---+---------+-----------------+--------------------+---+-----+-----------------+\n",
      "\n"
     ]
    },
    {
     "name": "stderr",
     "output_type": "stream",
     "text": [
      "                                                                                \r"
     ]
    }
   ],
   "source": [
    "df_expr = df_updated.withColumn(\"salary_with_bonus\", expr(\"salary + bonus\"))\n",
    "print(\"DataFrame after updating after using an expression: \")\n",
    "df_expr.show()\n"
   ]
  },
  {
   "cell_type": "code",
   "execution_count": 7,
   "id": "742fcd3f",
   "metadata": {},
   "outputs": [
    {
     "name": "stdout",
     "output_type": "stream",
     "text": [
      "DtaFrame after changing 'salary' column type: \n"
     ]
    },
    {
     "name": "stderr",
     "output_type": "stream",
     "text": [
      "[Stage 9:===================>                                       (1 + 2) / 3]\r"
     ]
    },
    {
     "name": "stdout",
     "output_type": "stream",
     "text": [
      "+---+---------+------+--------------------+---+-----+-----------------+\n",
      "| id|     name|salary|          department|age|bonus|salary_with_bonus|\n",
      "+---+---------+------+--------------------+---+-----+-----------------+\n",
      "|  1|    Manta| 82500|                  IT| 24| 1000|          83500.0|\n",
      "|  2| Dipankar| 33000|         Post Master| 27| 1000|          34000.0|\n",
      "|  3|   Souvik| 66000|        Army Officer| 27| 1000|          67000.0|\n",
      "|  4|Soukarjya| 49500|                 BDO| 26| 1000|50500.00000000001|\n",
      "|  5|   Arvind| 38500|Business Data Ana...| 28| 1000|          39500.0|\n",
      "+---+---------+------+--------------------+---+-----+-----------------+\n",
      "\n"
     ]
    },
    {
     "name": "stderr",
     "output_type": "stream",
     "text": [
      "                                                                                \r"
     ]
    }
   ],
   "source": [
    "df_type_changed = df_expr.withColumn(\"salary\", col(\"salary\").cast(\"Integer\"))\n",
    "print(\"DtaFrame after changing 'salary' column type: \")\n",
    "df_type_changed.show()\n"
   ]
  },
  {
   "cell_type": "code",
   "execution_count": 10,
   "id": "1b658e8f",
   "metadata": {},
   "outputs": [
    {
     "name": "stdout",
     "output_type": "stream",
     "text": [
      "DataFrame after renaming 'name' column to 'emp_name':\n"
     ]
    },
    {
     "name": "stderr",
     "output_type": "stream",
     "text": [
      "[Stage 11:===================>                                      (1 + 2) / 3]\r"
     ]
    },
    {
     "name": "stdout",
     "output_type": "stream",
     "text": [
      "+---+---------+------+--------------------+---+-----+-----------------+\n",
      "| id| emp_name|salary|          department|age|bonus|salary_with_bonus|\n",
      "+---+---------+------+--------------------+---+-----+-----------------+\n",
      "|  1|    Manta| 82500|                  IT| 24| 1000|          83500.0|\n",
      "|  2| Dipankar| 33000|         Post Master| 27| 1000|          34000.0|\n",
      "|  3|   Souvik| 66000|        Army Officer| 27| 1000|          67000.0|\n",
      "|  4|Soukarjya| 49500|                 BDO| 26| 1000|50500.00000000001|\n",
      "|  5|   Arvind| 38500|Business Data Ana...| 28| 1000|          39500.0|\n",
      "+---+---------+------+--------------------+---+-----+-----------------+\n",
      "\n"
     ]
    },
    {
     "name": "stderr",
     "output_type": "stream",
     "text": [
      "                                                                                \r"
     ]
    }
   ],
   "source": [
    "# df_renamed = df_type_changed.withColumn(\"emp_name\", col(\"emp_name\")).drop(\"name\")\n",
    "# print(\"DataFrame after renaming 'name' column to 'emp_name': \")\n",
    "# df_renamed.show()\n",
    "\n",
    "\n",
    "df_renamed = df_type_changed.withColumnRenamed(\"name\", \"emp_name\")\n",
    "print(\"DataFrame after renaming 'name' column to 'emp_name':\")\n",
    "df_renamed.show()\n"
   ]
  },
  {
   "cell_type": "code",
   "execution_count": 12,
   "id": "91fce3e5",
   "metadata": {},
   "outputs": [
    {
     "name": "stdout",
     "output_type": "stream",
     "text": [
      "DataFrame after renaming 'name' column to 'emp_name_test': \n"
     ]
    },
    {
     "name": "stderr",
     "output_type": "stream",
     "text": [
      "[Stage 13:===================>                                      (1 + 2) / 3]\r"
     ]
    },
    {
     "name": "stdout",
     "output_type": "stream",
     "text": [
      "+---+------+--------------------+---+-----+-----------------+-------------+------+\n",
      "| id|salary|          department|age|bonus|salary_with_bonus|emp_name_test|bonus1|\n",
      "+---+------+--------------------+---+-----+-----------------+-------------+------+\n",
      "|  1| 82500|                  IT| 24| 1000|          83500.0|        Manta|  1000|\n",
      "|  2| 33000|         Post Master| 27| 1000|          34000.0|     Dipankar|  1000|\n",
      "|  3| 66000|        Army Officer| 27| 1000|          67000.0|       Souvik|  1000|\n",
      "|  4| 49500|                 BDO| 26| 1000|50500.00000000001|    Soukarjya|  1000|\n",
      "|  5| 38500|Business Data Ana...| 28| 1000|          39500.0|       Arvind|  1000|\n",
      "+---+------+--------------------+---+-----+-----------------+-------------+------+\n",
      "\n"
     ]
    },
    {
     "name": "stderr",
     "output_type": "stream",
     "text": [
      "                                                                                \r"
     ]
    }
   ],
   "source": [
    "from pyspark.sql.functions import col, lit\n",
    "\n",
    "df1 = (\n",
    "    df_type_changed\n",
    "    .withColumn(\"emp_name_test\", col(\"name\"))   # use existing \"name\"\n",
    "    .drop(\"name\")                               # drop the old column\n",
    "    .withColumn(\"salary\", col(\"salary\").cast(\"Integer\"))  # proper cast\n",
    "    .withColumn(\"bonus1\", lit(1000))            # add new column\n",
    ")\n",
    "\n",
    "print(\"DataFrame after renaming 'name' column to 'emp_name_test': \")\n",
    "df1.show()\n"
   ]
  },
  {
   "cell_type": "code",
   "execution_count": null,
   "id": "a785b3c5",
   "metadata": {},
   "outputs": [],
   "source": []
  }
 ],
 "metadata": {
  "kernelspec": {
   "display_name": "Python 3",
   "language": "python",
   "name": "python3"
  },
  "language_info": {
   "codemirror_mode": {
    "name": "ipython",
    "version": 3
   },
   "file_extension": ".py",
   "mimetype": "text/x-python",
   "name": "python",
   "nbconvert_exporter": "python",
   "pygments_lexer": "ipython3",
   "version": "3.12.11"
  }
 },
 "nbformat": 4,
 "nbformat_minor": 5
}
