{
 "cells": [
  {
   "cell_type": "markdown",
   "id": "a84b2de0",
   "metadata": {},
   "source": [
    "groupBy() in PySpark is used to group rows based on one or more columns, After grouping, we can apply aggregate functions like count(), sum(), avg(), min(), max(), etc. It works like GROUP BY in SQL."
   ]
  },
  {
   "cell_type": "code",
   "execution_count": 2,
   "id": "bed9442c",
   "metadata": {},
   "outputs": [
    {
     "name": "stderr",
     "output_type": "stream",
     "text": [
      "WARNING: Using incubator modules: jdk.incubator.vector\n",
      "Using Spark's default log4j profile: org/apache/spark/log4j2-defaults.properties\n",
      "25/09/08 08:52:12 WARN Utils: Your hostname, KLZPC0015, resolves to a loopback address: 127.0.1.1; using 172.25.17.96 instead (on interface eth0)\n",
      "25/09/08 08:52:12 WARN Utils: Set SPARK_LOCAL_IP if you need to bind to another address\n",
      "Using Spark's default log4j profile: org/apache/spark/log4j2-defaults.properties\n",
      "Setting default log level to \"WARN\".\n",
      "To adjust logging level use sc.setLogLevel(newLevel). For SparkR, use setLogLevel(newLevel).\n",
      "25/09/08 08:52:21 WARN NativeCodeLoader: Unable to load native-hadoop library for your platform... using builtin-java classes where applicable\n",
      "25/09/08 08:52:24 WARN Utils: Service 'SparkUI' could not bind on port 4040. Attempting port 4041.\n",
      "25/09/08 08:52:24 WARN Utils: Service 'SparkUI' could not bind on port 4041. Attempting port 4042.\n"
     ]
    }
   ],
   "source": [
    "from pyspark.sql import SparkSession\n",
    "spark = SparkSession.builder.appName(\"PySparkGroupByFunction\").getOrCreate()\n"
   ]
  },
  {
   "cell_type": "code",
   "execution_count": 5,
   "id": "707a29f5",
   "metadata": {},
   "outputs": [
    {
     "name": "stderr",
     "output_type": "stream",
     "text": [
      "[Stage 6:===================>                                       (1 + 2) / 3]\r"
     ]
    },
    {
     "name": "stdout",
     "output_type": "stream",
     "text": [
      "+---+---------+------+----------------+----+\n",
      "| id|     name|salary|      department| age|\n",
      "+---+---------+------+----------------+----+\n",
      "|  1|    Manta| 75000|              IT|  24|\n",
      "|  2| Dipankar| 30000|     Post Master|  27|\n",
      "|  3|   Souvik| 60000|    Army Officer|  27|\n",
      "|  4|Soukarjya| 45000|             BDO|NULL|\n",
      "|  5|   Arvind| 35000|Business Analyst|  28|\n",
      "|  6| Prodipta| 25000|    Data Analyst|  28|\n",
      "|  7|    Padma| 20000|    Data Analyst|  27|\n",
      "|  8|    Panta|125000|Business Analyst|  27|\n",
      "|  9|  Sougato| 25000|              IT|  29|\n",
      "+---+---------+------+----------------+----+\n",
      "\n"
     ]
    },
    {
     "name": "stderr",
     "output_type": "stream",
     "text": [
      "                                                                                \r"
     ]
    }
   ],
   "source": [
    "# create sample dataframes\n",
    "data = [\n",
    "    (1, \"Manta\", 75000, \"IT\", 24),\n",
    "    (2, \"Dipankar\", 30000, \"Post Master\", 27),\n",
    "    (3, \"Souvik\", 60000, \"Army Officer\", 27),\n",
    "    (4, \"Soukarjya\", 45000, \"BDO\", None),\n",
    "    (5, \"Arvind\", 35000, \"Business Analyst\", 28),\n",
    "    (6, \"Prodipta\", 25000, \"Data Analyst\", 28),\n",
    "    (7, \"Padma\", 20000, \"Data Analyst\", 27),\n",
    "    (8, \"Panta\", 125000, \"Business Analyst\", 27),\n",
    "    (9, \"Sougato\", 25000, \"IT\", 29)\n",
    "]\n",
    "\n",
    "columns = [\"id\", \"name\", \"salary\", \"department\", \"age\"]\n",
    "\n",
    "df = spark.createDataFrame(data, schema=columns)\n",
    "df.show()\n"
   ]
  },
  {
   "cell_type": "code",
   "execution_count": 6,
   "id": "77048348",
   "metadata": {},
   "outputs": [
    {
     "name": "stdout",
     "output_type": "stream",
     "text": [
      "Count of employees in each Department: \n"
     ]
    },
    {
     "name": "stderr",
     "output_type": "stream",
     "text": [
      "[Stage 7:============================================>              (3 + 1) / 4]\r"
     ]
    },
    {
     "name": "stdout",
     "output_type": "stream",
     "text": [
      "+----------------+-----+\n",
      "|      department|count|\n",
      "+----------------+-----+\n",
      "|     Post Master|    1|\n",
      "|              IT|    2|\n",
      "|             BDO|    1|\n",
      "|    Army Officer|    1|\n",
      "|Business Analyst|    2|\n",
      "|    Data Analyst|    2|\n",
      "+----------------+-----+\n",
      "\n"
     ]
    },
    {
     "name": "stderr",
     "output_type": "stream",
     "text": [
      "                                                                                \r"
     ]
    }
   ],
   "source": [
    "# groupBy() with count() - count of employees in each department\n",
    "print(\"Count of employees in each Department: \")\n",
    "df.groupBy(\"department\").count().show()\n"
   ]
  },
  {
   "cell_type": "code",
   "execution_count": 7,
   "id": "dd282bd7",
   "metadata": {},
   "outputs": [
    {
     "name": "stdout",
     "output_type": "stream",
     "text": [
      "Total salary by department: \n"
     ]
    },
    {
     "name": "stderr",
     "output_type": "stream",
     "text": [
      "[Stage 10:>                                                         (0 + 4) / 4]\r"
     ]
    },
    {
     "name": "stdout",
     "output_type": "stream",
     "text": [
      "+----------------+------------+\n",
      "|      department|total_salary|\n",
      "+----------------+------------+\n",
      "|     Post Master|       30000|\n",
      "|              IT|      100000|\n",
      "|             BDO|       45000|\n",
      "|    Army Officer|       60000|\n",
      "|Business Analyst|      160000|\n",
      "|    Data Analyst|       45000|\n",
      "+----------------+------------+\n",
      "\n"
     ]
    },
    {
     "name": "stderr",
     "output_type": "stream",
     "text": [
      "                                                                                \r"
     ]
    }
   ],
   "source": [
    "# groupBy() with sum() - Total salary by department\n",
    "from pyspark.sql.functions import sum\n",
    "\n",
    "print(\"Total salary by department: \")\n",
    "df.groupBy(\"department\") \\\n",
    "    .agg(sum(\"salary\").alias(\"total_salary\")) \\\n",
    "        .show()\n"
   ]
  },
  {
   "cell_type": "code",
   "execution_count": 8,
   "id": "3db45e92",
   "metadata": {},
   "outputs": [
    {
     "name": "stdout",
     "output_type": "stream",
     "text": [
      "Salary stats by department (average, min, max): \n"
     ]
    },
    {
     "name": "stderr",
     "output_type": "stream",
     "text": [
      "[Stage 13:===========================================>              (3 + 1) / 4]\r"
     ]
    },
    {
     "name": "stdout",
     "output_type": "stream",
     "text": [
      "+----------------+----------+----------+----------+\n",
      "|      department|avg_salary|min_salary|max_salary|\n",
      "+----------------+----------+----------+----------+\n",
      "|     Post Master|   30000.0|     30000|     30000|\n",
      "|              IT|   50000.0|     25000|     75000|\n",
      "|             BDO|   45000.0|     45000|     45000|\n",
      "|    Army Officer|   60000.0|     60000|     60000|\n",
      "|Business Analyst|   80000.0|     35000|    125000|\n",
      "|    Data Analyst|   22500.0|     20000|     25000|\n",
      "+----------------+----------+----------+----------+\n",
      "\n"
     ]
    },
    {
     "name": "stderr",
     "output_type": "stream",
     "text": [
      "                                                                                \r"
     ]
    }
   ],
   "source": [
    "# groupBy() with avg(), min(), max() - department salary stats\n",
    "from pyspark.sql.functions import avg, min, max\n",
    "\n",
    "print(\"Salary stats by department (average, min, max): \")\n",
    "df.groupBy(\"department\") \\\n",
    "    .agg(\n",
    "        avg(\"salary\").alias(\"avg_salary\"),\n",
    "        min(\"salary\").alias(\"min_salary\"),\n",
    "        max(\"salary\").alias(\"max_salary\")\n",
    "    ).show()\n"
   ]
  },
  {
   "cell_type": "code",
   "execution_count": 9,
   "id": "b24b63e2",
   "metadata": {},
   "outputs": [
    {
     "name": "stdout",
     "output_type": "stream",
     "text": [
      "Sum of salary by name and department: \n"
     ]
    },
    {
     "name": "stderr",
     "output_type": "stream",
     "text": [
      "[Stage 16:=============================>                            (2 + 2) / 4]\r"
     ]
    },
    {
     "name": "stdout",
     "output_type": "stream",
     "text": [
      "+---------+----------------+------------+\n",
      "|     name|      department|total_salary|\n",
      "+---------+----------------+------------+\n",
      "| Dipankar|     Post Master|       30000|\n",
      "|    Manta|              IT|       75000|\n",
      "|Soukarjya|             BDO|       45000|\n",
      "|   Souvik|    Army Officer|       60000|\n",
      "|   Arvind|Business Analyst|       35000|\n",
      "| Prodipta|    Data Analyst|       25000|\n",
      "|    Padma|    Data Analyst|       20000|\n",
      "|  Sougato|              IT|       25000|\n",
      "|    Panta|Business Analyst|      125000|\n",
      "+---------+----------------+------------+\n",
      "\n"
     ]
    },
    {
     "name": "stderr",
     "output_type": "stream",
     "text": [
      "                                                                                \r"
     ]
    }
   ],
   "source": [
    "# groupBy() Name and Department - sum of salaries(for same names)\n",
    "print(\"Sum of salary by name and department: \")\n",
    "\n",
    "df.groupBy(\"name\", \"department\") \\\n",
    "    .agg(\n",
    "        sum(\"salary\").alias(\"total_salary\")\n",
    "    ).show()\n"
   ]
  },
  {
   "cell_type": "code",
   "execution_count": null,
   "id": "0fbb64b3",
   "metadata": {},
   "outputs": [],
   "source": []
  }
 ],
 "metadata": {
  "kernelspec": {
   "display_name": "Python 3",
   "language": "python",
   "name": "python3"
  },
  "language_info": {
   "codemirror_mode": {
    "name": "ipython",
    "version": 3
   },
   "file_extension": ".py",
   "mimetype": "text/x-python",
   "name": "python",
   "nbconvert_exporter": "python",
   "pygments_lexer": "ipython3",
   "version": "3.12.11"
  }
 },
 "nbformat": 4,
 "nbformat_minor": 5
}
