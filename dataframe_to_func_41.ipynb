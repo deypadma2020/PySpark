{
 "cells": [
  {
   "cell_type": "markdown",
   "id": "58ceeca7",
   "metadata": {},
   "source": [
    "- DataFrame.to(schema)\n",
    "- It can:\n",
    "    - Reorder columns by name to match the schema.\n",
    "    - Project away (remove) columns not needed by the schema.\n",
    "    - Cast column types if compatible.\n",
    "    - Fail if there are missing columns or incompatible types."
   ]
  },
  {
   "cell_type": "code",
   "execution_count": 1,
   "id": "bacc47ec",
   "metadata": {},
   "outputs": [
    {
     "name": "stderr",
     "output_type": "stream",
     "text": [
      "WARNING: Using incubator modules: jdk.incubator.vector\n",
      "Using Spark's default log4j profile: org/apache/spark/log4j2-defaults.properties\n",
      "25/09/15 13:27:49 WARN Utils: Your hostname, KLZPC0015, resolves to a loopback address: 127.0.1.1; using 172.25.17.96 instead (on interface eth0)\n",
      "25/09/15 13:27:49 WARN Utils: Set SPARK_LOCAL_IP if you need to bind to another address\n",
      "Using Spark's default log4j profile: org/apache/spark/log4j2-defaults.properties\n",
      "Setting default log level to \"WARN\".\n",
      "To adjust logging level use sc.setLogLevel(newLevel). For SparkR, use setLogLevel(newLevel).\n",
      "25/09/15 13:28:01 WARN NativeCodeLoader: Unable to load native-hadoop library for your platform... using builtin-java classes where applicable\n",
      "25/09/15 13:28:04 WARN Utils: Service 'SparkUI' could not bind on port 4040. Attempting port 4041.\n",
      "25/09/15 13:28:04 WARN Utils: Service 'SparkUI' could not bind on port 4041. Attempting port 4042.\n",
      "25/09/15 13:28:04 WARN Utils: Service 'SparkUI' could not bind on port 4042. Attempting port 4043.\n",
      "25/09/15 13:28:04 WARN Utils: Service 'SparkUI' could not bind on port 4043. Attempting port 4044.\n",
      "25/09/15 13:28:04 WARN Utils: Service 'SparkUI' could not bind on port 4044. Attempting port 4045.\n"
     ]
    }
   ],
   "source": [
    "from pyspark.sql import SparkSession\n",
    "from pyspark.sql.types import StructType, StructField, StringType, IntegerType, BooleanType\n",
    "\n",
    "spark = SparkSession.builder.appName(\"PySpark DataFrame.to() Example woth Schema\").getOrCreate()\n"
   ]
  },
  {
   "cell_type": "code",
   "execution_count": 4,
   "id": "4c01ae12",
   "metadata": {},
   "outputs": [
    {
     "name": "stderr",
     "output_type": "stream",
     "text": [
      "[Stage 3:===================>                                       (1 + 2) / 3]\r"
     ]
    },
    {
     "name": "stdout",
     "output_type": "stream",
     "text": [
      "+---------+-----+----------------+------+\n",
      "|name     |score|subject         |passed|\n",
      "+---------+-----+----------------+------+\n",
      "|Souvik   |72   |Math            |true  |\n",
      "|Soukarjya|32   |Chemistry       |true  |\n",
      "|Sandip   |74   |Math            |false |\n",
      "|Prodipta |76   |Data Analyst    |true  |\n",
      "|RamaSai  |69   |System Engineer |false |\n",
      "|Riya     |78   |Oracle Developer|true  |\n",
      "|Padma    |46   |Data Analyst    |true  |\n",
      "+---------+-----+----------------+------+\n",
      "\n",
      "root\n",
      " |-- name: string (nullable = true)\n",
      " |-- score: long (nullable = true)\n",
      " |-- subject: string (nullable = true)\n",
      " |-- passed: boolean (nullable = true)\n",
      "\n"
     ]
    },
    {
     "name": "stderr",
     "output_type": "stream",
     "text": [
      "                                                                                \r"
     ]
    }
   ],
   "source": [
    "data = [\n",
    "    (\"Souvik\", 72, \"Math\", True),\n",
    "    (\"Soukarjya\", 32, \"Chemistry\", True),\n",
    "    (\"Sandip\", 74,\"Math\", False),\n",
    "    (\"Prodipta\", 76, \"Data Analyst\", True),\n",
    "    (\"RamaSai\", 69, \"System Engineer\", False),\n",
    "    (\"Riya\", 78, \"Oracle Developer\", True),\n",
    "    (\"Padma\", 46, \"Data Analyst\", True)\n",
    "]\n",
    "\n",
    "columns = [\"name\", \"score\", \"subject\", \"passed\"]\n",
    "\n",
    "df = spark.createDataFrame(data, columns)\n",
    "df.show(truncate=False)\n",
    "df.printSchema()\n"
   ]
  },
  {
   "cell_type": "markdown",
   "id": "94c28ec0",
   "metadata": {},
   "source": [
    "define a new Schema (Reordered columns, different types)\n",
    "\n",
    "Define a new schema:\n",
    "  - Reorders columns: Passed Score, Name\n",
    "  - Casts Score from IntegerType to StringType\n",
    "  - Drops Subject column (it is missing from the schema, so it will be droped)\n"
   ]
  },
  {
   "cell_type": "code",
   "execution_count": 5,
   "id": "4f98d205",
   "metadata": {},
   "outputs": [],
   "source": [
    "schema = StructType(\n",
    "    [\n",
    "        StructField(\"passed\", BooleanType(), True),     # keep as boolean\n",
    "        StructField(\"score\", StringType(), True),       # casr int to string\n",
    "        StructField(\"name\", StringType(), True)         # keep as string\n",
    "    ]\n",
    ")\n"
   ]
  },
  {
   "cell_type": "code",
   "execution_count": null,
   "id": "0d3364b7",
   "metadata": {},
   "outputs": [
    {
     "name": "stdout",
     "output_type": "stream",
     "text": [
      "\n",
      " New DataFrame After Applying Schema with .to(): \n"
     ]
    },
    {
     "name": "stderr",
     "output_type": "stream",
     "text": [
      "[Stage 5:>                                                          (0 + 3) / 3]\r"
     ]
    },
    {
     "name": "stdout",
     "output_type": "stream",
     "text": [
      "+------+-----+---------+\n",
      "|passed|score|name     |\n",
      "+------+-----+---------+\n",
      "|true  |72   |Souvik   |\n",
      "|true  |32   |Soukarjya|\n",
      "|false |74   |Sandip   |\n",
      "|true  |76   |Prodipta |\n",
      "|false |69   |RamaSai  |\n",
      "|true  |78   |Riya     |\n",
      "|true  |46   |Padma    |\n",
      "+------+-----+---------+\n",
      "\n",
      "root\n",
      " |-- passed: boolean (nullable = true)\n",
      " |-- score: string (nullable = true)\n",
      " |-- name: string (nullable = true)\n",
      "\n"
     ]
    },
    {
     "name": "stderr",
     "output_type": "stream",
     "text": [
      "                                                                                \r"
     ]
    },
    {
     "name": "stderr",
     "output_type": "stream",
     "text": [
      "25/09/15 15:13:47 WARN NettyRpcEnv: Ignored failure: java.util.concurrent.TimeoutException: Cannot receive any reply from 172.25.17.96:37063 in 10000 milliseconds\n"
     ]
    }
   ],
   "source": [
    "# apply the schema with .to()\n",
    "# Reconcile the DataFrame to match the specified schema\n",
    "\n",
    "df2 = df.to(schema)\n",
    "\n",
    "print(\"\\n New DataFrame After Applying Schema with .to(): \")\n",
    "df2.show(truncate=False)\n",
    "df2.printSchema()\n"
   ]
  },
  {
   "cell_type": "markdown",
   "id": "ced76d80",
   "metadata": {},
   "source": [
    "- What Happened?\n",
    "    - The 'subject' column was dropped because it wasn't in the schema.\n",
    "    - The columns were reordered: Passed, Score, Name.\n",
    "    - The 'score' column was cast from int to string.\n",
    "    - Nullability rules and types were validated automatically"
   ]
  },
  {
   "cell_type": "code",
   "execution_count": null,
   "id": "5bde1c80",
   "metadata": {},
   "outputs": [],
   "source": []
  }
 ],
 "metadata": {
  "kernelspec": {
   "display_name": "Python 3",
   "language": "python",
   "name": "python3"
  },
  "language_info": {
   "codemirror_mode": {
    "name": "ipython",
    "version": 3
   },
   "file_extension": ".py",
   "mimetype": "text/x-python",
   "name": "python",
   "nbconvert_exporter": "python",
   "pygments_lexer": "ipython3",
   "version": "3.12.11"
  }
 },
 "nbformat": 4,
 "nbformat_minor": 5
}
