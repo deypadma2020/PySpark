{
 "cells": [
  {
   "cell_type": "markdown",
   "id": "6ab2a4f9",
   "metadata": {},
   "source": [
    "- freqItems() is a PySpark DataFrame function that returns frequent items (elements) in a column or multiple columns. It  helps identify commonly occuring values.\n",
    "- It is useful for exploratory data analysis (EDA) and understanding data distributions.\n",
    "\n",
    "- Syntax:\n",
    "    df.freqItems(cols, support=None)\n",
    "\n",
    "- cols = List of columns to analyze\n",
    "- support = Minimum frequency threshold (default is 0.01, or 1%)"
   ]
  },
  {
   "cell_type": "code",
   "execution_count": 1,
   "id": "a3c4e15e",
   "metadata": {},
   "outputs": [
    {
     "name": "stderr",
     "output_type": "stream",
     "text": [
      "WARNING: Using incubator modules: jdk.incubator.vector\n",
      "Using Spark's default log4j profile: org/apache/spark/log4j2-defaults.properties\n",
      "25/09/16 13:07:37 WARN Utils: Your hostname, KLZPC0015, resolves to a loopback address: 127.0.1.1; using 172.25.17.96 instead (on interface eth0)\n",
      "25/09/16 13:07:37 WARN Utils: Set SPARK_LOCAL_IP if you need to bind to another address\n",
      "Using Spark's default log4j profile: org/apache/spark/log4j2-defaults.properties\n",
      "Setting default log level to \"WARN\".\n",
      "To adjust logging level use sc.setLogLevel(newLevel). For SparkR, use setLogLevel(newLevel).\n",
      "25/09/16 13:07:49 WARN NativeCodeLoader: Unable to load native-hadoop library for your platform... using builtin-java classes where applicable\n",
      "25/09/16 13:07:52 WARN Utils: Service 'SparkUI' could not bind on port 4040. Attempting port 4041.\n",
      "25/09/16 13:07:52 WARN Utils: Service 'SparkUI' could not bind on port 4041. Attempting port 4042.\n",
      "25/09/16 13:07:52 WARN Utils: Service 'SparkUI' could not bind on port 4042. Attempting port 4043.\n",
      "25/09/16 13:07:52 WARN Utils: Service 'SparkUI' could not bind on port 4043. Attempting port 4044.\n"
     ]
    }
   ],
   "source": [
    "from pyspark.sql import SparkSession\n",
    "\n",
    "spark = SparkSession.builder.appName(\"freqItemsFunctionExample\").getOrCreate()\n"
   ]
  },
  {
   "cell_type": "code",
   "execution_count": 2,
   "id": "c247c6c8",
   "metadata": {},
   "outputs": [
    {
     "name": "stderr",
     "output_type": "stream",
     "text": [
      "[Stage 1:===================>                                       (1 + 2) / 3]\r"
     ]
    },
    {
     "name": "stdout",
     "output_type": "stream",
     "text": [
      "+---+------+-------+\n",
      "| ID|  Name|Country|\n",
      "+---+------+-------+\n",
      "|  1| Padma|  India|\n",
      "|  2| Padma|Ireland|\n",
      "|  3|Arvind|Ireland|\n",
      "|  4|Arvind|  India|\n",
      "|  5| Soumi|  India|\n",
      "|  6| Soumi|Germany|\n",
      "|  7|  Riya|  Japan|\n",
      "|  8|  Riya|     UK|\n",
      "|  9|  Riya|    USA|\n",
      "| 10|  Riya|    AUS|\n",
      "+---+------+-------+\n",
      "\n"
     ]
    },
    {
     "name": "stderr",
     "output_type": "stream",
     "text": [
      "                                                                                \r"
     ]
    }
   ],
   "source": [
    "data = [\n",
    "    (1, \"Padma\", \"India\"),\n",
    "    (2, \"Padma\", \"Ireland\"),\n",
    "    (3, \"Arvind\", \"Ireland\"),\n",
    "    (4, \"Arvind\", \"India\"),\n",
    "    (5, \"Soumi\", \"India\"),\n",
    "    (6, \"Soumi\", \"Germany\"),\n",
    "    (7, \"Riya\", \"Japan\"),\n",
    "    (8, \"Riya\", \"UK\"),\n",
    "    (9, \"Riya\", \"USA\"),\n",
    "    (10, \"Riya\", \"AUS\")\n",
    "]\n",
    "\n",
    "columns = [\"ID\", \"Name\", \"Country\"]\n",
    "df = spark.createDataFrame(data, columns)\n",
    "df.show()\n"
   ]
  },
  {
   "cell_type": "code",
   "execution_count": 3,
   "id": "7853581b",
   "metadata": {},
   "outputs": [
    {
     "name": "stdout",
     "output_type": "stream",
     "text": [
      "Frequent Items in 'name' column: \n"
     ]
    },
    {
     "name": "stderr",
     "output_type": "stream",
     "text": [
      "[Stage 2:>                                                          (0 + 4) / 4]\r"
     ]
    },
    {
     "name": "stdout",
     "output_type": "stream",
     "text": [
      "+----------------------------+\n",
      "|name_freqItems              |\n",
      "+----------------------------+\n",
      "|[Soumi, Riya, Arvind, Padma]|\n",
      "+----------------------------+\n",
      "\n"
     ]
    },
    {
     "name": "stderr",
     "output_type": "stream",
     "text": [
      "                                                                                \r"
     ]
    }
   ],
   "source": [
    "# Example - Find frequent items in a single column (name)\n",
    "freq_name = df.freqItems([\"name\"])\n",
    "\n",
    "print(\"Frequent Items in 'name' column: \")\n",
    "freq_name.show(truncate=False)\n",
    " "
   ]
  },
  {
   "cell_type": "code",
   "execution_count": 4,
   "id": "9d947ad8",
   "metadata": {},
   "outputs": [
    {
     "name": "stdout",
     "output_type": "stream",
     "text": [
      "Frequent Items in 'name' and 'country' columns: \n"
     ]
    },
    {
     "name": "stderr",
     "output_type": "stream",
     "text": [
      "[Stage 5:============================================>              (3 + 1) / 4]\r"
     ]
    },
    {
     "name": "stdout",
     "output_type": "stream",
     "text": [
      "+----------------------------+----------------------------------------------+\n",
      "|name_freqItems              |country_freqItems                             |\n",
      "+----------------------------+----------------------------------------------+\n",
      "|[Soumi, Riya, Arvind, Padma]|[India, Japan, Germany, Ireland, UK, AUS, USA]|\n",
      "+----------------------------+----------------------------------------------+\n",
      "\n"
     ]
    },
    {
     "name": "stderr",
     "output_type": "stream",
     "text": [
      "                                                                                \r"
     ]
    }
   ],
   "source": [
    "# Example - Find frequent items in multiple columns (name, country)\n",
    "freq_name_country = df.freqItems([\"name\", \"country\"])\n",
    "\n",
    "print(\"Frequent Items in 'name' and 'country' columns: \")\n",
    "freq_name_country.show(truncate=False)\n"
   ]
  },
  {
   "cell_type": "code",
   "execution_count": 5,
   "id": "6f794b13",
   "metadata": {},
   "outputs": [
    {
     "name": "stdout",
     "output_type": "stream",
     "text": [
      "Frequent Items in 'name' column with support = 0.3 (30%): \n"
     ]
    },
    {
     "name": "stderr",
     "output_type": "stream",
     "text": [
      "[Stage 8:>                                                          (0 + 4) / 4]\r"
     ]
    },
    {
     "name": "stdout",
     "output_type": "stream",
     "text": [
      "+--------------+\n",
      "|name_freqItems|\n",
      "+--------------+\n",
      "|[Riya]        |\n",
      "+--------------+\n",
      "\n"
     ]
    },
    {
     "name": "stderr",
     "output_type": "stream",
     "text": [
      "                                                                                \r"
     ]
    }
   ],
   "source": [
    "# Example: change support threshold (optional)\n",
    "# by default, support is 1%. You can increase it to find more frequent items.\n",
    "freq_with_support = df.freqItems([\"name\"], support=0.3)\n",
    "\n",
    "print(\"Frequent Items in 'name' column with support = 0.3 (30%): \")\n",
    "freq_with_support.show(truncate=False)\n"
   ]
  },
  {
   "cell_type": "code",
   "execution_count": null,
   "id": "b24f5a75",
   "metadata": {},
   "outputs": [],
   "source": []
  }
 ],
 "metadata": {
  "kernelspec": {
   "display_name": "Python 3",
   "language": "python",
   "name": "python3"
  },
  "language_info": {
   "codemirror_mode": {
    "name": "ipython",
    "version": 3
   },
   "file_extension": ".py",
   "mimetype": "text/x-python",
   "name": "python",
   "nbconvert_exporter": "python",
   "pygments_lexer": "ipython3",
   "version": "3.12.11"
  }
 },
 "nbformat": 4,
 "nbformat_minor": 5
}
