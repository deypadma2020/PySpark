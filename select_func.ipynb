{
 "cells": [
  {
   "cell_type": "code",
   "execution_count": null,
   "id": "df004930",
   "metadata": {},
   "outputs": [],
   "source": [
    "from pyspark.sql import SparkSession, Row\n",
    "\n",
    "spark = SparkSession.builder.appName(\"RowExample\").getOrCreate()\n"
   ]
  },
  {
   "cell_type": "code",
   "execution_count": null,
   "id": "0f297db2",
   "metadata": {},
   "outputs": [],
   "source": [
    "from pyspark.sql.functions import col, expr, when, lit\n"
   ]
  },
  {
   "cell_type": "code",
   "execution_count": null,
   "id": "558798db",
   "metadata": {},
   "outputs": [],
   "source": [
    "data = [\n",
    "    (1, \"Manta\", 75000, \"IT\", 24),\n",
    "    (2, \"Dipankar\", 30000, \"Post Master\", 27),\n",
    "    (3, \"Souvik\", 60000, \"Army Officer\", 27),\n",
    "    (4, \"Soukarjya\", 45000, \"BDO\", 26),\n",
    "    (5, \"Arvind\", 35000, \"Business Data Analyst\", 28)\n",
    "]\n"
   ]
  },
  {
   "cell_type": "code",
   "execution_count": null,
   "id": "d01209f2",
   "metadata": {},
   "outputs": [],
   "source": [
    "df = spark.createDataFrame(data, [\"id\", \"name\", \"salary\", \"department\", \"age\"])\n",
    "df.show()\n"
   ]
  },
  {
   "cell_type": "code",
   "execution_count": null,
   "id": "f1e09d6d",
   "metadata": {},
   "outputs": [],
   "source": [
    "df.select(\"name\", \"salary\").show()\n"
   ]
  },
  {
   "cell_type": "code",
   "execution_count": null,
   "id": "3c5818db",
   "metadata": {},
   "outputs": [],
   "source": [
    "df.select(col(\"name\"), col(\"department\")).show()\n"
   ]
  },
  {
   "cell_type": "code",
   "execution_count": null,
   "id": "0675dabf",
   "metadata": {},
   "outputs": [],
   "source": [
    "df.select(col(\"name\").alias(\"Employee_Name\"), col(\"salary\").alias(\"Employee_Salary\")).show()\n"
   ]
  },
  {
   "cell_type": "code",
   "execution_count": null,
   "id": "72deee6a",
   "metadata": {},
   "outputs": [],
   "source": [
    "df.select(expr(\"name\"), expr(\"salary * 1.10 as increased_salary\")).show()\n"
   ]
  },
  {
   "cell_type": "code",
   "execution_count": null,
   "id": "3be543a4",
   "metadata": {},
   "outputs": [],
   "source": [
    "df.select(\"name\", \"salary\", when(col(\"salary\") > 50000, \"high\").otherwise(\"low\").alias(\"Salary_Category\")).show()\n"
   ]
  },
  {
   "cell_type": "code",
   "execution_count": null,
   "id": "78974e44",
   "metadata": {},
   "outputs": [],
   "source": [
    "df.selectExpr(\"name\", \"salary * 2 as double_salary\").show()\n"
   ]
  },
  {
   "cell_type": "code",
   "execution_count": null,
   "id": "ce68e850",
   "metadata": {},
   "outputs": [],
   "source": [
    "df.select(\"name\", \"department\", lit(\"Active\").alias(\"status\")).show()\n"
   ]
  },
  {
   "cell_type": "code",
   "execution_count": null,
   "id": "c2899938",
   "metadata": {},
   "outputs": [],
   "source": [
    "columns_to_select = [\"name\", \"salary\", \"department\", \"age\"]\n",
    "df.select(*columns_to_select).show()\n"
   ]
  },
  {
   "cell_type": "code",
   "execution_count": null,
   "id": "435d3b9a",
   "metadata": {},
   "outputs": [],
   "source": [
    "df.select([col for col in df.columns if col != \"age\"]).show()\n"
   ]
  }
 ],
 "metadata": {
  "language_info": {
   "name": "python"
  }
 },
 "nbformat": 4,
 "nbformat_minor": 5
}
