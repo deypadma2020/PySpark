{
 "cells": [
  {
   "cell_type": "code",
   "execution_count": 1,
   "id": "18f587b2",
   "metadata": {},
   "outputs": [
    {
     "name": "stderr",
     "output_type": "stream",
     "text": [
      "your 131072x1 screen size is bogus. expect trouble\n",
      "25/08/20 07:22:19 WARN Utils: Your hostname, KLZPC0015 resolves to a loopback address: 127.0.1.1; using 172.25.17.96 instead (on interface eth0)\n",
      "25/08/20 07:22:19 WARN Utils: Set SPARK_LOCAL_IP if you need to bind to another address\n",
      "Setting default log level to \"WARN\".\n",
      "To adjust logging level use sc.setLogLevel(newLevel). For SparkR, use setLogLevel(newLevel).\n",
      "25/08/20 07:22:22 WARN NativeCodeLoader: Unable to load native-hadoop library for your platform... using builtin-java classes where applicable\n"
     ]
    }
   ],
   "source": [
    "from pyspark.sql import SparkSession, Row\n",
    "\n",
    "spark = SparkSession.builder.appName(\"RowExample\").getOrCreate()\n"
   ]
  },
  {
   "cell_type": "code",
   "execution_count": 12,
   "id": "b164f1e3",
   "metadata": {},
   "outputs": [],
   "source": [
    "data = [\n",
    "    (1, \"Manta\", 75000, \"IT\", 24),\n",
    "    (2, \"Dipankar\", 30000, \"Post Master\", 27),\n",
    "    (3, \"Souvik\", 60000, \"Army Officer\", 27),\n",
    "    (4, \"Soukarjya\", 45000, \"BDO\", 'null'),\n",
    "    (5, \"Arvind\", 35000, \"Business Data Analyst\", 28),\n",
    "    (6, \"Prodipta\", 25000, \"Data Analyst\", 28),\n",
    "    (7, \"Padma\", 20000, \"Data Analyst\", 27),\n",
    "    (8, \"Panta\", 125000, \"Business Analyst\", 27)\n",
    "]\n"
   ]
  },
  {
   "cell_type": "code",
   "execution_count": 13,
   "id": "cc1beb6e",
   "metadata": {},
   "outputs": [
    {
     "name": "stderr",
     "output_type": "stream",
     "text": [
      "[Stage 18:>                                                         (0 + 3) / 3]\r"
     ]
    },
    {
     "name": "stdout",
     "output_type": "stream",
     "text": [
      "+---+---------+------+--------------------+----+\n",
      "| id|     name|salary|          department| age|\n",
      "+---+---------+------+--------------------+----+\n",
      "|  1|    Manta| 75000|                  IT|  24|\n",
      "|  2| Dipankar| 30000|         Post Master|  27|\n",
      "|  3|   Souvik| 60000|        Army Officer|  27|\n",
      "|  4|Soukarjya| 45000|                 BDO|null|\n",
      "|  5|   Arvind| 35000|Business Data Ana...|  28|\n",
      "|  6| Prodipta| 25000|        Data Analyst|  28|\n",
      "|  7|    Padma| 20000|        Data Analyst|  27|\n",
      "|  8|    Panta|125000|    Business Analyst|  27|\n",
      "+---+---------+------+--------------------+----+\n",
      "\n"
     ]
    },
    {
     "name": "stderr",
     "output_type": "stream",
     "text": [
      "                                                                                \r"
     ]
    }
   ],
   "source": [
    "df = spark.createDataFrame(data, [\"id\", \"name\", \"salary\", \"department\", \"age\"])\n",
    "df.show()\n"
   ]
  },
  {
   "cell_type": "code",
   "execution_count": 14,
   "id": "d27efc03",
   "metadata": {},
   "outputs": [
    {
     "name": "stdout",
     "output_type": "stream",
     "text": [
      "Summary statistics for numerical columns: \n"
     ]
    },
    {
     "name": "stderr",
     "output_type": "stream",
     "text": [
      "[Stage 19:===========================================>              (3 + 1) / 4]\r"
     ]
    },
    {
     "name": "stdout",
     "output_type": "stream",
     "text": [
      "+-------+-----------------+------+-----------------+------------+------------------+\n",
      "|summary|               id|  name|           salary|  department|               age|\n",
      "+-------+-----------------+------+-----------------+------------+------------------+\n",
      "|  count|                8|     8|                8|           8|                 8|\n",
      "|   mean|              4.5|  NULL|          51875.0|        NULL|26.857142857142858|\n",
      "| stddev|2.449489742783178|  NULL|34840.19640751593|        NULL|1.3451854182690985|\n",
      "|    min|                1|Arvind|            20000|Army Officer|                24|\n",
      "|    max|                8|Souvik|           125000| Post Master|              null|\n",
      "+-------+-----------------+------+-----------------+------------+------------------+\n",
      "\n"
     ]
    },
    {
     "name": "stderr",
     "output_type": "stream",
     "text": [
      "                                                                                \r"
     ]
    }
   ],
   "source": [
    "print(\"Summary statistics for numerical columns: \")\n",
    "df.describe().show()\n"
   ]
  },
  {
   "cell_type": "code",
   "execution_count": 15,
   "id": "98a41b93",
   "metadata": {},
   "outputs": [
    {
     "name": "stdout",
     "output_type": "stream",
     "text": [
      "Summary statistics for 'salary' and 'age': \n"
     ]
    },
    {
     "name": "stderr",
     "output_type": "stream",
     "text": [
      "[Stage 22:>                                                         (0 + 4) / 4]\r"
     ]
    },
    {
     "name": "stdout",
     "output_type": "stream",
     "text": [
      "+-------+-----------------+------------------+\n",
      "|summary|           salary|               age|\n",
      "+-------+-----------------+------------------+\n",
      "|  count|                8|                 8|\n",
      "|   mean|          51875.0|26.857142857142858|\n",
      "| stddev|34840.19640751593|1.3451854182690985|\n",
      "|    min|            20000|                24|\n",
      "|    max|           125000|              null|\n",
      "+-------+-----------------+------------------+\n",
      "\n"
     ]
    },
    {
     "name": "stderr",
     "output_type": "stream",
     "text": [
      "                                                                                \r"
     ]
    }
   ],
   "source": [
    "print(\"Summary statistics for 'salary' and 'age': \")\n",
    "df.describe(\"salary\", \"age\").show()\n"
   ]
  },
  {
   "cell_type": "code",
   "execution_count": null,
   "id": "f759030a",
   "metadata": {},
   "outputs": [],
   "source": []
  }
 ],
 "metadata": {
  "kernelspec": {
   "display_name": "Python 3",
   "language": "python",
   "name": "python3"
  },
  "language_info": {
   "codemirror_mode": {
    "name": "ipython",
    "version": 3
   },
   "file_extension": ".py",
   "mimetype": "text/x-python",
   "name": "python",
   "nbconvert_exporter": "python",
   "pygments_lexer": "ipython3",
   "version": "3.12.11"
  }
 },
 "nbformat": 4,
 "nbformat_minor": 5
}
