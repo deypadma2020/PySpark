{
 "cells": [
  {
   "cell_type": "markdown",
   "id": "7b4bf45f",
   "metadata": {},
   "source": [
    "- dtypes() is a PySpark DataFrame function that returns a list of tuples.\n",
    "- Each tuple contains two elements:\n",
    "    1. The column name.\n",
    "    2. The data type of that column (as a string).\n",
    "\n",
    "- This is useful when you need a quick and simple way to view the data types of all columns in a DataFrame."
   ]
  },
  {
   "cell_type": "code",
   "execution_count": 1,
   "id": "7e4a790a",
   "metadata": {},
   "outputs": [
    {
     "name": "stderr",
     "output_type": "stream",
     "text": [
      "WARNING: Using incubator modules: jdk.incubator.vector\n",
      "Using Spark's default log4j profile: org/apache/spark/log4j2-defaults.properties\n",
      "25/09/15 11:39:37 WARN Utils: Your hostname, KLZPC0015, resolves to a loopback address: 127.0.1.1; using 172.25.17.96 instead (on interface eth0)\n",
      "25/09/15 11:39:37 WARN Utils: Set SPARK_LOCAL_IP if you need to bind to another address\n",
      "Using Spark's default log4j profile: org/apache/spark/log4j2-defaults.properties\n",
      "Setting default log level to \"WARN\".\n",
      "To adjust logging level use sc.setLogLevel(newLevel). For SparkR, use setLogLevel(newLevel).\n",
      "25/09/15 11:39:51 WARN NativeCodeLoader: Unable to load native-hadoop library for your platform... using builtin-java classes where applicable\n",
      "25/09/15 11:39:55 WARN Utils: Service 'SparkUI' could not bind on port 4040. Attempting port 4041.\n",
      "25/09/15 11:39:55 WARN Utils: Service 'SparkUI' could not bind on port 4041. Attempting port 4042.\n",
      "25/09/15 11:39:55 WARN Utils: Service 'SparkUI' could not bind on port 4042. Attempting port 4043.\n"
     ]
    }
   ],
   "source": [
    "from pyspark.sql import SparkSession\n",
    "\n",
    "spark = SparkSession.builder.appName(\"dtypesFunctionExample\").getOrCreate()\n"
   ]
  },
  {
   "cell_type": "code",
   "execution_count": 5,
   "id": "cf2767ba",
   "metadata": {},
   "outputs": [
    {
     "name": "stderr",
     "output_type": "stream",
     "text": [
      "                                                                                \r"
     ]
    },
    {
     "name": "stdout",
     "output_type": "stream",
     "text": [
      "+---------+---------+------------+--------+------+\n",
      "|     name|Chemistry|Data Science|Painting|Passed|\n",
      "+---------+---------+------------+--------+------+\n",
      "|   Souvik|       72|          85|      95|  true|\n",
      "|Soukarjya|       32|          56|      46| false|\n",
      "|   Sandip|       74|          38|      66| false|\n",
      "| Prodipta|       76|          89|      31|  true|\n",
      "|  RamaSai|       69|          78|      38| false|\n",
      "|     Riya|       78|          82|      96|  true|\n",
      "|    Padma|       46|          53|      49|  true|\n",
      "+---------+---------+------------+--------+------+\n",
      "\n"
     ]
    }
   ],
   "source": [
    "data = [\n",
    "    (\"Souvik\", 72, 85, 95, True),\n",
    "    (\"Soukarjya\", 32, 56, 46, False),\n",
    "    (\"Sandip\", 74, 38, 66, False),\n",
    "    (\"Prodipta\", 76, 89, 31, True),\n",
    "    (\"RamaSai\", 69, 78, 38, False),\n",
    "    (\"Riya\", 78, 82, 96, True),\n",
    "    (\"Padma\", 46, 53, 49, True)\n",
    "]\n",
    "\n",
    "columns = [\"name\", \"Chemistry\", \"Data Science\", \"Painting\", \"Passed\"]\n",
    "\n",
    "df = spark.createDataFrame(data, columns)\n",
    "df.show()\n"
   ]
  },
  {
   "cell_type": "code",
   "execution_count": 6,
   "id": "65b64663",
   "metadata": {},
   "outputs": [
    {
     "name": "stdout",
     "output_type": "stream",
     "text": [
      "Column names and Data Types(dtypes): \n",
      "[('name', 'string'), ('Chemistry', 'bigint'), ('Data Science', 'bigint'), ('Painting', 'bigint'), ('Passed', 'boolean')]\n"
     ]
    }
   ],
   "source": [
    "# Using dtypes() to get column names and datatypes\n",
    "\n",
    "# get a list of (column_name. data_type) pairs\n",
    "print(\"Column names and Data Types(dtypes): \")\n",
    "print(df.dtypes)\n"
   ]
  },
  {
   "cell_type": "code",
   "execution_count": 9,
   "id": "7b5bd48a",
   "metadata": {},
   "outputs": [
    {
     "name": "stdout",
     "output_type": "stream",
     "text": [
      "Format OutPut of column Data Types: \n",
      "Column: name, Type: string\n",
      "Column: Chemistry, Type: bigint\n",
      "Column: Data Science, Type: bigint\n",
      "Column: Painting, Type: bigint\n",
      "Column: Passed, Type: boolean\n"
     ]
    }
   ],
   "source": [
    "# Optional: Displaying dtypes in the Nicer format\n",
    "\n",
    "# Iterate through dtypes and print each columnwith it's datatype\n",
    "print(\"Format OutPut of column Data Types: \")\n",
    "for col_name, data_type in df.dtypes:\n",
    "    print(f\"Column: {col_name}, Type: {data_type}\")\n"
   ]
  },
  {
   "cell_type": "code",
   "execution_count": null,
   "id": "a24a4e93",
   "metadata": {},
   "outputs": [],
   "source": []
  }
 ],
 "metadata": {
  "kernelspec": {
   "display_name": "Python 3",
   "language": "python",
   "name": "python3"
  },
  "language_info": {
   "codemirror_mode": {
    "name": "ipython",
    "version": 3
   },
   "file_extension": ".py",
   "mimetype": "text/x-python",
   "name": "python",
   "nbconvert_exporter": "python",
   "pygments_lexer": "ipython3",
   "version": "3.12.11"
  }
 },
 "nbformat": 4,
 "nbformat_minor": 5
}
