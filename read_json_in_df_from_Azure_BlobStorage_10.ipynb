{
 "cells": [
  {
   "cell_type": "code",
   "execution_count": null,
   "id": "26b8f21f",
   "metadata": {},
   "outputs": [],
   "source": [
    "from pyspark.sql import SparkSession, Row\n",
    "\n",
    "spark = SparkSession.builder.appName(\"RowExample\").getOrCreate()\n"
   ]
  },
  {
   "cell_type": "code",
   "execution_count": null,
   "id": "3315fd59",
   "metadata": {},
   "outputs": [],
   "source": [
    "storage_account_name = \"techbrothersdb\"\n",
    "container_name = \"input\"\n",
    "\n",
    "# A shared access signature (SAS) provides sucure delegated access to resources in your storage account.\n",
    "sas_token = \"jkdfjkdfhkdvgjkvnjhdsuihfejftirw37382rt862p863rfyfh\"\n",
    "\n",
    "# Define file path using WASBS (Azure Blob Storage)\n",
    "# WASBS (Windows Azure Storage Blob Storage) is the protocol-Enables secure access to Azure Blob Storage in Databricks or Spark\n",
    "file_path = f\"wasbs://{container_name}@{storage_account_name}.blob.core.windows.net/Customer_Data.json\"\n",
    "\n",
    "# Configure Spark to use SAS token for authentication \n",
    "spark.conf.set(\n",
    "    f\"fs.azure.sas.{container_name}.{storage_account_name}.blob.core.windows.net\",\n",
    "    sas_token\n",
    ")\n",
    "\n",
    "# Read the JSON File from Azure Blob Storage into a DataFrame\n",
    "# Multiline JSON format where the entire dataset is enclosed in square brackets ([]) and each JSON object is separated by comma\n",
    "df = spark.read.option(\"multiline\", \"true\").json(file_path)\n",
    "\n",
    "df.display()\n"
   ]
  },
  {
   "cell_type": "code",
   "execution_count": null,
   "id": "fd7d40b5",
   "metadata": {},
   "outputs": [],
   "source": [
    "df.printSchema()\n"
   ]
  },
  {
   "cell_type": "code",
   "execution_count": null,
   "id": "968a4915",
   "metadata": {},
   "outputs": [],
   "source": [
    "df.select(\n",
    "    \"id\",\n",
    "    \"first_name\",\n",
    "    \"last_name\",\n",
    "    \"address.city\",\n",
    "    \"address.state\",\n",
    "    \"total_spent\",\n",
    "    \"orders.amount\",\n",
    "    \"address.city\"\n",
    ").show(truncate=False)\n"
   ]
  }
 ],
 "metadata": {
  "language_info": {
   "name": "python"
  }
 },
 "nbformat": 4,
 "nbformat_minor": 5
}
