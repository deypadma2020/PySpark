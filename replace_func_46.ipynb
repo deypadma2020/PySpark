{
 "cells": [
  {
   "cell_type": "markdown",
   "id": "8f9c1b3c",
   "metadata": {},
   "source": [
    "- replace() is a PySpark DataFrame function that allows you to replace specific values in a column or multiple columns with new values.\n",
    "- It is useful for data cleaning and handling inconsistent or incorrect data.\n",
    "\n",
    "- Syntax:\n",
    "    df.replace(to_replace, value, subset=None)"
   ]
  },
  {
   "cell_type": "code",
   "execution_count": 2,
   "id": "913587a3",
   "metadata": {},
   "outputs": [
    {
     "name": "stderr",
     "output_type": "stream",
     "text": [
      "WARNING: Using incubator modules: jdk.incubator.vector\n",
      "Using Spark's default log4j profile: org/apache/spark/log4j2-defaults.properties\n",
      "25/09/16 11:34:41 WARN Utils: Your hostname, KLZPC0015, resolves to a loopback address: 127.0.1.1; using 172.25.17.96 instead (on interface eth0)\n",
      "25/09/16 11:34:41 WARN Utils: Set SPARK_LOCAL_IP if you need to bind to another address\n",
      "Using Spark's default log4j profile: org/apache/spark/log4j2-defaults.properties\n",
      "Setting default log level to \"WARN\".\n",
      "To adjust logging level use sc.setLogLevel(newLevel). For SparkR, use setLogLevel(newLevel).\n",
      "25/09/16 11:34:55 WARN NativeCodeLoader: Unable to load native-hadoop library for your platform... using builtin-java classes where applicable\n",
      "25/09/16 11:34:59 WARN Utils: Service 'SparkUI' could not bind on port 4040. Attempting port 4041.\n",
      "25/09/16 11:34:59 WARN Utils: Service 'SparkUI' could not bind on port 4041. Attempting port 4042.\n",
      "25/09/16 11:34:59 WARN Utils: Service 'SparkUI' could not bind on port 4042. Attempting port 4043.\n"
     ]
    }
   ],
   "source": [
    "from pyspark.sql import SparkSession\n",
    "from pyspark.sql.functions import col\n",
    "\n",
    "spark = SparkSession.builder.appName(\"replaceFunctionExample\").getOrCreate()\n"
   ]
  },
  {
   "cell_type": "code",
   "execution_count": 6,
   "id": "d57f7a6d",
   "metadata": {},
   "outputs": [
    {
     "name": "stderr",
     "output_type": "stream",
     "text": [
      "[Stage 5:===================>                                       (1 + 2) / 3]\r"
     ]
    },
    {
     "name": "stdout",
     "output_type": "stream",
     "text": [
      "+---+--------+--------------------+------+\n",
      "| id|    name|             country|salary|\n",
      "+---+--------+--------------------+------+\n",
      "|  1|   Akash|United State of A...|500000|\n",
      "|  2|  Pallab|            Malyesia|450000|\n",
      "|  3|Abhigyan|               India| 70000|\n",
      "|  4|   Soumi|             Germany| 90000|\n",
      "|  5|  Arvind|             Ireland| 45000|\n",
      "|  6| Unknown|             Unknown|  NULL|\n",
      "+---+--------+--------------------+------+\n",
      "\n"
     ]
    },
    {
     "name": "stderr",
     "output_type": "stream",
     "text": [
      "                                                                                \r"
     ]
    }
   ],
   "source": [
    "data = [\n",
    "    (1, \"Akash\", \"United State of America\", 500000),\n",
    "    (2, \"Pallab\", \"Malyesia\", 450000),\n",
    "    (3, \"Abhigyan\", \"India\", 70000),\n",
    "    (4, \"Soumi\", \"Germany\", 90000),\n",
    "    (5, \"Arvind\", \"Ireland\", 45000),\n",
    "    (6, \"Unknown\", \"Unknown\", None),\n",
    "]\n",
    "columns = [\"id\", \"name\", \"country\", \"salary\"]\n",
    "\n",
    "df = spark.createDataFrame(data, columns)\n",
    "df.show()\n"
   ]
  },
  {
   "cell_type": "code",
   "execution_count": 7,
   "id": "f4d2052e",
   "metadata": {},
   "outputs": [
    {
     "name": "stdout",
     "output_type": "stream",
     "text": [
      "After replacing 'Unknown' in name column: \n"
     ]
    },
    {
     "name": "stderr",
     "output_type": "stream",
     "text": [
      "                                                                                \r"
     ]
    },
    {
     "name": "stdout",
     "output_type": "stream",
     "text": [
      "+---+------------+--------------------+------+\n",
      "| id|        name|             country|salary|\n",
      "+---+------------+--------------------+------+\n",
      "|  1|       Akash|United State of A...|500000|\n",
      "|  2|      Pallab|            Malyesia|450000|\n",
      "|  3|    Abhigyan|               India| 70000|\n",
      "|  4|       Soumi|             Germany| 90000|\n",
      "|  5|      Arvind|             Ireland| 45000|\n",
      "|  6|Not Provided|             Unknown|  NULL|\n",
      "+---+------------+--------------------+------+\n",
      "\n"
     ]
    }
   ],
   "source": [
    "# replace a single value in one column\n",
    "# replace \"Unknown\" in the name column with \"Not Provided\"\n",
    "df_replaced_name = df.replace(\"Unknown\", \"Not Provided\", subset=[\"name\"])\n",
    "\n",
    "print(\"After replacing 'Unknown' in name column: \")\n",
    "df_replaced_name.show()\n"
   ]
  },
  {
   "cell_type": "code",
   "execution_count": 11,
   "id": "0f778104",
   "metadata": {},
   "outputs": [
    {
     "name": "stdout",
     "output_type": "stream",
     "text": [
      "After replacing multiple country names: \n"
     ]
    },
    {
     "name": "stderr",
     "output_type": "stream",
     "text": [
      "[Stage 15:>                                                         (0 + 3) / 3]\r"
     ]
    },
    {
     "name": "stdout",
     "output_type": "stream",
     "text": [
      "+---+--------+-------+------+\n",
      "| id|    name|country|salary|\n",
      "+---+--------+-------+------+\n",
      "|  1|   Akash|    USA|500000|\n",
      "|  2|  Pallab|    MLS|450000|\n",
      "|  3|Abhigyan|    IND| 70000|\n",
      "|  4|   Soumi|    GRM| 90000|\n",
      "|  5|  Arvind|    IRE| 45000|\n",
      "|  6| Unknown|Unknown|  NULL|\n",
      "+---+--------+-------+------+\n",
      "\n"
     ]
    },
    {
     "name": "stderr",
     "output_type": "stream",
     "text": [
      "                                                                                \r"
     ]
    }
   ],
   "source": [
    "# Example: Replace multiple values in a single column\n",
    "# replace country names: India -> IND, United State of America - USA\n",
    "df_replaced_country = df.replace(\n",
    "    {\n",
    "        \"United State of America\": \"USA\",\n",
    "        \"Malyesia\": \"MLS\",\n",
    "        \"India\": \"IND\",\n",
    "        \"Germany\": \"GRM\",\n",
    "        \"Ireland\": \"IRE\"\n",
    "    }, subset=[\"country\"]\n",
    ")\n",
    "\n",
    "print(\"After replacing multiple country names: \")\n",
    "df_replaced_country.show()\n"
   ]
  },
  {
   "cell_type": "code",
   "execution_count": 12,
   "id": "20d6ae7b",
   "metadata": {},
   "outputs": [
    {
     "name": "stdout",
     "output_type": "stream",
     "text": [
      "After replacing 'Unknown' in name and country column: \n"
     ]
    },
    {
     "name": "stderr",
     "output_type": "stream",
     "text": [
      "[Stage 17:>                                                         (0 + 3) / 3]\r"
     ]
    },
    {
     "name": "stdout",
     "output_type": "stream",
     "text": [
      "+---+------------+--------------------+------+\n",
      "| id|        name|             country|salary|\n",
      "+---+------------+--------------------+------+\n",
      "|  1|       Akash|United State of A...|500000|\n",
      "|  2|      Pallab|            Malyesia|450000|\n",
      "|  3|    Abhigyan|               India| 70000|\n",
      "|  4|       Soumi|             Germany| 90000|\n",
      "|  5|      Arvind|             Ireland| 45000|\n",
      "|  6|Not Provided|        Not Provided|  NULL|\n",
      "+---+------------+--------------------+------+\n",
      "\n"
     ]
    },
    {
     "name": "stderr",
     "output_type": "stream",
     "text": [
      "                                                                                \r"
     ]
    }
   ],
   "source": [
    "# Example: Replace a Single Value in Multiple Columns\n",
    "# Replace \"Unknown\" in the Name column with \"Not Provided\"\n",
    "df_replaced_nameCountry = df.replace(\"Unknown\", \"Not Provided\", subset=[\"name\", \"country\"])\n",
    "\n",
    "print(\"After replacing 'Unknown' in name and country column: \")\n",
    "df_replaced_nameCountry.show()\n"
   ]
  },
  {
   "cell_type": "code",
   "execution_count": null,
   "id": "4bbd27b0",
   "metadata": {},
   "outputs": [],
   "source": []
  }
 ],
 "metadata": {
  "kernelspec": {
   "display_name": "Python 3",
   "language": "python",
   "name": "python3"
  },
  "language_info": {
   "codemirror_mode": {
    "name": "ipython",
    "version": 3
   },
   "file_extension": ".py",
   "mimetype": "text/x-python",
   "name": "python",
   "nbconvert_exporter": "python",
   "pygments_lexer": "ipython3",
   "version": "3.12.11"
  }
 },
 "nbformat": 4,
 "nbformat_minor": 5
}
