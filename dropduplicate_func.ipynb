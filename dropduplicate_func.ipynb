{
 "cells": [
  {
   "cell_type": "code",
   "execution_count": 1,
   "id": "882d5dee",
   "metadata": {},
   "outputs": [
    {
     "name": "stderr",
     "output_type": "stream",
     "text": [
      "your 131072x1 screen size is bogus. expect trouble\n",
      "25/08/20 07:56:21 WARN Utils: Your hostname, KLZPC0015 resolves to a loopback address: 127.0.1.1; using 172.25.17.96 instead (on interface eth0)\n",
      "25/08/20 07:56:21 WARN Utils: Set SPARK_LOCAL_IP if you need to bind to another address\n",
      "Setting default log level to \"WARN\".\n",
      "To adjust logging level use sc.setLogLevel(newLevel). For SparkR, use setLogLevel(newLevel).\n",
      "25/08/20 07:56:24 WARN NativeCodeLoader: Unable to load native-hadoop library for your platform... using builtin-java classes where applicable\n",
      "25/08/20 07:56:27 WARN Utils: Service 'SparkUI' could not bind on port 4040. Attempting port 4041.\n"
     ]
    }
   ],
   "source": [
    "from pyspark.sql import SparkSession, Row\n",
    "\n",
    "spark = SparkSession.builder.appName(\"RowExample\").getOrCreate()\n"
   ]
  },
  {
   "cell_type": "code",
   "execution_count": 2,
   "id": "01508266",
   "metadata": {},
   "outputs": [],
   "source": [
    "data = [\n",
    "    (1, \"Manta\", 75000, \"IT\", 24),\n",
    "    (2, \"Dipankar\", 30000, \"Post Master\", 27),\n",
    "    (3, \"Souvik\", 60000, \"Army Officer\", 27),\n",
    "    (4, \"Soukarjya\", 45000, \"BDO\", 26),\n",
    "    (4, \"Soukarjya\", 45000, \"BDO\", 26),\n",
    "    (5, \"Arvind\", 35000, \"Business Data Analyst\", 28),\n",
    "    (6, \"Prodipta\", 25000, \"Data Analyst\", 28),\n",
    "    (7, \"Padma\", 20000, \"Data Analyst\", 27),\n",
    "    (8, \"Panta\", 125000, \"Business Analyst\", 27),\n",
    "    (9, \"Panta\", 125000, \"Business Analyst\", 27)\n",
    "]\n"
   ]
  },
  {
   "cell_type": "code",
   "execution_count": 3,
   "id": "fdcd70f6",
   "metadata": {},
   "outputs": [
    {
     "name": "stderr",
     "output_type": "stream",
     "text": [
      "                                                                                \r"
     ]
    },
    {
     "name": "stdout",
     "output_type": "stream",
     "text": [
      "+---+---------+------+--------------------+---+\n",
      "| id|     name|salary|          department|age|\n",
      "+---+---------+------+--------------------+---+\n",
      "|  1|    Manta| 75000|                  IT| 24|\n",
      "|  2| Dipankar| 30000|         Post Master| 27|\n",
      "|  3|   Souvik| 60000|        Army Officer| 27|\n",
      "|  4|Soukarjya| 45000|                 BDO| 26|\n",
      "|  4|Soukarjya| 45000|                 BDO| 26|\n",
      "|  5|   Arvind| 35000|Business Data Ana...| 28|\n",
      "|  6| Prodipta| 25000|        Data Analyst| 28|\n",
      "|  7|    Padma| 20000|        Data Analyst| 27|\n",
      "|  8|    Panta|125000|    Business Analyst| 27|\n",
      "|  9|    Panta|125000|    Business Analyst| 27|\n",
      "+---+---------+------+--------------------+---+\n",
      "\n"
     ]
    }
   ],
   "source": [
    "df = spark.createDataFrame(data, [\"id\", \"name\", \"salary\", \"department\", \"age\"])\n",
    "df.show()\n"
   ]
  },
  {
   "cell_type": "code",
   "execution_count": 4,
   "id": "ae08fe00",
   "metadata": {},
   "outputs": [
    {
     "name": "stdout",
     "output_type": "stream",
     "text": [
      "Removing duplicate rows using dropDuplicates(): \n"
     ]
    },
    {
     "name": "stderr",
     "output_type": "stream",
     "text": [
      "[Stage 2:============================================>              (3 + 1) / 4]\r"
     ]
    },
    {
     "name": "stdout",
     "output_type": "stream",
     "text": [
      "+---+---------+------+--------------------+---+\n",
      "| id|     name|salary|          department|age|\n",
      "+---+---------+------+--------------------+---+\n",
      "|  2| Dipankar| 30000|         Post Master| 27|\n",
      "|  1|    Manta| 75000|                  IT| 24|\n",
      "|  3|   Souvik| 60000|        Army Officer| 27|\n",
      "|  4|Soukarjya| 45000|                 BDO| 26|\n",
      "|  5|   Arvind| 35000|Business Data Ana...| 28|\n",
      "|  9|    Panta|125000|    Business Analyst| 27|\n",
      "|  6| Prodipta| 25000|        Data Analyst| 28|\n",
      "|  7|    Padma| 20000|        Data Analyst| 27|\n",
      "|  8|    Panta|125000|    Business Analyst| 27|\n",
      "+---+---------+------+--------------------+---+\n",
      "\n"
     ]
    },
    {
     "name": "stderr",
     "output_type": "stream",
     "text": [
      "                                                                                \r"
     ]
    }
   ],
   "source": [
    "print(\"Removing duplicate rows using dropDuplicates(): \")\n",
    "df_no_duplicates = df.dropDuplicates()\n",
    "df_no_duplicates.show()\n"
   ]
  },
  {
   "cell_type": "code",
   "execution_count": 5,
   "id": "d48c6e93",
   "metadata": {},
   "outputs": [
    {
     "name": "stdout",
     "output_type": "stream",
     "text": [
      "Removing duplicates based on 'name' and 'department' columns: \n"
     ]
    },
    {
     "name": "stderr",
     "output_type": "stream",
     "text": [
      "[Stage 5:============================================>              (3 + 1) / 4]\r"
     ]
    },
    {
     "name": "stdout",
     "output_type": "stream",
     "text": [
      "+---+---------+------+--------------------+---+\n",
      "| id|     name|salary|          department|age|\n",
      "+---+---------+------+--------------------+---+\n",
      "|  2| Dipankar| 30000|         Post Master| 27|\n",
      "|  1|    Manta| 75000|                  IT| 24|\n",
      "|  4|Soukarjya| 45000|                 BDO| 26|\n",
      "|  3|   Souvik| 60000|        Army Officer| 27|\n",
      "|  5|   Arvind| 35000|Business Data Ana...| 28|\n",
      "|  7|    Padma| 20000|        Data Analyst| 27|\n",
      "|  8|    Panta|125000|    Business Analyst| 27|\n",
      "|  6| Prodipta| 25000|        Data Analyst| 28|\n",
      "+---+---------+------+--------------------+---+\n",
      "\n"
     ]
    },
    {
     "name": "stderr",
     "output_type": "stream",
     "text": [
      "                                                                                \r"
     ]
    }
   ],
   "source": [
    "print(\"Removing duplicates based on 'name' and 'department' columns: \")\n",
    "df_no_duplicates_specific = df.dropDuplicates([\"name\", \"department\"])\n",
    "df_no_duplicates_specific.show()\n"
   ]
  },
  {
   "cell_type": "code",
   "execution_count": null,
   "id": "4adf2df9",
   "metadata": {},
   "outputs": [],
   "source": []
  }
 ],
 "metadata": {
  "kernelspec": {
   "display_name": "Python 3",
   "language": "python",
   "name": "python3"
  },
  "language_info": {
   "codemirror_mode": {
    "name": "ipython",
    "version": 3
   },
   "file_extension": ".py",
   "mimetype": "text/x-python",
   "name": "python",
   "nbconvert_exporter": "python",
   "pygments_lexer": "ipython3",
   "version": "3.12.11"
  }
 },
 "nbformat": 4,
 "nbformat_minor": 5
}
