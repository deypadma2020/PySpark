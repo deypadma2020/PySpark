{
 "cells": [
  {
   "cell_type": "markdown",
   "id": "1bd04458",
   "metadata": {},
   "source": [
    "- rollup is used to perform hierarchical (multi-level) aggregations in PySpark.\n",
    "- It creates subtotals and a grand total in the result set.\n",
    "- It's similar to GROUP BY, but adds intermediate subtotal rows and a grand total row.\n",
    "- Syntax: \n",
    "    df.rollup(column1, column2, ...).agg(aggregations)"
   ]
  },
  {
   "cell_type": "code",
   "execution_count": 1,
   "id": "0988dc4e",
   "metadata": {},
   "outputs": [
    {
     "name": "stderr",
     "output_type": "stream",
     "text": [
      "WARNING: Using incubator modules: jdk.incubator.vector\n",
      "Using Spark's default log4j profile: org/apache/spark/log4j2-defaults.properties\n",
      "25/09/16 14:44:31 WARN Utils: Your hostname, KLZPC0015, resolves to a loopback address: 127.0.1.1; using 172.25.17.96 instead (on interface eth0)\n",
      "25/09/16 14:44:31 WARN Utils: Set SPARK_LOCAL_IP if you need to bind to another address\n",
      "Using Spark's default log4j profile: org/apache/spark/log4j2-defaults.properties\n",
      "Setting default log level to \"WARN\".\n",
      "To adjust logging level use sc.setLogLevel(newLevel). For SparkR, use setLogLevel(newLevel).\n",
      "25/09/16 14:44:43 WARN NativeCodeLoader: Unable to load native-hadoop library for your platform... using builtin-java classes where applicable\n"
     ]
    }
   ],
   "source": [
    "from pyspark.sql import SparkSession\n",
    "from pyspark.sql.functions import sum as _sum\n",
    "\n",
    "spark = SparkSession.builder.appName(\"rollupFunctionExample\").getOrCreate()\n"
   ]
  },
  {
   "cell_type": "code",
   "execution_count": 2,
   "id": "7041bfab",
   "metadata": {},
   "outputs": [
    {
     "name": "stderr",
     "output_type": "stream",
     "text": [
      "                                                                                \r"
     ]
    },
    {
     "name": "stdout",
     "output_type": "stream",
     "text": [
      "+---+--------+--------------------+------+\n",
      "| id|    name|             country|salary|\n",
      "+---+--------+--------------------+------+\n",
      "|  1|   Akash|United State of A...|500000|\n",
      "|  2|  Pallab|            Malyesia|450000|\n",
      "|  3|Abhigyan|               India| 70000|\n",
      "|  4|   Soumi|             Germany| 90000|\n",
      "|  5|  Arvind|             Ireland| 45000|\n",
      "|  6| Unknown|             Unknown|  NULL|\n",
      "+---+--------+--------------------+------+\n",
      "\n"
     ]
    }
   ],
   "source": [
    "data = [\n",
    "    (1, \"Akash\", \"United State of America\", 500000),\n",
    "    (2, \"Pallab\", \"Malyesia\", 450000),\n",
    "    (3, \"Abhigyan\", \"India\", 70000),\n",
    "    (4, \"Soumi\", \"Germany\", 90000),\n",
    "    (5, \"Arvind\", \"Ireland\", 45000),\n",
    "    (6, \"Unknown\", \"Unknown\", None),\n",
    "]\n",
    "columns = [\"id\", \"name\", \"country\", \"salary\"]\n",
    "\n",
    "df = spark.createDataFrame(data, columns)\n",
    "df.show()\n"
   ]
  },
  {
   "cell_type": "code",
   "execution_count": 3,
   "id": "92764771",
   "metadata": {},
   "outputs": [
    {
     "name": "stdout",
     "output_type": "stream",
     "text": [
      "Rollup Aggregation by Country and Name: \n"
     ]
    },
    {
     "name": "stderr",
     "output_type": "stream",
     "text": [
      "                                                                                \r"
     ]
    },
    {
     "name": "stdout",
     "output_type": "stream",
     "text": [
      "+-----------------------+--------+------------+\n",
      "|country                |name    |total_salary|\n",
      "+-----------------------+--------+------------+\n",
      "|NULL                   |NULL    |1155000     |\n",
      "|Germany                |NULL    |90000       |\n",
      "|Germany                |Soumi   |90000       |\n",
      "|India                  |NULL    |70000       |\n",
      "|India                  |Abhigyan|70000       |\n",
      "|Ireland                |NULL    |45000       |\n",
      "|Ireland                |Arvind  |45000       |\n",
      "|Malyesia               |NULL    |450000      |\n",
      "|Malyesia               |Pallab  |450000      |\n",
      "|United State of America|NULL    |500000      |\n",
      "|United State of America|Akash   |500000      |\n",
      "|Unknown                |NULL    |NULL        |\n",
      "|Unknown                |Unknown |NULL        |\n",
      "+-----------------------+--------+------------+\n",
      "\n"
     ]
    }
   ],
   "source": [
    "# Example - rollup() on country and name\n",
    "# aggregate salary by country and name  with subtotals and grand total\n",
    "df_rollup = df.rollup(\"country\", \"name\").agg(\n",
    "    _sum(\"salary\").alias(\"total_salary\")\n",
    ").orderBy(\"country\", \"name\")\n",
    "\n",
    "print(\"Rollup Aggregation by Country and Name: \")\n",
    "df_rollup.show(truncate=False)\n"
   ]
  },
  {
   "cell_type": "markdown",
   "id": "0c0b38d8",
   "metadata": {},
   "source": [
    "- Explanation:\n",
    "    - rollup(\"country\", \"name\") will:\n",
    "        1. group by country and name\n",
    "        2. group by country (subtotal)\n",
    "        3. grand total (null for country and name)\n",
    "\n",
    "    - null values in country or name represent subtotal and grand total rows."
   ]
  },
  {
   "cell_type": "code",
   "execution_count": 4,
   "id": "cdff0e07",
   "metadata": {},
   "outputs": [
    {
     "name": "stdout",
     "output_type": "stream",
     "text": [
      "Rollup aggregation by country with grand total: \n"
     ]
    },
    {
     "name": "stderr",
     "output_type": "stream",
     "text": [
      "                                                                                \r"
     ]
    },
    {
     "name": "stdout",
     "output_type": "stream",
     "text": [
      "+-----------------------+------------+\n",
      "|country                |total_salary|\n",
      "+-----------------------+------------+\n",
      "|NULL                   |1155000     |\n",
      "|Germany                |90000       |\n",
      "|India                  |70000       |\n",
      "|Ireland                |45000       |\n",
      "|Malyesia               |450000      |\n",
      "|United State of America|500000      |\n",
      "|Unknown                |NULL        |\n",
      "+-----------------------+------------+\n",
      "\n"
     ]
    }
   ],
   "source": [
    "# Example - rollup() on country only\n",
    "df_rollup_country = df.rollup(\"country\").agg(\n",
    "    _sum(\"salary\").alias(\"total_salary\")\n",
    ").orderBy(\"country\")\n",
    "\n",
    "print(\"Rollup aggregation by country with grand total: \")\n",
    "df_rollup_country.show(truncate=False)\n"
   ]
  },
  {
   "cell_type": "code",
   "execution_count": null,
   "id": "9c6ed20b",
   "metadata": {},
   "outputs": [],
   "source": []
  }
 ],
 "metadata": {
  "kernelspec": {
   "display_name": "Python 3",
   "language": "python",
   "name": "python3"
  },
  "language_info": {
   "codemirror_mode": {
    "name": "ipython",
    "version": 3
   },
   "file_extension": ".py",
   "mimetype": "text/x-python",
   "name": "python",
   "nbconvert_exporter": "python",
   "pygments_lexer": "ipython3",
   "version": "3.12.11"
  }
 },
 "nbformat": 4,
 "nbformat_minor": 5
}
