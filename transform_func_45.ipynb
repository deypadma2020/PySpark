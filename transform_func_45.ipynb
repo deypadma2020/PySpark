{
 "cells": [
  {
   "cell_type": "markdown",
   "id": "e19d9d32",
   "metadata": {},
   "source": [
    "- What is transform()?\n",
    "    - transform() is a method in PySpark that allows you to apply a function to a DataFrame.\n",
    "    - It helps write cleaner and more reusable code by chaining custom transformations.\n",
    "\n",
    "- Syntax:\n",
    "    df.transform(function)\n",
    "\n",
    "- Example:\n",
    "    df.transform(lambda d: d.withColumn(...))"
   ]
  },
  {
   "cell_type": "code",
   "execution_count": 1,
   "id": "f6face64",
   "metadata": {},
   "outputs": [
    {
     "name": "stderr",
     "output_type": "stream",
     "text": [
      "WARNING: Using incubator modules: jdk.incubator.vector\n",
      "Using Spark's default log4j profile: org/apache/spark/log4j2-defaults.properties\n",
      "25/09/16 10:44:20 WARN Utils: Your hostname, KLZPC0015, resolves to a loopback address: 127.0.1.1; using 172.25.17.96 instead (on interface eth0)\n",
      "25/09/16 10:44:20 WARN Utils: Set SPARK_LOCAL_IP if you need to bind to another address\n",
      "Using Spark's default log4j profile: org/apache/spark/log4j2-defaults.properties\n",
      "Setting default log level to \"WARN\".\n",
      "To adjust logging level use sc.setLogLevel(newLevel). For SparkR, use setLogLevel(newLevel).\n",
      "25/09/16 10:44:34 WARN NativeCodeLoader: Unable to load native-hadoop library for your platform... using builtin-java classes where applicable\n",
      "25/09/16 10:44:38 WARN Utils: Service 'SparkUI' could not bind on port 4040. Attempting port 4041.\n",
      "25/09/16 10:44:38 WARN Utils: Service 'SparkUI' could not bind on port 4041. Attempting port 4042.\n"
     ]
    }
   ],
   "source": [
    "from pyspark.sql import SparkSession\n",
    "from pyspark.sql.functions import col, upper, lower\n",
    "\n",
    "spark = SparkSession.builder.appName(\"transformFunctionExample\").getOrCreate()\n"
   ]
  },
  {
   "cell_type": "code",
   "execution_count": 2,
   "id": "97c381ea",
   "metadata": {},
   "outputs": [
    {
     "name": "stderr",
     "output_type": "stream",
     "text": [
      "                                                                                \r"
     ]
    },
    {
     "name": "stdout",
     "output_type": "stream",
     "text": [
      "+---+-------+------+\n",
      "| id|   name|salary|\n",
      "+---+-------+------+\n",
      "|  1|Manisha|  5000|\n",
      "|  2|  Simpa| 25000|\n",
      "|  3| Shreya| 30000|\n",
      "|  4|Shankha| 20000|\n",
      "+---+-------+------+\n",
      "\n"
     ]
    }
   ],
   "source": [
    "data = [\n",
    "    (1, \"Manisha\", 5000),\n",
    "    (2, \"Simpa\", 25000),\n",
    "    (3, \"Shreya\", 30000),\n",
    "    (4, \"Shankha\", 20000)\n",
    "]\n",
    "\n",
    "columns = [\"id\", \"name\", \"salary\"]\n",
    "\n",
    "df = spark.createDataFrame(data, columns)\n",
    "df.show()\n"
   ]
  },
  {
   "cell_type": "code",
   "execution_count": 4,
   "id": "13837061",
   "metadata": {},
   "outputs": [],
   "source": [
    "# define a Tranformation function\n",
    "def add_new_columns(input_df):\n",
    "    # Example transformation:\n",
    "        # 1. Uppercase the name column\n",
    "        # 2. add a new column \"Bonus\" which is 10% of Salary\n",
    "    transformed_df = input_df.withColumn(\"NameUpper\", upper(col(\"name\"))) \\\n",
    "                              .withColumn(\"Bonus\", col(\"salary\"))\n",
    "\n",
    "    return transformed_df\n"
   ]
  },
  {
   "cell_type": "code",
   "execution_count": 5,
   "id": "69a26bd7",
   "metadata": {},
   "outputs": [
    {
     "name": "stdout",
     "output_type": "stream",
     "text": [
      "Transformed DataFrame (Upper Name + Bosus):\n"
     ]
    },
    {
     "name": "stderr",
     "output_type": "stream",
     "text": [
      "[Stage 3:=======================================>                   (2 + 1) / 3]\r"
     ]
    },
    {
     "name": "stdout",
     "output_type": "stream",
     "text": [
      "+---+-------+------+---------+-----+\n",
      "| id|   name|salary|NameUpper|Bonus|\n",
      "+---+-------+------+---------+-----+\n",
      "|  1|Manisha|  5000|  MANISHA| 5000|\n",
      "|  2|  Simpa| 25000|    SIMPA|25000|\n",
      "|  3| Shreya| 30000|   SHREYA|30000|\n",
      "|  4|Shankha| 20000|  SHANKHA|20000|\n",
      "+---+-------+------+---------+-----+\n",
      "\n"
     ]
    },
    {
     "name": "stderr",
     "output_type": "stream",
     "text": [
      "                                                                                \r"
     ]
    }
   ],
   "source": [
    "df_transformed = df.transform(add_new_columns)\n",
    "\n",
    "print(\"Transformed DataFrame (Upper Name + Bosus):\")\n",
    "df_transformed.show()\n"
   ]
  },
  {
   "cell_type": "code",
   "execution_count": 6,
   "id": "a6849512",
   "metadata": {},
   "outputs": [
    {
     "name": "stdout",
     "output_type": "stream",
     "text": [
      "Another transformation Example (lowercase Name): \n"
     ]
    },
    {
     "name": "stderr",
     "output_type": "stream",
     "text": [
      "[Stage 5:===================>                                       (1 + 2) / 3]\r"
     ]
    },
    {
     "name": "stdout",
     "output_type": "stream",
     "text": [
      "+---+-------+------+----------+\n",
      "| id|   name|salary|Lower_Name|\n",
      "+---+-------+------+----------+\n",
      "|  1|Manisha|  5000|   manisha|\n",
      "|  2|  Simpa| 25000|     simpa|\n",
      "|  3| Shreya| 30000|    shreya|\n",
      "|  4|Shankha| 20000|   shankha|\n",
      "+---+-------+------+----------+\n",
      "\n"
     ]
    },
    {
     "name": "stderr",
     "output_type": "stream",
     "text": [
      "                                                                                \r"
     ]
    }
   ],
   "source": [
    "df_another_transform = df.transform(lambda d: d.withColumn(\"Lower_Name\", lower(col(\"Name\"))))\n",
    "print(\"Another transformation Example (lowercase Name): \")\n",
    "df_another_transform.show()\n"
   ]
  },
  {
   "cell_type": "code",
   "execution_count": null,
   "id": "4c730bf1",
   "metadata": {},
   "outputs": [],
   "source": []
  }
 ],
 "metadata": {
  "kernelspec": {
   "display_name": "Python 3",
   "language": "python",
   "name": "python3"
  },
  "language_info": {
   "codemirror_mode": {
    "name": "ipython",
    "version": 3
   },
   "file_extension": ".py",
   "mimetype": "text/x-python",
   "name": "python",
   "nbconvert_exporter": "python",
   "pygments_lexer": "ipython3",
   "version": "3.12.11"
  }
 },
 "nbformat": 4,
 "nbformat_minor": 5
}
