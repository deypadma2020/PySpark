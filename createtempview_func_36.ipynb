{
 "cells": [
  {
   "cell_type": "markdown",
   "id": "ae83dcea",
   "metadata": {},
   "source": [
    "- createTempView() - creates a temporary view of a DataFrame.\n",
    "- It allows you to run SQL queries on the DataFrame directly using Spark SQL.\n",
    "- A Temp View is session-scoped and will disappear when your Spark session ends.\n",
    "\n",
    "- Benifits:\n",
    "    1. Run SQL quries on DataFrames for easier data exploration and analysis.\n",
    "    2. Simplify complex joins and aggregations by using familiar SQL syntax."
   ]
  },
  {
   "cell_type": "code",
   "execution_count": 1,
   "id": "8d5a65f9",
   "metadata": {},
   "outputs": [
    {
     "name": "stderr",
     "output_type": "stream",
     "text": [
      "WARNING: Using incubator modules: jdk.incubator.vector\n",
      "Using Spark's default log4j profile: org/apache/spark/log4j2-defaults.properties\n",
      "25/09/12 15:36:54 WARN Utils: Your hostname, KLZPC0015, resolves to a loopback address: 127.0.1.1; using 172.25.17.96 instead (on interface eth0)\n",
      "25/09/12 15:36:54 WARN Utils: Set SPARK_LOCAL_IP if you need to bind to another address\n",
      "Using Spark's default log4j profile: org/apache/spark/log4j2-defaults.properties\n",
      "Setting default log level to \"WARN\".\n",
      "To adjust logging level use sc.setLogLevel(newLevel). For SparkR, use setLogLevel(newLevel).\n",
      "25/09/12 15:37:08 WARN NativeCodeLoader: Unable to load native-hadoop library for your platform... using builtin-java classes where applicable\n",
      "25/09/12 15:37:11 WARN Utils: Service 'SparkUI' could not bind on port 4040. Attempting port 4041.\n"
     ]
    }
   ],
   "source": [
    "from pyspark.sql import SparkSession\n",
    "\n",
    "spark = SparkSession.builder.appName(\"createTempViewFunctionExample\").getOrCreate()\n"
   ]
  },
  {
   "cell_type": "code",
   "execution_count": 2,
   "id": "54e1c16c",
   "metadata": {},
   "outputs": [
    {
     "name": "stderr",
     "output_type": "stream",
     "text": [
      "                                                                                \r"
     ]
    },
    {
     "name": "stdout",
     "output_type": "stream",
     "text": [
      "+---------+---------------+------+\n",
      "|     name|     department|salary|\n",
      "+---------+---------------+------+\n",
      "|   Souvik|           Army| 80000|\n",
      "|Soukarjya|            BDO| 75000|\n",
      "|   Sandip|            MTS| 50000|\n",
      "| Prodipta|   Data Analyst| 25000|\n",
      "|  RamaSai|System Engineer| 40000|\n",
      "|     Riya|System Engineer| 16000|\n",
      "|    Padma|   Data Analyst| 18000|\n",
      "+---------+---------------+------+\n",
      "\n"
     ]
    }
   ],
   "source": [
    "data = [\n",
    "    (\"Souvik\", \"Army\", 80000),\n",
    "    (\"Soukarjya\", \"BDO\", 75000),\n",
    "    (\"Sandip\", \"MTS\", 50000),\n",
    "    (\"Prodipta\", \"Data Analyst\", 25000),\n",
    "    (\"RamaSai\", \"System Engineer\", 40000),\n",
    "    (\"Riya\", \"System Engineer\", 16000),\n",
    "    (\"Padma\", \"Data Analyst\", 18000)\n",
    "]\n",
    "\n",
    "columns = [\"name\", \"department\", \"salary\"]\n",
    "\n",
    "df = spark.createDataFrame(data, columns)\n",
    "df.show()\n"
   ]
  },
  {
   "cell_type": "code",
   "execution_count": 3,
   "id": "e9747993",
   "metadata": {},
   "outputs": [],
   "source": [
    "# registerthe dataframe as a temporary view named \"employee_view\"\n",
    "df.createOrReplaceTempView(\"employee_view\")\n"
   ]
  },
  {
   "cell_type": "code",
   "execution_count": 4,
   "id": "9a758af2",
   "metadata": {},
   "outputs": [
    {
     "name": "stderr",
     "output_type": "stream",
     "text": [
      "[Stage 3:>                                                          (0 + 3) / 3]\r"
     ]
    },
    {
     "name": "stdout",
     "output_type": "stream",
     "text": [
      "+---------+---------------+------+\n",
      "|     name|     department|salary|\n",
      "+---------+---------------+------+\n",
      "|   Souvik|           Army| 80000|\n",
      "|Soukarjya|            BDO| 75000|\n",
      "|   Sandip|            MTS| 50000|\n",
      "| Prodipta|   Data Analyst| 25000|\n",
      "|  RamaSai|System Engineer| 40000|\n",
      "|     Riya|System Engineer| 16000|\n",
      "|    Padma|   Data Analyst| 18000|\n",
      "+---------+---------------+------+\n",
      "\n"
     ]
    },
    {
     "name": "stderr",
     "output_type": "stream",
     "text": [
      "                                                                                \r"
     ]
    }
   ],
   "source": [
    "# Run SQL Queries on the Temp View\n",
    "# Example 1: Select all records\n",
    "result1 = spark.sql(\"select * from employee_view\")\n",
    "result1.show()\n",
    "\n"
   ]
  },
  {
   "cell_type": "code",
   "execution_count": 5,
   "id": "18203f3d",
   "metadata": {},
   "outputs": [
    {
     "name": "stderr",
     "output_type": "stream",
     "text": [
      "[Stage 5:>                                                          (0 + 3) / 3]\r"
     ]
    },
    {
     "name": "stdout",
     "output_type": "stream",
     "text": [
      "+--------+------+\n",
      "|    name|salary|\n",
      "+--------+------+\n",
      "|Prodipta| 25000|\n",
      "|   Padma| 18000|\n",
      "+--------+------+\n",
      "\n"
     ]
    },
    {
     "name": "stderr",
     "output_type": "stream",
     "text": [
      "                                                                                \r"
     ]
    }
   ],
   "source": [
    "# Example 2: Filter Employees from the 'Sales' delepartment\n",
    "result2 = spark.sql(\n",
    "    \"\"\"\n",
    "select name, salary\n",
    "from employee_view\n",
    "where department = \"Data Analyst\"\n",
    "\"\"\"\n",
    ")\n",
    "\n",
    "result2.show()\n"
   ]
  },
  {
   "cell_type": "code",
   "execution_count": 6,
   "id": "e5656a06",
   "metadata": {},
   "outputs": [
    {
     "name": "stderr",
     "output_type": "stream",
     "text": [
      "                                                                                \r"
     ]
    },
    {
     "name": "stdout",
     "output_type": "stream",
     "text": [
      "+---------------+-------+\n",
      "|     department|avg_sal|\n",
      "+---------------+-------+\n",
      "|           Army|80000.0|\n",
      "|            BDO|75000.0|\n",
      "|            MTS|50000.0|\n",
      "|System Engineer|28000.0|\n",
      "|   Data Analyst|21500.0|\n",
      "+---------------+-------+\n",
      "\n"
     ]
    }
   ],
   "source": [
    "# Example 3: Calculate average salary by department\n",
    "result3 = spark.sql(\n",
    "    \"\"\"\n",
    "select department, avg(salary) as avg_sal\n",
    "from employee_view\n",
    "group by department\n",
    "\"\"\"\n",
    ")\n",
    "\n",
    "result3.show()\n"
   ]
  },
  {
   "cell_type": "markdown",
   "id": "f717c365",
   "metadata": {},
   "source": [
    "- End of Notebook summary\n",
    "\n",
    "    - createtempView() registers a DataFrame as a SQL temporary view.\n",
    "    - Use spark.sql(\"select ...\") to run queries directly on the view.\n",
    "    - Temp views are available only for the current session.\n"
   ]
  },
  {
   "cell_type": "markdown",
   "id": "17d957a3",
   "metadata": {},
   "source": []
  }
 ],
 "metadata": {
  "kernelspec": {
   "display_name": "Python 3",
   "language": "python",
   "name": "python3"
  },
  "language_info": {
   "codemirror_mode": {
    "name": "ipython",
    "version": 3
   },
   "file_extension": ".py",
   "mimetype": "text/x-python",
   "name": "python",
   "nbconvert_exporter": "python",
   "pygments_lexer": "ipython3",
   "version": "3.12.11"
  }
 },
 "nbformat": 4,
 "nbformat_minor": 5
}
