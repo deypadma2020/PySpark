{
 "cells": [
  {
   "cell_type": "code",
   "execution_count": null,
   "id": "8801ff89",
   "metadata": {},
   "outputs": [],
   "source": [
    "from pyspark.sql import SparkSession, Row\n",
    "\n",
    "spark = SparkSession.builder.appName(\"RowExample\").getOrCreate()\n"
   ]
  },
  {
   "cell_type": "markdown",
   "id": "db02daed",
   "metadata": {},
   "source": [
    "### Creating DataFrame from a List of Tuples (Static Values)"
   ]
  },
  {
   "cell_type": "code",
   "execution_count": null,
   "id": "d816f8dc",
   "metadata": {},
   "outputs": [],
   "source": [
    "data = [\n",
    "    Row(name=\"Souvik\", age=26, id=1),\n",
    "    Row(name=\"Soukajya\", age=26, id=2),\n",
    "    Row(age=27, id=3, name=\"Akash\")\n",
    "]\n"
   ]
  },
  {
   "cell_type": "code",
   "execution_count": null,
   "id": "5c26635d",
   "metadata": {},
   "outputs": [],
   "source": [
    "df = spark.createDataFrame(data)\n",
    "df.show()\n"
   ]
  },
  {
   "cell_type": "markdown",
   "id": "2898fb08",
   "metadata": {},
   "source": [
    "#### To fix this column order issue - "
   ]
  },
  {
   "cell_type": "markdown",
   "id": "12001fb5",
   "metadata": {},
   "source": [
    "##### Option 1: Use Consistant Row defination"
   ]
  },
  {
   "cell_type": "code",
   "execution_count": null,
   "id": "bcfb2486",
   "metadata": {},
   "outputs": [],
   "source": [
    "data = [\n",
    "    Row(name=\"Souvik\", age=26, id=1),\n",
    "    Row(name=\"Soukajya\", age=26, id=2),\n",
    "    Row(name=\"Akash\", age=27, id=3)   # fixed order\n",
    "]\n",
    "\n",
    "df = spark.createDataFrame(data)\n",
    "df.show()\n"
   ]
  },
  {
   "cell_type": "markdown",
   "id": "84600c97",
   "metadata": {},
   "source": [
    "##### Option 2: Define a schema explicitly"
   ]
  },
  {
   "cell_type": "code",
   "execution_count": null,
   "id": "92a03e5e",
   "metadata": {},
   "outputs": [],
   "source": [
    "from pyspark.sql.types import StructType, StructField, StringType, IntegerType\n",
    "\n",
    "schema = StructType([\n",
    "    StructField(\"name\", StringType(), True),\n",
    "    StructField(\"age\", IntegerType(), True),\n",
    "    StructField(\"id\", IntegerType(), True),\n",
    "])\n",
    "\n",
    "\n",
    "df = spark.createDataFrame(data, schema=schema)\n",
    "df.show()\n"
   ]
  },
  {
   "cell_type": "code",
   "execution_count": null,
   "id": "5b3d4039",
   "metadata": {},
   "outputs": [],
   "source": [
    "df.printSchema()\n"
   ]
  }
 ],
 "metadata": {
  "language_info": {
   "name": "python"
  }
 },
 "nbformat": 4,
 "nbformat_minor": 5
}
