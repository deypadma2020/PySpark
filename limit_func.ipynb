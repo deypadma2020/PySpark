{
 "cells": [
  {
   "cell_type": "code",
   "execution_count": 1,
   "id": "725c2918",
   "metadata": {},
   "outputs": [
    {
     "name": "stderr",
     "output_type": "stream",
     "text": [
      "your 131072x1 screen size is bogus. expect trouble\n",
      "25/08/20 07:00:56 WARN Utils: Your hostname, KLZPC0015 resolves to a loopback address: 127.0.1.1; using 172.25.17.96 instead (on interface eth0)\n",
      "25/08/20 07:00:56 WARN Utils: Set SPARK_LOCAL_IP if you need to bind to another address\n",
      "Setting default log level to \"WARN\".\n",
      "To adjust logging level use sc.setLogLevel(newLevel). For SparkR, use setLogLevel(newLevel).\n",
      "25/08/20 07:00:58 WARN NativeCodeLoader: Unable to load native-hadoop library for your platform... using builtin-java classes where applicable\n",
      "25/08/20 07:01:00 WARN Utils: Service 'SparkUI' could not bind on port 4040. Attempting port 4041.\n"
     ]
    }
   ],
   "source": [
    "from pyspark.sql import SparkSession, Row\n",
    "\n",
    "spark = SparkSession.builder.appName(\"RowExample\").getOrCreate()\n"
   ]
  },
  {
   "cell_type": "code",
   "execution_count": 2,
   "id": "c736eed6",
   "metadata": {},
   "outputs": [],
   "source": [
    "data = [\n",
    "    (1, \"Manta\", 75000, \"IT\", 24),\n",
    "    (2, \"Dipankar\", 30000, \"Post Master\", 27),\n",
    "    (3, \"Souvik\", 60000, \"Army Officer\", 27),\n",
    "    (4, \"Soukarjya\", 45000, \"BDO\", 26),\n",
    "    (5, \"Arvind\", 35000, \"Business Data Analyst\", 28),\n",
    "    (6, \"Prodipta\", 25000, \"Data Analyst\", 28),\n",
    "    (7, \"Padma\", 20000, \"Data Analyst\", 27),\n",
    "    (8, \"Panta\", 125000, \"Business Analyst\", 27)\n",
    "]\n"
   ]
  },
  {
   "cell_type": "code",
   "execution_count": 3,
   "id": "4765f8fd",
   "metadata": {},
   "outputs": [
    {
     "name": "stderr",
     "output_type": "stream",
     "text": [
      "                                                                                \r"
     ]
    },
    {
     "name": "stdout",
     "output_type": "stream",
     "text": [
      "+---+---------+------+--------------------+---+\n",
      "| id|     name|salary|          department|age|\n",
      "+---+---------+------+--------------------+---+\n",
      "|  1|    Manta| 75000|                  IT| 24|\n",
      "|  2| Dipankar| 30000|         Post Master| 27|\n",
      "|  3|   Souvik| 60000|        Army Officer| 27|\n",
      "|  4|Soukarjya| 45000|                 BDO| 26|\n",
      "|  5|   Arvind| 35000|Business Data Ana...| 28|\n",
      "|  6| Prodipta| 25000|        Data Analyst| 28|\n",
      "|  7|    Padma| 20000|        Data Analyst| 27|\n",
      "|  8|    Panta|125000|    Business Analyst| 27|\n",
      "+---+---------+------+--------------------+---+\n",
      "\n"
     ]
    }
   ],
   "source": [
    "df = spark.createDataFrame(data, [\"id\", \"name\", \"salary\", \"department\", \"age\"])\n",
    "df.show()\n"
   ]
  },
  {
   "cell_type": "code",
   "execution_count": 4,
   "id": "3b94d637",
   "metadata": {},
   "outputs": [
    {
     "name": "stdout",
     "output_type": "stream",
     "text": [
      "Using limit of 5: \n"
     ]
    },
    {
     "name": "stderr",
     "output_type": "stream",
     "text": [
      "[Stage 3:>                                                          (0 + 3) / 3]\r"
     ]
    },
    {
     "name": "stdout",
     "output_type": "stream",
     "text": [
      "+---+---------+------+--------------------+---+\n",
      "| id|     name|salary|          department|age|\n",
      "+---+---------+------+--------------------+---+\n",
      "|  1|    Manta| 75000|                  IT| 24|\n",
      "|  2| Dipankar| 30000|         Post Master| 27|\n",
      "|  3|   Souvik| 60000|        Army Officer| 27|\n",
      "|  4|Soukarjya| 45000|                 BDO| 26|\n",
      "|  5|   Arvind| 35000|Business Data Ana...| 28|\n",
      "+---+---------+------+--------------------+---+\n",
      "\n"
     ]
    },
    {
     "name": "stderr",
     "output_type": "stream",
     "text": [
      "                                                                                \r"
     ]
    }
   ],
   "source": [
    "print(\"Using limit of 5: \")\n",
    "df.limit(5).show()\n"
   ]
  },
  {
   "cell_type": "code",
   "execution_count": 6,
   "id": "6c46c6f1",
   "metadata": {},
   "outputs": [
    {
     "name": "stdout",
     "output_type": "stream",
     "text": [
      "Stored Limited DataFrame of 3 records: \n"
     ]
    },
    {
     "name": "stderr",
     "output_type": "stream",
     "text": [
      "[Stage 7:>                                                          (0 + 1) / 1]\r"
     ]
    },
    {
     "name": "stdout",
     "output_type": "stream",
     "text": [
      "+---+--------+------+------------+---+\n",
      "| id|    name|salary|  department|age|\n",
      "+---+--------+------+------------+---+\n",
      "|  1|   Manta| 75000|          IT| 24|\n",
      "|  2|Dipankar| 30000| Post Master| 27|\n",
      "|  3|  Souvik| 60000|Army Officer| 27|\n",
      "+---+--------+------+------------+---+\n",
      "\n"
     ]
    },
    {
     "name": "stderr",
     "output_type": "stream",
     "text": [
      "                                                                                \r"
     ]
    }
   ],
   "source": [
    "df_limited = df.limit(3)\n",
    "print(\"Stored Limited DataFrame of 3 records: \")\n",
    "df_limited.show()\n"
   ]
  },
  {
   "cell_type": "code",
   "execution_count": 7,
   "id": "5c0133df",
   "metadata": {},
   "outputs": [
    {
     "name": "stdout",
     "output_type": "stream",
     "text": [
      "Stored Limited DataFrame of 3 records: \n"
     ]
    },
    {
     "name": "stderr",
     "output_type": "stream",
     "text": [
      "[Stage 8:============================================>              (3 + 1) / 4]\r"
     ]
    },
    {
     "name": "stdout",
     "output_type": "stream",
     "text": [
      "+---+--------+------+------------+---+\n",
      "| id|    name|salary|  department|age|\n",
      "+---+--------+------+------------+---+\n",
      "|  7|   Padma| 20000|Data Analyst| 27|\n",
      "|  6|Prodipta| 25000|Data Analyst| 28|\n",
      "|  2|Dipankar| 30000| Post Master| 27|\n",
      "+---+--------+------+------------+---+\n",
      "\n"
     ]
    },
    {
     "name": "stderr",
     "output_type": "stream",
     "text": [
      "                                                                                \r"
     ]
    }
   ],
   "source": [
    "df_limited = df.orderBy(\"salary\").limit(3)\n",
    "print(\"Stored Limited DataFrame of 3 records: \")\n",
    "df_limited.show()\n"
   ]
  },
  {
   "cell_type": "code",
   "execution_count": 8,
   "id": "51f40075",
   "metadata": {},
   "outputs": [
    {
     "name": "stdout",
     "output_type": "stream",
     "text": [
      "Stored Limited DataFrame of 3 records: \n"
     ]
    },
    {
     "name": "stderr",
     "output_type": "stream",
     "text": [
      "[Stage 9:>                                                          (0 + 4) / 4]\r"
     ]
    },
    {
     "name": "stdout",
     "output_type": "stream",
     "text": [
      "+---+------+------+----------------+---+\n",
      "| id|  name|salary|      department|age|\n",
      "+---+------+------+----------------+---+\n",
      "|  8| Panta|125000|Business Analyst| 27|\n",
      "|  1| Manta| 75000|              IT| 24|\n",
      "|  3|Souvik| 60000|    Army Officer| 27|\n",
      "+---+------+------+----------------+---+\n",
      "\n"
     ]
    },
    {
     "name": "stderr",
     "output_type": "stream",
     "text": [
      "                                                                                \r"
     ]
    }
   ],
   "source": [
    "from pyspark.sql.functions import col\n",
    "\n",
    "df_limited = df.orderBy(col(\"salary\").desc()).limit(3)\n",
    "print(\"Stored Limited DataFrame of 3 records: \")\n",
    "df_limited.show()\n"
   ]
  },
  {
   "cell_type": "code",
   "execution_count": null,
   "id": "090e371d",
   "metadata": {},
   "outputs": [],
   "source": []
  }
 ],
 "metadata": {
  "kernelspec": {
   "display_name": "Python 3",
   "language": "python",
   "name": "python3"
  },
  "language_info": {
   "codemirror_mode": {
    "name": "ipython",
    "version": 3
   },
   "file_extension": ".py",
   "mimetype": "text/x-python",
   "name": "python",
   "nbconvert_exporter": "python",
   "pygments_lexer": "ipython3",
   "version": "3.12.11"
  }
 },
 "nbformat": 4,
 "nbformat_minor": 5
}
