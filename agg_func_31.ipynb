{
 "cells": [
  {
   "cell_type": "markdown",
   "id": "e75f08a5",
   "metadata": {},
   "source": [
    "- The agg() function in PySpark is used to perform multiple aggregate operations on a DataFrame.\n",
    "- It can be applied after groupBy() to aggregate data using functions like sum(), avg(), min(), max(), count(), etc."
   ]
  },
  {
   "cell_type": "code",
   "execution_count": 1,
   "id": "71b47973",
   "metadata": {},
   "outputs": [
    {
     "name": "stderr",
     "output_type": "stream",
     "text": [
      "WARNING: Using incubator modules: jdk.incubator.vector\n",
      "Using Spark's default log4j profile: org/apache/spark/log4j2-defaults.properties\n",
      "25/09/09 12:52:08 WARN Utils: Your hostname, KLZPC0015, resolves to a loopback address: 127.0.1.1; using 172.25.17.96 instead (on interface eth0)\n",
      "25/09/09 12:52:08 WARN Utils: Set SPARK_LOCAL_IP if you need to bind to another address\n",
      "Using Spark's default log4j profile: org/apache/spark/log4j2-defaults.properties\n",
      "Setting default log level to \"WARN\".\n",
      "To adjust logging level use sc.setLogLevel(newLevel). For SparkR, use setLogLevel(newLevel).\n",
      "25/09/09 12:52:22 WARN NativeCodeLoader: Unable to load native-hadoop library for your platform... using builtin-java classes where applicable\n"
     ]
    }
   ],
   "source": [
    "from pyspark.sql import SparkSession\n",
    "from pyspark.sql.functions import sum, avg, min, max, count\n",
    "\n",
    "spark = SparkSession.builder.appName(\"AggFunctionExample\").getOrCreate()\n"
   ]
  },
  {
   "cell_type": "code",
   "execution_count": 2,
   "id": "d79f89fc",
   "metadata": {},
   "outputs": [
    {
     "name": "stderr",
     "output_type": "stream",
     "text": [
      "                                                                                \r"
     ]
    },
    {
     "name": "stdout",
     "output_type": "stream",
     "text": [
      "+---+---------+------+--------------------+----+\n",
      "| id|     name|salary|          department| age|\n",
      "+---+---------+------+--------------------+----+\n",
      "|  1|    Manta| 75000|                  IT|  24|\n",
      "|  2| Dipankar| 30000|         Post Master|  27|\n",
      "|  3|   Souvik| 60000|        Army Officer|  27|\n",
      "|  4|Soukarjya| 45000|                 BDO|NULL|\n",
      "|  5|   Arvind| 35000|Business Data Ana...|  28|\n",
      "|  6| Prodipta| 25000|        Data Analyst|  28|\n",
      "|  7|    Padma| 20000|        Data Analyst|  27|\n",
      "|  8|    Panta|125000|    Business Analyst|  27|\n",
      "|  9|  Sougato| 25000|  Para Medical Stuff|  29|\n",
      "+---+---------+------+--------------------+----+\n",
      "\n"
     ]
    }
   ],
   "source": [
    "# create sample dataframes\n",
    "data = [\n",
    "    (1, \"Manta\", 75000, \"IT\", 24),\n",
    "    (2, \"Dipankar\", 30000, \"Post Master\", 27),\n",
    "    (3, \"Souvik\", 60000, \"Army Officer\", 27),\n",
    "    (4, \"Soukarjya\", 45000, \"BDO\", None),\n",
    "    (5, \"Arvind\", 35000, \"Business Data Analyst\", 28),\n",
    "    (6, \"Prodipta\", 25000, \"Data Analyst\", 28),\n",
    "    (7, \"Padma\", 20000, \"Data Analyst\", 27),\n",
    "    (8, \"Panta\", 125000, \"Business Analyst\", 27),\n",
    "    (9, \"Sougato\", 25000, \"Para Medical Stuff\", 29)\n",
    "]\n",
    "\n",
    "columns = [\"id\", \"name\", \"salary\", \"department\", \"age\"]\n",
    "\n",
    "df = spark.createDataFrame(data, schema=columns)\n",
    "df.show()\n"
   ]
  },
  {
   "cell_type": "code",
   "execution_count": null,
   "id": "82c16035",
   "metadata": {},
   "outputs": [
    {
     "name": "stdout",
     "output_type": "stream",
     "text": [
      "Aggregated Data using agg(): \n"
     ]
    },
    {
     "name": "stderr",
     "output_type": "stream",
     "text": [
      "[Stage 2:============================================>              (3 + 1) / 4]\r"
     ]
    },
    {
     "name": "stdout",
     "output_type": "stream",
     "text": [
      "+--------------------+------------+--------------+----------+----------+--------------+\n",
      "|          department|total_salary|average_salary|min_salary|max_salary|employee_count|\n",
      "+--------------------+------------+--------------+----------+----------+--------------+\n",
      "|         Post Master|       30000|       30000.0|     30000|     30000|             1|\n",
      "|                  IT|       75000|       75000.0|     75000|     75000|             1|\n",
      "|                 BDO|       45000|       45000.0|     45000|     45000|             1|\n",
      "|        Army Officer|       60000|       60000.0|     60000|     60000|             1|\n",
      "|        Data Analyst|       45000|       22500.0|     20000|     25000|             2|\n",
      "|Business Data Ana...|       35000|       35000.0|     35000|     35000|             1|\n",
      "|    Business Analyst|      125000|      125000.0|    125000|    125000|             1|\n",
      "|  Para Medical Stuff|       25000|       25000.0|     25000|     25000|             1|\n",
      "+--------------------+------------+--------------+----------+----------+--------------+\n",
      "\n"
     ]
    },
    {
     "name": "stderr",
     "output_type": "stream",
     "text": [
      "                                                                                \r"
     ]
    }
   ],
   "source": [
    "# agg() with groupBy() for multiple aggregate functions\n",
    "agg_df = df.groupBy(\"department\").agg(\n",
    "    sum(\"salary\").alias(\"total_salary\"),\n",
    "    avg(\"salary\").alias(\"average_salary\"),\n",
    "    min(\"salary\").alias(\"min_salary\"),\n",
    "    max(\"salary\").alias(\"max_salary\"),\n",
    "    count(\"name\").alias(\"employee_count\")\n",
    ")\n",
    "print(\"Aggregated Data using agg(): \")\n",
    "agg_df.show()\n"
   ]
  },
  {
   "cell_type": "code",
   "execution_count": null,
   "id": "d5ecf5b2",
   "metadata": {},
   "outputs": [
    {
     "name": "stdout",
     "output_type": "stream",
     "text": [
      "Overall aggregation without groupBy(): \n"
     ]
    },
    {
     "name": "stderr",
     "output_type": "stream",
     "text": [
      "[Stage 5:>                                                          (0 + 4) / 4]\r"
     ]
    },
    {
     "name": "stdout",
     "output_type": "stream",
     "text": [
      "+------------+-----------------+\n",
      "|total_salary|   average_salary|\n",
      "+------------+-----------------+\n",
      "|      440000|48888.88888888889|\n",
      "+------------+-----------------+\n",
      "\n"
     ]
    },
    {
     "name": "stderr",
     "output_type": "stream",
     "text": [
      "                                                                                \r"
     ]
    }
   ],
   "source": [
    "# agg() without groupBy() for overall aggregation\n",
    "overall_agg_df = df.agg(\n",
    "    sum(\"salary\").alias(\"total_salary\"),\n",
    "    avg(\"salary\").alias(\"average_salary\")\n",
    ")\n",
    "\n",
    "print(\"Overall aggregation without groupBy(): \")\n",
    "overall_agg_df.show()\n"
   ]
  },
  {
   "cell_type": "code",
   "execution_count": null,
   "id": "f326115a",
   "metadata": {},
   "outputs": [],
   "source": []
  }
 ],
 "metadata": {
  "kernelspec": {
   "display_name": "Python 3",
   "language": "python",
   "name": "python3"
  },
  "language_info": {
   "codemirror_mode": {
    "name": "ipython",
    "version": 3
   },
   "file_extension": ".py",
   "mimetype": "text/x-python",
   "name": "python",
   "nbconvert_exporter": "python",
   "pygments_lexer": "ipython3",
   "version": "3.12.11"
  }
 },
 "nbformat": 4,
 "nbformat_minor": 5
}
