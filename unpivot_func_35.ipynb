{
 "cells": [
  {
   "cell_type": "markdown",
   "id": "c082cfba",
   "metadata": {},
   "source": [
    "- Unpivot is the process of transforming columns into rows.\n",
    "- In PySpark, you can use the 'selectExpr()' function with the 'stack()' method to achieve unpivoting. It is the reverse operation of pivoting and is helpful for normalizing data.\n",
    "\n",
    "- syntax: \n",
    "    df.selectExpr(\"column1\", 'stack(n, \"col_name\", col_value, ...) as (new_col, new_val)')"
   ]
  },
  {
   "cell_type": "code",
   "execution_count": 1,
   "id": "57567db9",
   "metadata": {},
   "outputs": [
    {
     "name": "stderr",
     "output_type": "stream",
     "text": [
      "WARNING: Using incubator modules: jdk.incubator.vector\n",
      "Using Spark's default log4j profile: org/apache/spark/log4j2-defaults.properties\n",
      "25/09/10 14:36:17 WARN Utils: Your hostname, KLZPC0015, resolves to a loopback address: 127.0.1.1; using 172.25.17.96 instead (on interface eth0)\n",
      "25/09/10 14:36:17 WARN Utils: Set SPARK_LOCAL_IP if you need to bind to another address\n",
      "Using Spark's default log4j profile: org/apache/spark/log4j2-defaults.properties\n",
      "Setting default log level to \"WARN\".\n",
      "To adjust logging level use sc.setLogLevel(newLevel). For SparkR, use setLogLevel(newLevel).\n",
      "25/09/10 14:36:27 WARN NativeCodeLoader: Unable to load native-hadoop library for your platform... using builtin-java classes where applicable\n",
      "25/09/10 14:36:30 WARN Utils: Service 'SparkUI' could not bind on port 4040. Attempting port 4041.\n"
     ]
    }
   ],
   "source": [
    "from pyspark.sql import SparkSession\n",
    "\n",
    "spark = SparkSession.builder.appName(\"UnpivotFunctionExample\").getOrCreate()\n"
   ]
  },
  {
   "cell_type": "code",
   "execution_count": 3,
   "id": "5c5ca8cc",
   "metadata": {},
   "outputs": [
    {
     "name": "stderr",
     "output_type": "stream",
     "text": [
      "[Stage 1:===================>                                       (1 + 2) / 3]\r"
     ]
    },
    {
     "name": "stdout",
     "output_type": "stream",
     "text": [
      "+---+---------+----------+----------+----------+\n",
      "| id|     name|sales_2022|sales_2023|sales_2024|\n",
      "+---+---------+----------+----------+----------+\n",
      "|  1|    Manta|      NULL|       240|      NULL|\n",
      "|  2| Dipankar|      NULL|      NULL|       270|\n",
      "|  3|   Souvik|       270|      NULL|      NULL|\n",
      "|  4|Soukarjya|      NULL|      NULL|      NULL|\n",
      "|  5|   Arvind|       280|      NULL|      NULL|\n",
      "|  6| Prodipta|       280|      NULL|      NULL|\n",
      "|  7|    Padma|      NULL|      NULL|      NULL|\n",
      "|  8|    Panta|      NULL|       270|      NULL|\n",
      "|  9|  Sougato|       290|      NULL|      NULL|\n",
      "+---+---------+----------+----------+----------+\n",
      "\n"
     ]
    },
    {
     "name": "stderr",
     "output_type": "stream",
     "text": [
      "                                                                                \r"
     ]
    }
   ],
   "source": [
    "# create sample dataframes\n",
    "data = [\n",
    "    (1, \"Manta\",    None, 240, None),\n",
    "    (2, \"Dipankar\", None, None, 270),\n",
    "    (3, \"Souvik\",   270, None, None),\n",
    "    (4, \"Soukarjya\",None, None, None),\n",
    "    (5, \"Arvind\",   280, None, None),\n",
    "    (6, \"Prodipta\", 280, None, None),\n",
    "    (7, \"Padma\",    None, None, None),\n",
    "    (8, \"Panta\",    None, 270, None),\n",
    "    (9, \"Sougato\",  290, None, None),\n",
    "]\n",
    "\n",
    "columns = [\"id\", \"name\", \"sales_2022\", \"sales_2023\", \"sales_2024\"]\n",
    "\n",
    "df = spark.createDataFrame(data, schema=columns)\n",
    "df.show()\n"
   ]
  },
  {
   "cell_type": "code",
   "execution_count": 5,
   "id": "1ce4db65",
   "metadata": {},
   "outputs": [
    {
     "name": "stdout",
     "output_type": "stream",
     "text": [
      "Unpivoted DataFrame\n"
     ]
    },
    {
     "name": "stderr",
     "output_type": "stream",
     "text": [
      "                                                                                \r"
     ]
    },
    {
     "name": "stdout",
     "output_type": "stream",
     "text": [
      "+---------+----+-----+\n",
      "|     name|Year|Sales|\n",
      "+---------+----+-----+\n",
      "|    Manta|2022| NULL|\n",
      "|    Manta|2023|  240|\n",
      "|    Manta|2024| NULL|\n",
      "| Dipankar|2022| NULL|\n",
      "| Dipankar|2023| NULL|\n",
      "| Dipankar|2024|  270|\n",
      "|   Souvik|2022|  270|\n",
      "|   Souvik|2023| NULL|\n",
      "|   Souvik|2024| NULL|\n",
      "|Soukarjya|2022| NULL|\n",
      "|Soukarjya|2023| NULL|\n",
      "|Soukarjya|2024| NULL|\n",
      "|   Arvind|2022|  280|\n",
      "|   Arvind|2023| NULL|\n",
      "|   Arvind|2024| NULL|\n",
      "| Prodipta|2022|  280|\n",
      "| Prodipta|2023| NULL|\n",
      "| Prodipta|2024| NULL|\n",
      "|    Padma|2022| NULL|\n",
      "|    Padma|2023| NULL|\n",
      "+---------+----+-----+\n",
      "only showing top 20 rows\n"
     ]
    }
   ],
   "source": [
    "# unpivot the sales columns into two columns: Year and stack()\n",
    "unpivotDF = df.selectExpr(\n",
    "    \"name\",\n",
    "    \"stack(3, '2022', sales_2022, '2023', sales_2023, '2024', sales_2024) as (Year, Sales)\"\n",
    ")\n",
    "\n",
    "print(\"Unpivoted DataFrame\")\n",
    "unpivotDF.show()\n"
   ]
  },
  {
   "cell_type": "markdown",
   "id": "24d209a8",
   "metadata": {},
   "source": [
    "- Summary:\n",
    "    - Unpivoting transforms columns into rows.\n",
    "    - Useful for preparing data for analysis or reporting.\n",
    "    - stack(n, ...) allows you to unpivot columns easily in PySpark."
   ]
  },
  {
   "cell_type": "markdown",
   "id": "d61c4d9f",
   "metadata": {},
   "source": []
  }
 ],
 "metadata": {
  "kernelspec": {
   "display_name": "Python 3",
   "language": "python",
   "name": "python3"
  },
  "language_info": {
   "codemirror_mode": {
    "name": "ipython",
    "version": 3
   },
   "file_extension": ".py",
   "mimetype": "text/x-python",
   "name": "python",
   "nbconvert_exporter": "python",
   "pygments_lexer": "ipython3",
   "version": "3.12.11"
  }
 },
 "nbformat": 4,
 "nbformat_minor": 5
}
