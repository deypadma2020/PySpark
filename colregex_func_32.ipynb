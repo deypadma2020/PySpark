{
 "cells": [
  {
   "cell_type": "markdown",
   "id": "1165a074",
   "metadata": {},
   "source": [
    "- colRegex() allows you to select columns in a DataFrame using regular expressions."
   ]
  },
  {
   "cell_type": "code",
   "execution_count": 6,
   "id": "746561fb",
   "metadata": {},
   "outputs": [
    {
     "name": "stderr",
     "output_type": "stream",
     "text": [
      "WARNING: Using incubator modules: jdk.incubator.vector\n",
      "Using Spark's default log4j profile: org/apache/spark/log4j2-defaults.properties\n",
      "25/09/09 14:03:02 WARN Utils: Your hostname, KLZPC0015, resolves to a loopback address: 127.0.1.1; using 172.25.17.96 instead (on interface eth0)\n",
      "25/09/09 14:03:02 WARN Utils: Set SPARK_LOCAL_IP if you need to bind to another address\n",
      "Using Spark's default log4j profile: org/apache/spark/log4j2-defaults.properties\n",
      "Setting default log level to \"WARN\".\n",
      "To adjust logging level use sc.setLogLevel(newLevel). For SparkR, use setLogLevel(newLevel).\n",
      "25/09/09 14:03:17 WARN NativeCodeLoader: Unable to load native-hadoop library for your platform... using builtin-java classes where applicable\n",
      "25/09/09 14:03:17 WARN Utils: Service 'SparkUI' could not bind on port 4040. Attempting port 4041.\n",
      "25/09/09 14:03:17 WARN Utils: Service 'SparkUI' could not bind on port 4041. Attempting port 4042.\n"
     ]
    }
   ],
   "source": [
    "from pyspark.sql import SparkSession\n",
    "\n",
    "spark = SparkSession.builder.appName(\"colRegexFunctionExample\").getOrCreate()\n"
   ]
  },
  {
   "cell_type": "code",
   "execution_count": 7,
   "id": "c59c05d8",
   "metadata": {},
   "outputs": [
    {
     "name": "stderr",
     "output_type": "stream",
     "text": [
      "                                                                                \r"
     ]
    },
    {
     "name": "stdout",
     "output_type": "stream",
     "text": [
      "+---+---------+-----------+--------------------+----+\n",
      "| id|     name|dept_salary|           dept_name| age|\n",
      "+---+---------+-----------+--------------------+----+\n",
      "|  1|    Manta|      75000|                  IT|  24|\n",
      "|  2| Dipankar|      30000|         Post Master|  27|\n",
      "|  3|   Souvik|      60000|        Army Officer|  27|\n",
      "|  4|Soukarjya|      45000|                 BDO|NULL|\n",
      "|  5|   Arvind|      35000|Business Data Ana...|  28|\n",
      "|  6| Prodipta|      25000|        Data Analyst|  28|\n",
      "|  7|    Padma|      20000|        Data Analyst|  27|\n",
      "|  8|    Panta|     125000|    Business Analyst|  27|\n",
      "|  9|  Sougato|      25000|  Para Medical Stuff|  29|\n",
      "+---+---------+-----------+--------------------+----+\n",
      "\n"
     ]
    }
   ],
   "source": [
    "# create sample dataframes\n",
    "data = [\n",
    "    (1, \"Manta\", 75000, \"IT\", 24),\n",
    "    (2, \"Dipankar\", 30000, \"Post Master\", 27),\n",
    "    (3, \"Souvik\", 60000, \"Army Officer\", 27),\n",
    "    (4, \"Soukarjya\", 45000, \"BDO\", None),\n",
    "    (5, \"Arvind\", 35000, \"Business Data Analyst\", 28),\n",
    "    (6, \"Prodipta\", 25000, \"Data Analyst\", 28),\n",
    "    (7, \"Padma\", 20000, \"Data Analyst\", 27),\n",
    "    (8, \"Panta\", 125000, \"Business Analyst\", 27),\n",
    "    (9, \"Sougato\", 25000, \"Para Medical Stuff\", 29)\n",
    "]\n",
    "\n",
    "columns = [\"id\", \"name\", \"dept_salary\", \"dept_name\", \"age\"]\n",
    "\n",
    "df = spark.createDataFrame(data, schema=columns)\n",
    "df.show()\n"
   ]
  },
  {
   "cell_type": "code",
   "execution_count": 10,
   "id": "66b9cf08",
   "metadata": {},
   "outputs": [
    {
     "name": "stdout",
     "output_type": "stream",
     "text": [
      "Selecting columns that start with 'dept_': \n"
     ]
    },
    {
     "name": "stderr",
     "output_type": "stream",
     "text": [
      "[Stage 3:===================>                                       (1 + 2) / 3]\r"
     ]
    },
    {
     "name": "stdout",
     "output_type": "stream",
     "text": [
      "+-----------+--------------------+\n",
      "|dept_salary|           dept_name|\n",
      "+-----------+--------------------+\n",
      "|      75000|                  IT|\n",
      "|      30000|         Post Master|\n",
      "|      60000|        Army Officer|\n",
      "|      45000|                 BDO|\n",
      "|      35000|Business Data Ana...|\n",
      "|      25000|        Data Analyst|\n",
      "|      20000|        Data Analyst|\n",
      "|     125000|    Business Analyst|\n",
      "|      25000|  Para Medical Stuff|\n",
      "+-----------+--------------------+\n",
      "\n"
     ]
    },
    {
     "name": "stderr",
     "output_type": "stream",
     "text": [
      "                                                                                \r"
     ]
    }
   ],
   "source": [
    "# select columns that start with 'dept_'\n",
    "print(\"Selecting columns that start with 'dept_': \")\n",
    "df.select(df.colRegex(\"`dept_.*`\")).show()\n"
   ]
  },
  {
   "cell_type": "code",
   "execution_count": 12,
   "id": "0b981b3a",
   "metadata": {},
   "outputs": [
    {
     "name": "stdout",
     "output_type": "stream",
     "text": [
      "selecting columns that end with 'name': \n"
     ]
    },
    {
     "name": "stderr",
     "output_type": "stream",
     "text": [
      "[Stage 7:>                                                          (0 + 3) / 3]\r"
     ]
    },
    {
     "name": "stdout",
     "output_type": "stream",
     "text": [
      "+---------+--------------------+\n",
      "|     name|           dept_name|\n",
      "+---------+--------------------+\n",
      "|    Manta|                  IT|\n",
      "| Dipankar|         Post Master|\n",
      "|   Souvik|        Army Officer|\n",
      "|Soukarjya|                 BDO|\n",
      "|   Arvind|Business Data Ana...|\n",
      "| Prodipta|        Data Analyst|\n",
      "|    Padma|        Data Analyst|\n",
      "|    Panta|    Business Analyst|\n",
      "|  Sougato|  Para Medical Stuff|\n",
      "+---------+--------------------+\n",
      "\n"
     ]
    },
    {
     "name": "stderr",
     "output_type": "stream",
     "text": [
      "                                                                                \r"
     ]
    }
   ],
   "source": [
    "# select columns that end with 'name'\n",
    "print(\"selecting columns that end with 'name': \")\n",
    "df.select(df.colRegex(\"`.*name$`\")).show()\n"
   ]
  },
  {
   "cell_type": "code",
   "execution_count": 13,
   "id": "3c71b518",
   "metadata": {},
   "outputs": [
    {
     "name": "stdout",
     "output_type": "stream",
     "text": [
      "selecting columns that contain 'sal': \n"
     ]
    },
    {
     "name": "stderr",
     "output_type": "stream",
     "text": [
      "[Stage 9:>                                                          (0 + 3) / 3]\r"
     ]
    },
    {
     "name": "stdout",
     "output_type": "stream",
     "text": [
      "+-----------+\n",
      "|dept_salary|\n",
      "+-----------+\n",
      "|      75000|\n",
      "|      30000|\n",
      "|      60000|\n",
      "|      45000|\n",
      "|      35000|\n",
      "|      25000|\n",
      "|      20000|\n",
      "|     125000|\n",
      "|      25000|\n",
      "+-----------+\n",
      "\n"
     ]
    },
    {
     "name": "stderr",
     "output_type": "stream",
     "text": [
      "                                                                                \r"
     ]
    }
   ],
   "source": [
    "# select columns that contain 'sal' \n",
    "print(\"selecting columns that contain 'sal': \")\n",
    "df.select(df.colRegex(\"`.*sal.*`\")).show()\n"
   ]
  },
  {
   "cell_type": "code",
   "execution_count": null,
   "id": "0398bb27",
   "metadata": {},
   "outputs": [],
   "source": []
  }
 ],
 "metadata": {
  "kernelspec": {
   "display_name": "Python 3",
   "language": "python",
   "name": "python3"
  },
  "language_info": {
   "codemirror_mode": {
    "name": "ipython",
    "version": 3
   },
   "file_extension": ".py",
   "mimetype": "text/x-python",
   "name": "python",
   "nbconvert_exporter": "python",
   "pygments_lexer": "ipython3",
   "version": "3.12.11"
  }
 },
 "nbformat": 4,
 "nbformat_minor": 5
}
