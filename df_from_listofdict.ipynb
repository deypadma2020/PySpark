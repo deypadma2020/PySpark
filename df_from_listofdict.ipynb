{
 "cells": [
  {
   "cell_type": "code",
   "execution_count": null,
   "id": "8801ff89",
   "metadata": {},
   "outputs": [],
   "source": [
    "from pyspark.sql import SparkSession, Row\n",
    "\n",
    "spark = SparkSession.builder.appName(\"RowExample\").getOrCreate()\n"
   ]
  },
  {
   "cell_type": "markdown",
   "id": "db02daed",
   "metadata": {},
   "source": [
    "### Creating DataFrame from a List of Tuples (Static Values)"
   ]
  },
  {
   "cell_type": "code",
   "execution_count": null,
   "id": "d816f8dc",
   "metadata": {},
   "outputs": [],
   "source": [
    "data = [\n",
    "    {\"id\": 1, \"name\": \"Souvik\", \"age\": 26},\n",
    "    {\"id\": 2, \"name\": \"Soukajya\", \"age\": 26},\n",
    "    {\"id\": 3, \"name\": \"Akash\", \"age\": 27}\n",
    "]\n"
   ]
  },
  {
   "cell_type": "code",
   "execution_count": null,
   "id": "5c26635d",
   "metadata": {},
   "outputs": [],
   "source": [
    "df = spark.createDataFrame(data)\n",
    "df.show()\n"
   ]
  },
  {
   "cell_type": "code",
   "execution_count": null,
   "id": "5b3d4039",
   "metadata": {},
   "outputs": [],
   "source": [
    "df.printSchema()\n"
   ]
  }
 ],
 "metadata": {
  "language_info": {
   "name": "python"
  }
 },
 "nbformat": 4,
 "nbformat_minor": 5
}
