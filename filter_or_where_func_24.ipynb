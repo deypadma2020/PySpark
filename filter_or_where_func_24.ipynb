{
 "cells": [
  {
   "cell_type": "markdown",
   "id": "68e168b7",
   "metadata": {},
   "source": [
    "The filter() function in PySpark is used to filter rows in a DataFrame, based on a condition. It returns only the rows that satisfy the condition.\n",
    "\n",
    "You can use filter() or where() - they work the same way."
   ]
  },
  {
   "cell_type": "code",
   "execution_count": 1,
   "id": "e7ccd724",
   "metadata": {},
   "outputs": [
    {
     "name": "stderr",
     "output_type": "stream",
     "text": [
      "WARNING: Using incubator modules: jdk.incubator.vector\n",
      "Using Spark's default log4j profile: org/apache/spark/log4j2-defaults.properties\n",
      "25/09/08 07:38:06 WARN Utils: Your hostname, KLZPC0015, resolves to a loopback address: 127.0.1.1; using 172.25.17.96 instead (on interface eth0)\n",
      "25/09/08 07:38:06 WARN Utils: Set SPARK_LOCAL_IP if you need to bind to another address\n",
      "Using Spark's default log4j profile: org/apache/spark/log4j2-defaults.properties\n",
      "Setting default log level to \"WARN\".\n",
      "To adjust logging level use sc.setLogLevel(newLevel). For SparkR, use setLogLevel(newLevel).\n",
      "25/09/08 07:38:17 WARN NativeCodeLoader: Unable to load native-hadoop library for your platform... using builtin-java classes where applicable\n",
      "25/09/08 07:38:19 WARN Utils: Service 'SparkUI' could not bind on port 4040. Attempting port 4041.\n"
     ]
    }
   ],
   "source": [
    "from pyspark.sql import SparkSession\n",
    "\n",
    "spark = SparkSession.builder.appName(\"PySparkFilterFunction\").getOrCreate()\n"
   ]
  },
  {
   "cell_type": "code",
   "execution_count": 9,
   "id": "613c2df4",
   "metadata": {},
   "outputs": [
    {
     "name": "stderr",
     "output_type": "stream",
     "text": [
      "[Stage 11:======================================>                   (2 + 1) / 3]\r"
     ]
    },
    {
     "name": "stdout",
     "output_type": "stream",
     "text": [
      "+---+---------+------+--------------------+----+\n",
      "| id|     name|salary|          department| age|\n",
      "+---+---------+------+--------------------+----+\n",
      "|  1|    Manta| 75000|                  IT|  24|\n",
      "|  2| Dipankar| 30000|         Post Master|  27|\n",
      "|  3|   Souvik| 60000|        Army Officer|  27|\n",
      "|  4|Soukarjya| 45000|                 BDO|NULL|\n",
      "|  5|   Arvind| 35000|Business Data Ana...|  28|\n",
      "|  6| Prodipta| 25000|        Data Analyst|  28|\n",
      "|  7|    Padma| 20000|        Data Analyst|  27|\n",
      "|  8|    Panta|125000|    Business Analyst|  27|\n",
      "|  9|  Sougato| 25000|  Para Medical Stuff|  29|\n",
      "+---+---------+------+--------------------+----+\n",
      "\n"
     ]
    },
    {
     "name": "stderr",
     "output_type": "stream",
     "text": [
      "                                                                                \r"
     ]
    }
   ],
   "source": [
    "# create sample dataframes\n",
    "data = [\n",
    "    (1, \"Manta\", 75000, \"IT\", 24),\n",
    "    (2, \"Dipankar\", 30000, \"Post Master\", 27),\n",
    "    (3, \"Souvik\", 60000, \"Army Officer\", 27),\n",
    "    (4, \"Soukarjya\", 45000, \"BDO\", None),\n",
    "    (5, \"Arvind\", 35000, \"Business Data Analyst\", 28),\n",
    "    (6, \"Prodipta\", 25000, \"Data Analyst\", 28),\n",
    "    (7, \"Padma\", 20000, \"Data Analyst\", 27),\n",
    "    (8, \"Panta\", 125000, \"Business Analyst\", 27),\n",
    "    (9, \"Sougato\", 25000, \"Para Medical Stuff\", 29)\n",
    "]\n",
    "\n",
    "columns = [\"id\", \"name\", \"salary\", \"department\", \"age\"]\n",
    "\n",
    "df = spark.createDataFrame(data, schema=columns)\n",
    "df.show()\n"
   ]
  },
  {
   "cell_type": "code",
   "execution_count": 10,
   "id": "f7530652",
   "metadata": {},
   "outputs": [
    {
     "name": "stdout",
     "output_type": "stream",
     "text": [
      "Employees in Data Analyst department\n"
     ]
    },
    {
     "name": "stderr",
     "output_type": "stream",
     "text": [
      "[Stage 13:>                                                         (0 + 3) / 3]\r"
     ]
    },
    {
     "name": "stdout",
     "output_type": "stream",
     "text": [
      "+---+--------+------+------------+---+\n",
      "| id|    name|salary|  department|age|\n",
      "+---+--------+------+------------+---+\n",
      "|  6|Prodipta| 25000|Data Analyst| 28|\n",
      "|  7|   Padma| 20000|Data Analyst| 27|\n",
      "+---+--------+------+------------+---+\n",
      "\n"
     ]
    },
    {
     "name": "stderr",
     "output_type": "stream",
     "text": [
      "                                                                                \r"
     ]
    }
   ],
   "source": [
    "# filter() - Filter rows where Department is 'Data Analyst'\n",
    "print(\"Employees in Data Analyst department\")\n",
    "\n",
    "df.filter(df.department == \"Data Analyst\").show()\n"
   ]
  },
  {
   "cell_type": "code",
   "execution_count": 11,
   "id": "28a44269",
   "metadata": {},
   "outputs": [
    {
     "name": "stdout",
     "output_type": "stream",
     "text": [
      "Employees with salary greater than 50000: \n"
     ]
    },
    {
     "name": "stderr",
     "output_type": "stream",
     "text": [
      "[Stage 15:>                                                         (0 + 3) / 3]\r"
     ]
    },
    {
     "name": "stdout",
     "output_type": "stream",
     "text": [
      "+---+------+------+----------------+---+\n",
      "| id|  name|salary|      department|age|\n",
      "+---+------+------+----------------+---+\n",
      "|  1| Manta| 75000|              IT| 24|\n",
      "|  3|Souvik| 60000|    Army Officer| 27|\n",
      "|  8| Panta|125000|Business Analyst| 27|\n",
      "+---+------+------+----------------+---+\n",
      "\n"
     ]
    },
    {
     "name": "stderr",
     "output_type": "stream",
     "text": [
      "                                                                                \r"
     ]
    }
   ],
   "source": [
    "# Filter rows where salary is greater than 50000\n",
    "\n",
    "print(\"Employees with salary greater than 50000: \")\n",
    "df.filter(df.salary > 50000).show()\n"
   ]
  },
  {
   "cell_type": "code",
   "execution_count": 12,
   "id": "1014b111",
   "metadata": {},
   "outputs": [
    {
     "name": "stdout",
     "output_type": "stream",
     "text": [
      "Employees in Data Analyst department with salary > 20000: \n"
     ]
    },
    {
     "name": "stderr",
     "output_type": "stream",
     "text": [
      "[Stage 17:>                                                         (0 + 3) / 3]\r"
     ]
    },
    {
     "name": "stdout",
     "output_type": "stream",
     "text": [
      "+---+--------+------+------------+---+\n",
      "| id|    name|salary|  department|age|\n",
      "+---+--------+------+------------+---+\n",
      "|  6|Prodipta| 25000|Data Analyst| 28|\n",
      "+---+--------+------+------------+---+\n",
      "\n"
     ]
    },
    {
     "name": "stderr",
     "output_type": "stream",
     "text": [
      "                                                                                \r"
     ]
    }
   ],
   "source": [
    "# Filter rows with multiple conditions (AND)\n",
    "print(\"Employees in Data Analyst department with salary > 20000: \")\n",
    "df.filter((df.department == \"Data Analyst\") & (df.salary > 20000)).show()\n"
   ]
  },
  {
   "cell_type": "code",
   "execution_count": 15,
   "id": "ab59ca1c",
   "metadata": {},
   "outputs": [
    {
     "name": "stdout",
     "output_type": "stream",
     "text": [
      "Employees in age 27 OR salary > 50000: \n"
     ]
    },
    {
     "name": "stderr",
     "output_type": "stream",
     "text": [
      "                                                                                \r"
     ]
    },
    {
     "name": "stdout",
     "output_type": "stream",
     "text": [
      "+---+--------+------+----------------+---+\n",
      "| id|    name|salary|      department|age|\n",
      "+---+--------+------+----------------+---+\n",
      "|  1|   Manta| 75000|              IT| 24|\n",
      "|  2|Dipankar| 30000|     Post Master| 27|\n",
      "|  3|  Souvik| 60000|    Army Officer| 27|\n",
      "|  7|   Padma| 20000|    Data Analyst| 27|\n",
      "|  8|   Panta|125000|Business Analyst| 27|\n",
      "+---+--------+------+----------------+---+\n",
      "\n"
     ]
    },
    {
     "name": "stderr",
     "output_type": "stream",
     "text": [
      "                                                                                \r"
     ]
    },
    {
     "name": "stdout",
     "output_type": "stream",
     "text": [
      "+---+--------+------+----------------+---+\n",
      "| id|    name|salary|      department|age|\n",
      "+---+--------+------+----------------+---+\n",
      "|  1|   Manta| 75000|              IT| 24|\n",
      "|  2|Dipankar| 30000|     Post Master| 27|\n",
      "|  3|  Souvik| 60000|    Army Officer| 27|\n",
      "|  7|   Padma| 20000|    Data Analyst| 27|\n",
      "|  8|   Panta|125000|Business Analyst| 27|\n",
      "+---+--------+------+----------------+---+\n",
      "\n"
     ]
    },
    {
     "name": "stderr",
     "output_type": "stream",
     "text": [
      "                                                                                \r"
     ]
    },
    {
     "name": "stdout",
     "output_type": "stream",
     "text": [
      "+---+--------+------+----------------+---+\n",
      "| id|    name|salary|      department|age|\n",
      "+---+--------+------+----------------+---+\n",
      "|  1|   Manta| 75000|              IT| 24|\n",
      "|  2|Dipankar| 30000|     Post Master| 27|\n",
      "|  3|  Souvik| 60000|    Army Officer| 27|\n",
      "|  7|   Padma| 20000|    Data Analyst| 27|\n",
      "|  8|   Panta|125000|Business Analyst| 27|\n",
      "+---+--------+------+----------------+---+\n",
      "\n"
     ]
    }
   ],
   "source": [
    "# filter rows with mutiple conditions (OR)\n",
    "print(\"Employees in age 27 OR salary > 50000: \")\n",
    "df.filter((df.age == 27) | (df.salary > 50000)).show()\n",
    "\n",
    "# another method - Cast the column safely with try_cast\n",
    "from pyspark.sql.functions import expr\n",
    "\n",
    "df = df.withColumn(\"age\", expr(\"try_cast(age as int)\"))\n",
    "df.filter((df.age==27)| (df.salary > 50000)).show()\n",
    "\n",
    "# another method - Filter out bad values before comparing\n",
    "df.filter(\n",
    "    ((df.age == 27) | (df.salary >50000)) & (df.age.isNotNull())\n",
    ").show()\n"
   ]
  },
  {
   "cell_type": "code",
   "execution_count": 17,
   "id": "9c21e5e6",
   "metadata": {},
   "outputs": [
    {
     "name": "stdout",
     "output_type": "stream",
     "text": [
      "Employees whose names are either Padma or Panta: \n"
     ]
    },
    {
     "name": "stderr",
     "output_type": "stream",
     "text": [
      "[Stage 31:===================>                                      (1 + 2) / 3]\r"
     ]
    },
    {
     "name": "stdout",
     "output_type": "stream",
     "text": [
      "+---+-----+------+----------------+---+\n",
      "| id| name|salary|      department|age|\n",
      "+---+-----+------+----------------+---+\n",
      "|  7|Padma| 20000|    Data Analyst| 27|\n",
      "|  8|Panta|125000|Business Analyst| 27|\n",
      "+---+-----+------+----------------+---+\n",
      "\n"
     ]
    },
    {
     "name": "stderr",
     "output_type": "stream",
     "text": [
      "                                                                                \r"
     ]
    }
   ],
   "source": [
    "# filter() with isin() to filter multiple names\n",
    "print(\"Employees whose names are either Padma or Panta: \")\n",
    "df.filter(df.name.isin(\"Padma\", \"Panta\")).show()\n"
   ]
  },
  {
   "cell_type": "code",
   "execution_count": null,
   "id": "17728d7a",
   "metadata": {},
   "outputs": [],
   "source": []
  }
 ],
 "metadata": {
  "kernelspec": {
   "display_name": "Python 3",
   "language": "python",
   "name": "python3"
  },
  "language_info": {
   "codemirror_mode": {
    "name": "ipython",
    "version": 3
   },
   "file_extension": ".py",
   "mimetype": "text/x-python",
   "name": "python",
   "nbconvert_exporter": "python",
   "pygments_lexer": "ipython3",
   "version": "3.12.11"
  }
 },
 "nbformat": 4,
 "nbformat_minor": 5
}
